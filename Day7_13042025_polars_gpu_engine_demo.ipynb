{
  "nbformat": 4,
  "nbformat_minor": 0,
  "metadata": {
    "colab": {
      "provenance": [],
      "gpuType": "T4"
    },
    "kernelspec": {
      "name": "python3",
      "display_name": "Python 3"
    },
    "language_info": {
      "name": "python"
    },
    "accelerator": "GPU"
  },
  "cells": [
    {
      "cell_type": "code",
      "execution_count": 11,
      "metadata": {
        "colab": {
          "base_uri": "https://localhost:8080/"
        },
        "id": "9q-MQu5xEzwg",
        "outputId": "b0d7da65-bd7c-43fd-8cde-40a29157cef4"
      },
      "outputs": [
        {
          "output_type": "stream",
          "name": "stdout",
          "text": [
            "Looking in indexes: https://pypi.org/simple, https://pypi.nvidia.com\n",
            "Requirement already satisfied: polars[gpu] in /usr/local/lib/python3.11/dist-packages (1.25.2)\n",
            "Collecting polars[gpu]\n",
            "  Using cached polars-1.27.1-cp39-abi3-manylinux_2_17_x86_64.manylinux2014_x86_64.whl.metadata (14 kB)\n",
            "Requirement already satisfied: cudf-polars-cu12 in /usr/local/lib/python3.11/dist-packages (from polars[gpu]) (25.4.0)\n",
            "INFO: pip is looking at multiple versions of cudf-polars-cu12 to determine which version is compatible with other requirements. This could take a while.\n",
            "Collecting cudf-polars-cu12 (from polars[gpu])\n",
            "  Downloading https://pypi.nvidia.com/cudf-polars-cu12/cudf_polars_cu12-25.2.2-py3-none-any.whl (91 kB)\n",
            "\u001b[2K     \u001b[90m━━━━━━━━━━━━━━━━━━━━━━━━━━━━━━━━━━━━━━━━\u001b[0m \u001b[32m91.6/91.6 kB\u001b[0m \u001b[31m2.0 MB/s\u001b[0m eta \u001b[36m0:00:00\u001b[0m\n",
            "\u001b[?25h  Downloading https://pypi.nvidia.com/cudf-polars-cu12/cudf_polars_cu12-25.2.1-py3-none-any.whl (91 kB)\n",
            "\u001b[2K     \u001b[90m━━━━━━━━━━━━━━━━━━━━━━━━━━━━━━━━━━━━━━━━\u001b[0m \u001b[32m91.6/91.6 kB\u001b[0m \u001b[31m6.3 MB/s\u001b[0m eta \u001b[36m0:00:00\u001b[0m\n",
            "\u001b[?25h  Downloading https://pypi.nvidia.com/cudf-polars-cu12/cudf_polars_cu12-25.2.0-py3-none-any.whl (91 kB)\n",
            "\u001b[2K     \u001b[90m━━━━━━━━━━━━━━━━━━━━━━━━━━━━━━━━━━━━━━━━\u001b[0m \u001b[32m91.4/91.4 kB\u001b[0m \u001b[31m14.9 MB/s\u001b[0m eta \u001b[36m0:00:00\u001b[0m\n",
            "\u001b[?25h  Downloading https://pypi.nvidia.com/cudf-polars-cu12/cudf_polars_cu12-24.12.0-py3-none-any.whl (79 kB)\n",
            "\u001b[2K     \u001b[90m━━━━━━━━━━━━━━━━━━━━━━━━━━━━━━━━━━━━━━━━\u001b[0m \u001b[32m79.5/79.5 kB\u001b[0m \u001b[31m65.9 MB/s\u001b[0m eta \u001b[36m0:00:00\u001b[0m\n",
            "\u001b[?25h  Downloading https://pypi.nvidia.com/cudf-polars-cu12/cudf_polars_cu12-24.10.1-py3-none-any.whl (53 kB)\n",
            "\u001b[2K     \u001b[90m━━━━━━━━━━━━━━━━━━━━━━━━━━━━━━━━━━━━━━━━\u001b[0m \u001b[32m53.4/53.4 kB\u001b[0m \u001b[31m52.4 MB/s\u001b[0m eta \u001b[36m0:00:00\u001b[0m\n",
            "\u001b[?25hCollecting polars[gpu]\n",
            "  Using cached polars-1.27.0-cp39-abi3-manylinux_2_17_x86_64.manylinux2014_x86_64.whl.metadata (14 kB)\n",
            "INFO: pip is still looking at multiple versions of cudf-polars-cu12 to determine which version is compatible with other requirements. This could take a while.\n",
            "  Using cached polars-1.26.0-cp39-abi3-manylinux_2_17_x86_64.manylinux2014_x86_64.whl.metadata (14 kB)\n",
            "INFO: This is taking longer than usual. You might need to provide the dependency resolver with stricter constraints to reduce runtime. See https://pip.pypa.io/warnings/backtracking for guidance. If you want to abort this run, press Ctrl + C.\n",
            "Requirement already satisfied: pylibcudf-cu12==25.4.* in /usr/local/lib/python3.11/dist-packages (from cudf-polars-cu12->polars[gpu]) (25.4.0)\n",
            "Requirement already satisfied: cuda-python<13.0a0,>=12.6.2 in /usr/local/lib/python3.11/dist-packages (from pylibcudf-cu12==25.4.*->cudf-polars-cu12->polars[gpu]) (12.6.2.post1)\n",
            "Requirement already satisfied: libcudf-cu12==25.4.* in /usr/local/lib/python3.11/dist-packages (from pylibcudf-cu12==25.4.*->cudf-polars-cu12->polars[gpu]) (25.4.0)\n",
            "Requirement already satisfied: nvtx>=0.2.1 in /usr/local/lib/python3.11/dist-packages (from pylibcudf-cu12==25.4.*->cudf-polars-cu12->polars[gpu]) (0.2.11)\n",
            "Requirement already satisfied: packaging in /usr/local/lib/python3.11/dist-packages (from pylibcudf-cu12==25.4.*->cudf-polars-cu12->polars[gpu]) (24.2)\n",
            "Requirement already satisfied: pyarrow<20.0.0a0,>=14.0.0 in /usr/local/lib/python3.11/dist-packages (from pylibcudf-cu12==25.4.*->cudf-polars-cu12->polars[gpu]) (18.1.0)\n",
            "Requirement already satisfied: rmm-cu12==25.4.* in /usr/local/lib/python3.11/dist-packages (from pylibcudf-cu12==25.4.*->cudf-polars-cu12->polars[gpu]) (25.4.0)\n",
            "Requirement already satisfied: typing_extensions>=4.0.0 in /usr/local/lib/python3.11/dist-packages (from pylibcudf-cu12==25.4.*->cudf-polars-cu12->polars[gpu]) (4.13.1)\n",
            "Requirement already satisfied: libkvikio-cu12==25.4.* in /usr/local/lib/python3.11/dist-packages (from libcudf-cu12==25.4.*->pylibcudf-cu12==25.4.*->cudf-polars-cu12->polars[gpu]) (25.4.0)\n",
            "Requirement already satisfied: librmm-cu12==25.4.* in /usr/local/lib/python3.11/dist-packages (from libcudf-cu12==25.4.*->pylibcudf-cu12==25.4.*->cudf-polars-cu12->polars[gpu]) (25.4.0)\n",
            "Requirement already satisfied: nvidia-nvcomp-cu12==4.2.0.11 in /usr/local/lib/python3.11/dist-packages (from libcudf-cu12==25.4.*->pylibcudf-cu12==25.4.*->cudf-polars-cu12->polars[gpu]) (4.2.0.11)\n",
            "Requirement already satisfied: rapids-logger==0.1.* in /usr/local/lib/python3.11/dist-packages (from libcudf-cu12==25.4.*->pylibcudf-cu12==25.4.*->cudf-polars-cu12->polars[gpu]) (0.1.1)\n",
            "Requirement already satisfied: numpy<3.0a0,>=1.23 in /usr/local/lib/python3.11/dist-packages (from rmm-cu12==25.4.*->pylibcudf-cu12==25.4.*->cudf-polars-cu12->polars[gpu]) (2.0.2)\n"
          ]
        }
      ],
      "source": [
        "## Installing the polars gpu engine\n",
        "\n",
        "!pip install -U polars[gpu] --extra-index-url=https://pypi.nvidia.com\n"
      ]
    },
    {
      "cell_type": "code",
      "source": [
        "!pip install hvplot jupyter_bokeh holoviews==1.19 pynvml ## visualization capabilities of polar"
      ],
      "metadata": {
        "colab": {
          "base_uri": "https://localhost:8080/"
        },
        "id": "WXrh1PYBFA-Q",
        "outputId": "4698c798-14f7-40b7-b3e7-3ace9bbfbcc3"
      },
      "execution_count": 12,
      "outputs": [
        {
          "output_type": "stream",
          "name": "stdout",
          "text": [
            "Requirement already satisfied: hvplot in /usr/local/lib/python3.11/dist-packages (0.11.2)\n",
            "Requirement already satisfied: jupyter_bokeh in /usr/local/lib/python3.11/dist-packages (4.0.5)\n",
            "Requirement already satisfied: holoviews==1.19 in /usr/local/lib/python3.11/dist-packages (1.19.0)\n",
            "Requirement already satisfied: pynvml in /usr/local/lib/python3.11/dist-packages (12.0.0)\n",
            "Requirement already satisfied: bokeh>=3.1 in /usr/local/lib/python3.11/dist-packages (from holoviews==1.19) (3.6.3)\n",
            "Requirement already satisfied: colorcet in /usr/local/lib/python3.11/dist-packages (from holoviews==1.19) (3.1.0)\n",
            "Requirement already satisfied: numpy>=1.21 in /usr/local/lib/python3.11/dist-packages (from holoviews==1.19) (2.0.2)\n",
            "Requirement already satisfied: packaging in /usr/local/lib/python3.11/dist-packages (from holoviews==1.19) (24.2)\n",
            "Requirement already satisfied: pandas>=1.3 in /usr/local/lib/python3.11/dist-packages (from holoviews==1.19) (2.2.2)\n",
            "Requirement already satisfied: panel>=1.0 in /usr/local/lib/python3.11/dist-packages (from holoviews==1.19) (1.6.2)\n",
            "Requirement already satisfied: param<3.0,>=2.0 in /usr/local/lib/python3.11/dist-packages (from holoviews==1.19) (2.2.0)\n",
            "Requirement already satisfied: pyviz-comms>=2.1 in /usr/local/lib/python3.11/dist-packages (from holoviews==1.19) (3.0.4)\n",
            "Requirement already satisfied: ipywidgets==8.* in /usr/local/lib/python3.11/dist-packages (from jupyter_bokeh) (8.1.6)\n",
            "Requirement already satisfied: Jinja2>=2.9 in /usr/local/lib/python3.11/dist-packages (from bokeh>=3.1->holoviews==1.19) (3.1.6)\n",
            "Requirement already satisfied: contourpy>=1.2 in /usr/local/lib/python3.11/dist-packages (from bokeh>=3.1->holoviews==1.19) (1.3.1)\n",
            "Requirement already satisfied: pillow>=7.1.0 in /usr/local/lib/python3.11/dist-packages (from bokeh>=3.1->holoviews==1.19) (11.1.0)\n",
            "Requirement already satisfied: PyYAML>=3.10 in /usr/local/lib/python3.11/dist-packages (from bokeh>=3.1->holoviews==1.19) (6.0.2)\n",
            "Requirement already satisfied: tornado>=6.2 in /usr/local/lib/python3.11/dist-packages (from bokeh>=3.1->holoviews==1.19) (6.4.2)\n",
            "Requirement already satisfied: xyzservices>=2021.09.1 in /usr/local/lib/python3.11/dist-packages (from bokeh>=3.1->holoviews==1.19) (2025.1.0)\n",
            "Requirement already satisfied: comm>=0.1.3 in /usr/local/lib/python3.11/dist-packages (from ipywidgets==8.*->jupyter_bokeh) (0.2.2)\n",
            "Requirement already satisfied: ipython>=6.1.0 in /usr/local/lib/python3.11/dist-packages (from ipywidgets==8.*->jupyter_bokeh) (7.34.0)\n",
            "Requirement already satisfied: traitlets>=4.3.1 in /usr/local/lib/python3.11/dist-packages (from ipywidgets==8.*->jupyter_bokeh) (5.7.1)\n",
            "Requirement already satisfied: widgetsnbextension~=4.0.14 in /usr/local/lib/python3.11/dist-packages (from ipywidgets==8.*->jupyter_bokeh) (4.0.14)\n",
            "Requirement already satisfied: jupyterlab_widgets~=3.0.14 in /usr/local/lib/python3.11/dist-packages (from ipywidgets==8.*->jupyter_bokeh) (3.0.14)\n",
            "Requirement already satisfied: nvidia-ml-py<13.0.0a0,>=12.0.0 in /usr/local/lib/python3.11/dist-packages (from pynvml) (12.570.86)\n",
            "Requirement already satisfied: python-dateutil>=2.8.2 in /usr/local/lib/python3.11/dist-packages (from pandas>=1.3->holoviews==1.19) (2.8.2)\n",
            "Requirement already satisfied: pytz>=2020.1 in /usr/local/lib/python3.11/dist-packages (from pandas>=1.3->holoviews==1.19) (2025.2)\n",
            "Requirement already satisfied: tzdata>=2022.7 in /usr/local/lib/python3.11/dist-packages (from pandas>=1.3->holoviews==1.19) (2025.2)\n",
            "Requirement already satisfied: bleach in /usr/local/lib/python3.11/dist-packages (from panel>=1.0->holoviews==1.19) (6.2.0)\n",
            "Requirement already satisfied: linkify-it-py in /usr/local/lib/python3.11/dist-packages (from panel>=1.0->holoviews==1.19) (2.0.3)\n",
            "Requirement already satisfied: markdown in /usr/local/lib/python3.11/dist-packages (from panel>=1.0->holoviews==1.19) (3.7)\n",
            "Requirement already satisfied: markdown-it-py in /usr/local/lib/python3.11/dist-packages (from panel>=1.0->holoviews==1.19) (3.0.0)\n",
            "Requirement already satisfied: mdit-py-plugins in /usr/local/lib/python3.11/dist-packages (from panel>=1.0->holoviews==1.19) (0.4.2)\n",
            "Requirement already satisfied: requests in /usr/local/lib/python3.11/dist-packages (from panel>=1.0->holoviews==1.19) (2.32.3)\n",
            "Requirement already satisfied: tqdm in /usr/local/lib/python3.11/dist-packages (from panel>=1.0->holoviews==1.19) (4.67.1)\n",
            "Requirement already satisfied: typing-extensions in /usr/local/lib/python3.11/dist-packages (from panel>=1.0->holoviews==1.19) (4.13.1)\n",
            "Requirement already satisfied: setuptools>=18.5 in /usr/local/lib/python3.11/dist-packages (from ipython>=6.1.0->ipywidgets==8.*->jupyter_bokeh) (75.2.0)\n",
            "Requirement already satisfied: jedi>=0.16 in /usr/local/lib/python3.11/dist-packages (from ipython>=6.1.0->ipywidgets==8.*->jupyter_bokeh) (0.19.2)\n",
            "Requirement already satisfied: decorator in /usr/local/lib/python3.11/dist-packages (from ipython>=6.1.0->ipywidgets==8.*->jupyter_bokeh) (4.4.2)\n",
            "Requirement already satisfied: pickleshare in /usr/local/lib/python3.11/dist-packages (from ipython>=6.1.0->ipywidgets==8.*->jupyter_bokeh) (0.7.5)\n",
            "Requirement already satisfied: prompt-toolkit!=3.0.0,!=3.0.1,<3.1.0,>=2.0.0 in /usr/local/lib/python3.11/dist-packages (from ipython>=6.1.0->ipywidgets==8.*->jupyter_bokeh) (3.0.50)\n",
            "Requirement already satisfied: pygments in /usr/local/lib/python3.11/dist-packages (from ipython>=6.1.0->ipywidgets==8.*->jupyter_bokeh) (2.18.0)\n",
            "Requirement already satisfied: backcall in /usr/local/lib/python3.11/dist-packages (from ipython>=6.1.0->ipywidgets==8.*->jupyter_bokeh) (0.2.0)\n",
            "Requirement already satisfied: matplotlib-inline in /usr/local/lib/python3.11/dist-packages (from ipython>=6.1.0->ipywidgets==8.*->jupyter_bokeh) (0.1.7)\n",
            "Requirement already satisfied: pexpect>4.3 in /usr/local/lib/python3.11/dist-packages (from ipython>=6.1.0->ipywidgets==8.*->jupyter_bokeh) (4.9.0)\n",
            "Requirement already satisfied: MarkupSafe>=2.0 in /usr/local/lib/python3.11/dist-packages (from Jinja2>=2.9->bokeh>=3.1->holoviews==1.19) (3.0.2)\n",
            "Requirement already satisfied: six>=1.5 in /usr/local/lib/python3.11/dist-packages (from python-dateutil>=2.8.2->pandas>=1.3->holoviews==1.19) (1.17.0)\n",
            "Requirement already satisfied: webencodings in /usr/local/lib/python3.11/dist-packages (from bleach->panel>=1.0->holoviews==1.19) (0.5.1)\n",
            "Requirement already satisfied: uc-micro-py in /usr/local/lib/python3.11/dist-packages (from linkify-it-py->panel>=1.0->holoviews==1.19) (1.0.3)\n",
            "Requirement already satisfied: mdurl~=0.1 in /usr/local/lib/python3.11/dist-packages (from markdown-it-py->panel>=1.0->holoviews==1.19) (0.1.2)\n",
            "Requirement already satisfied: charset-normalizer<4,>=2 in /usr/local/lib/python3.11/dist-packages (from requests->panel>=1.0->holoviews==1.19) (3.4.1)\n",
            "Requirement already satisfied: idna<4,>=2.5 in /usr/local/lib/python3.11/dist-packages (from requests->panel>=1.0->holoviews==1.19) (3.10)\n",
            "Requirement already satisfied: urllib3<3,>=1.21.1 in /usr/local/lib/python3.11/dist-packages (from requests->panel>=1.0->holoviews==1.19) (2.3.0)\n",
            "Requirement already satisfied: certifi>=2017.4.17 in /usr/local/lib/python3.11/dist-packages (from requests->panel>=1.0->holoviews==1.19) (2025.1.31)\n",
            "Requirement already satisfied: parso<0.9.0,>=0.8.4 in /usr/local/lib/python3.11/dist-packages (from jedi>=0.16->ipython>=6.1.0->ipywidgets==8.*->jupyter_bokeh) (0.8.4)\n",
            "Requirement already satisfied: ptyprocess>=0.5 in /usr/local/lib/python3.11/dist-packages (from pexpect>4.3->ipython>=6.1.0->ipywidgets==8.*->jupyter_bokeh) (0.7.0)\n",
            "Requirement already satisfied: wcwidth in /usr/local/lib/python3.11/dist-packages (from prompt-toolkit!=3.0.0,!=3.0.1,<3.1.0,>=2.0.0->ipython>=6.1.0->ipywidgets==8.*->jupyter_bokeh) (0.2.13)\n"
          ]
        }
      ]
    },
    {
      "cell_type": "code",
      "source": [
        "import pynvml\n",
        "pynvml.nvmlInit()\n",
        "pynvml.nvmlDeviceGetName(pynvml.nvmlDeviceGetHandleByIndex(0))\n",
        "mem = pynvml.nvmlDeviceGetMemoryInfo(pynvml.nvmlDeviceGetHandleByIndex(0))\n",
        "mem = mem.total/1e9\n",
        "if mem < 24:\n",
        "    !wget https://storage.googleapis.com/rapidsai/polars-demo/transactions-t4-20.parquet -O transactions.parquet\n",
        "else:\n",
        "    !wget https://storage.googleapis.com/rapidsai/polars-demo/transactions.parquet -O transactions.parquet\n",
        "\n",
        "!wget https://storage.googleapis.com/rapidsai/polars-demo/rainfall_data_2010_2020.csv"
      ],
      "metadata": {
        "colab": {
          "base_uri": "https://localhost:8080/"
        },
        "id": "Bf5LRmRMFBBH",
        "outputId": "a513cadf-7dbb-46d0-f9ac-79b1266cedd2"
      },
      "execution_count": 13,
      "outputs": [
        {
          "output_type": "stream",
          "name": "stdout",
          "text": [
            "--2025-04-13 17:07:23--  https://storage.googleapis.com/rapidsai/polars-demo/transactions-t4-20.parquet\n",
            "Resolving storage.googleapis.com (storage.googleapis.com)... 74.125.195.207, 172.253.117.207, 142.250.99.207, ...\n",
            "Connecting to storage.googleapis.com (storage.googleapis.com)|74.125.195.207|:443... connected.\n",
            "HTTP request sent, awaiting response... 200 OK\n",
            "Length: 857658422 (818M) [application/octet-stream]\n",
            "Saving to: ‘transactions.parquet’\n",
            "\n",
            "transactions.parque 100%[===================>] 817.93M   135MB/s    in 5.9s    \n",
            "\n",
            "2025-04-13 17:07:29 (138 MB/s) - ‘transactions.parquet’ saved [857658422/857658422]\n",
            "\n",
            "--2025-04-13 17:07:29--  https://storage.googleapis.com/rapidsai/polars-demo/rainfall_data_2010_2020.csv\n",
            "Resolving storage.googleapis.com (storage.googleapis.com)... 74.125.195.207, 172.253.117.207, 142.250.99.207, ...\n",
            "Connecting to storage.googleapis.com (storage.googleapis.com)|74.125.195.207|:443... connected.\n",
            "HTTP request sent, awaiting response... 200 OK\n",
            "Length: 131421 (128K) [text/csv]\n",
            "Saving to: ‘rainfall_data_2010_2020.csv.2’\n",
            "\n",
            "rainfall_data_2010_ 100%[===================>] 128.34K  --.-KB/s    in 0.002s  \n",
            "\n",
            "2025-04-13 17:07:29 (79.6 MB/s) - ‘rainfall_data_2010_2020.csv.2’ saved [131421/131421]\n",
            "\n"
          ]
        }
      ]
    },
    {
      "cell_type": "code",
      "source": [
        "import polars as pl\n",
        "import hvplot.polars # Using the hvplot as the plotting backend\n",
        "from polars.testing import assert_frame_equal"
      ],
      "metadata": {
        "colab": {
          "base_uri": "https://localhost:8080/",
          "height": 17
        },
        "id": "gljDD-z2FBD3",
        "outputId": "08132bfd-08ed-4d84-f13a-857833a28965"
      },
      "execution_count": 14,
      "outputs": [
        {
          "output_type": "display_data",
          "data": {
            "text/html": [
              "<script type=\"esms-options\">{\"shimMode\": true}</script><style>*[data-root-id],\n",
              "*[data-root-id] > * {\n",
              "  box-sizing: border-box;\n",
              "  font-family: var(--jp-ui-font-family);\n",
              "  font-size: var(--jp-ui-font-size1);\n",
              "  color: var(--vscode-editor-foreground, var(--jp-ui-font-color1));\n",
              "}\n",
              "\n",
              "/* Override VSCode background color */\n",
              ".cell-output-ipywidget-background:has(\n",
              "    > .cell-output-ipywidget-background > .lm-Widget > *[data-root-id]\n",
              "  ),\n",
              ".cell-output-ipywidget-background:has(> .lm-Widget > *[data-root-id]) {\n",
              "  background-color: transparent !important;\n",
              "}\n",
              "</style>"
            ]
          },
          "metadata": {}
        },
        {
          "output_type": "display_data",
          "data": {
            "application/javascript": [
              "(function(root) {\n",
              "  function now() {\n",
              "    return new Date();\n",
              "  }\n",
              "\n",
              "  const force = true;\n",
              "  const py_version = '3.6.3'.replace('rc', '-rc.').replace('.dev', '-dev.');\n",
              "  const reloading = false;\n",
              "  const Bokeh = root.Bokeh;\n",
              "\n",
              "  // Set a timeout for this load but only if we are not already initializing\n",
              "  if (typeof (root._bokeh_timeout) === \"undefined\" || (force || !root._bokeh_is_initializing)) {\n",
              "    root._bokeh_timeout = Date.now() + 5000;\n",
              "    root._bokeh_failed_load = false;\n",
              "  }\n",
              "\n",
              "  function run_callbacks() {\n",
              "    try {\n",
              "      root._bokeh_onload_callbacks.forEach(function(callback) {\n",
              "        if (callback != null)\n",
              "          callback();\n",
              "      });\n",
              "    } finally {\n",
              "      delete root._bokeh_onload_callbacks;\n",
              "    }\n",
              "    console.debug(\"Bokeh: all callbacks have finished\");\n",
              "  }\n",
              "\n",
              "  function load_libs(css_urls, js_urls, js_modules, js_exports, callback) {\n",
              "    if (css_urls == null) css_urls = [];\n",
              "    if (js_urls == null) js_urls = [];\n",
              "    if (js_modules == null) js_modules = [];\n",
              "    if (js_exports == null) js_exports = {};\n",
              "\n",
              "    root._bokeh_onload_callbacks.push(callback);\n",
              "\n",
              "    if (root._bokeh_is_loading > 0) {\n",
              "      // Don't load bokeh if it is still initializing\n",
              "      console.debug(\"Bokeh: BokehJS is being loaded, scheduling callback at\", now());\n",
              "      return null;\n",
              "    } else if (js_urls.length === 0 && js_modules.length === 0 && Object.keys(js_exports).length === 0) {\n",
              "      // There is nothing to load\n",
              "      run_callbacks();\n",
              "      return null;\n",
              "    }\n",
              "\n",
              "    function on_load() {\n",
              "      root._bokeh_is_loading--;\n",
              "      if (root._bokeh_is_loading === 0) {\n",
              "        console.debug(\"Bokeh: all BokehJS libraries/stylesheets loaded\");\n",
              "        run_callbacks()\n",
              "      }\n",
              "    }\n",
              "    window._bokeh_on_load = on_load\n",
              "\n",
              "    function on_error(e) {\n",
              "      const src_el = e.srcElement\n",
              "      console.error(\"failed to load \" + (src_el.href || src_el.src));\n",
              "    }\n",
              "\n",
              "    const skip = [];\n",
              "    if (window.requirejs) {\n",
              "      window.requirejs.config({'packages': {}, 'paths': {}, 'shim': {}});\n",
              "      root._bokeh_is_loading = css_urls.length + 0;\n",
              "    } else {\n",
              "      root._bokeh_is_loading = css_urls.length + js_urls.length + js_modules.length + Object.keys(js_exports).length;\n",
              "    }\n",
              "\n",
              "    const existing_stylesheets = []\n",
              "    const links = document.getElementsByTagName('link')\n",
              "    for (let i = 0; i < links.length; i++) {\n",
              "      const link = links[i]\n",
              "      if (link.href != null) {\n",
              "        existing_stylesheets.push(link.href)\n",
              "      }\n",
              "    }\n",
              "    for (let i = 0; i < css_urls.length; i++) {\n",
              "      const url = css_urls[i];\n",
              "      const escaped = encodeURI(url)\n",
              "      if (existing_stylesheets.indexOf(escaped) !== -1) {\n",
              "        on_load()\n",
              "        continue;\n",
              "      }\n",
              "      const element = document.createElement(\"link\");\n",
              "      element.onload = on_load;\n",
              "      element.onerror = on_error;\n",
              "      element.rel = \"stylesheet\";\n",
              "      element.type = \"text/css\";\n",
              "      element.href = url;\n",
              "      console.debug(\"Bokeh: injecting link tag for BokehJS stylesheet: \", url);\n",
              "      document.body.appendChild(element);\n",
              "    }    var existing_scripts = []\n",
              "    const scripts = document.getElementsByTagName('script')\n",
              "    for (let i = 0; i < scripts.length; i++) {\n",
              "      var script = scripts[i]\n",
              "      if (script.src != null) {\n",
              "        existing_scripts.push(script.src)\n",
              "      }\n",
              "    }\n",
              "    for (let i = 0; i < js_urls.length; i++) {\n",
              "      const url = js_urls[i];\n",
              "      const escaped = encodeURI(url)\n",
              "      if (skip.indexOf(escaped) !== -1 || existing_scripts.indexOf(escaped) !== -1) {\n",
              "        if (!window.requirejs) {\n",
              "          on_load();\n",
              "        }\n",
              "        continue;\n",
              "      }\n",
              "      const element = document.createElement('script');\n",
              "      element.onload = on_load;\n",
              "      element.onerror = on_error;\n",
              "      element.async = false;\n",
              "      element.src = url;\n",
              "      console.debug(\"Bokeh: injecting script tag for BokehJS library: \", url);\n",
              "      document.head.appendChild(element);\n",
              "    }\n",
              "    for (let i = 0; i < js_modules.length; i++) {\n",
              "      const url = js_modules[i];\n",
              "      const escaped = encodeURI(url)\n",
              "      if (skip.indexOf(escaped) !== -1 || existing_scripts.indexOf(escaped) !== -1) {\n",
              "        if (!window.requirejs) {\n",
              "          on_load();\n",
              "        }\n",
              "        continue;\n",
              "      }\n",
              "      var element = document.createElement('script');\n",
              "      element.onload = on_load;\n",
              "      element.onerror = on_error;\n",
              "      element.async = false;\n",
              "      element.src = url;\n",
              "      element.type = \"module\";\n",
              "      console.debug(\"Bokeh: injecting script tag for BokehJS library: \", url);\n",
              "      document.head.appendChild(element);\n",
              "    }\n",
              "    for (const name in js_exports) {\n",
              "      const url = js_exports[name];\n",
              "      const escaped = encodeURI(url)\n",
              "      if (skip.indexOf(escaped) >= 0 || root[name] != null) {\n",
              "        if (!window.requirejs) {\n",
              "          on_load();\n",
              "        }\n",
              "        continue;\n",
              "      }\n",
              "      var element = document.createElement('script');\n",
              "      element.onerror = on_error;\n",
              "      element.async = false;\n",
              "      element.type = \"module\";\n",
              "      console.debug(\"Bokeh: injecting script tag for BokehJS library: \", url);\n",
              "      element.textContent = `\n",
              "      import ${name} from \"${url}\"\n",
              "      window.${name} = ${name}\n",
              "      window._bokeh_on_load()\n",
              "      `\n",
              "      document.head.appendChild(element);\n",
              "    }\n",
              "    if (!js_urls.length && !js_modules.length) {\n",
              "      on_load()\n",
              "    }\n",
              "  };\n",
              "\n",
              "  function inject_raw_css(css) {\n",
              "    const element = document.createElement(\"style\");\n",
              "    element.appendChild(document.createTextNode(css));\n",
              "    document.body.appendChild(element);\n",
              "  }\n",
              "\n",
              "  const js_urls = [\"https://cdn.holoviz.org/panel/1.6.2/dist/bundled/reactiveesm/es-module-shims@^1.10.0/dist/es-module-shims.min.js\", \"https://cdn.bokeh.org/bokeh/release/bokeh-3.6.3.min.js\", \"https://cdn.bokeh.org/bokeh/release/bokeh-gl-3.6.3.min.js\", \"https://cdn.bokeh.org/bokeh/release/bokeh-widgets-3.6.3.min.js\", \"https://cdn.bokeh.org/bokeh/release/bokeh-tables-3.6.3.min.js\", \"https://cdn.holoviz.org/panel/1.6.2/dist/panel.min.js\"];\n",
              "  const js_modules = [];\n",
              "  const js_exports = {};\n",
              "  const css_urls = [];\n",
              "  const inline_js = [    function(Bokeh) {\n",
              "      Bokeh.set_log_level(\"info\");\n",
              "    },\n",
              "function(Bokeh) {} // ensure no trailing comma for IE\n",
              "  ];\n",
              "\n",
              "  function run_inline_js() {\n",
              "    if ((root.Bokeh !== undefined) || (force === true)) {\n",
              "      for (let i = 0; i < inline_js.length; i++) {\n",
              "        try {\n",
              "          inline_js[i].call(root, root.Bokeh);\n",
              "        } catch(e) {\n",
              "          if (!reloading) {\n",
              "            throw e;\n",
              "          }\n",
              "        }\n",
              "      }\n",
              "      // Cache old bokeh versions\n",
              "      if (Bokeh != undefined && !reloading) {\n",
              "        var NewBokeh = root.Bokeh;\n",
              "        if (Bokeh.versions === undefined) {\n",
              "          Bokeh.versions = new Map();\n",
              "        }\n",
              "        if (NewBokeh.version !== Bokeh.version) {\n",
              "          Bokeh.versions.set(NewBokeh.version, NewBokeh)\n",
              "        }\n",
              "        root.Bokeh = Bokeh;\n",
              "      }\n",
              "    } else if (Date.now() < root._bokeh_timeout) {\n",
              "      setTimeout(run_inline_js, 100);\n",
              "    } else if (!root._bokeh_failed_load) {\n",
              "      console.log(\"Bokeh: BokehJS failed to load within specified timeout.\");\n",
              "      root._bokeh_failed_load = true;\n",
              "    }\n",
              "    root._bokeh_is_initializing = false\n",
              "  }\n",
              "\n",
              "  function load_or_wait() {\n",
              "    // Implement a backoff loop that tries to ensure we do not load multiple\n",
              "    // versions of Bokeh and its dependencies at the same time.\n",
              "    // In recent versions we use the root._bokeh_is_initializing flag\n",
              "    // to determine whether there is an ongoing attempt to initialize\n",
              "    // bokeh, however for backward compatibility we also try to ensure\n",
              "    // that we do not start loading a newer (Panel>=1.0 and Bokeh>3) version\n",
              "    // before older versions are fully initialized.\n",
              "    if (root._bokeh_is_initializing && Date.now() > root._bokeh_timeout) {\n",
              "      // If the timeout and bokeh was not successfully loaded we reset\n",
              "      // everything and try loading again\n",
              "      root._bokeh_timeout = Date.now() + 5000;\n",
              "      root._bokeh_is_initializing = false;\n",
              "      root._bokeh_onload_callbacks = undefined;\n",
              "      root._bokeh_is_loading = 0\n",
              "      console.log(\"Bokeh: BokehJS was loaded multiple times but one version failed to initialize.\");\n",
              "      load_or_wait();\n",
              "    } else if (root._bokeh_is_initializing || (typeof root._bokeh_is_initializing === \"undefined\" && root._bokeh_onload_callbacks !== undefined)) {\n",
              "      setTimeout(load_or_wait, 100);\n",
              "    } else {\n",
              "      root._bokeh_is_initializing = true\n",
              "      root._bokeh_onload_callbacks = []\n",
              "      const bokeh_loaded = root.Bokeh != null && (root.Bokeh.version === py_version || (root.Bokeh.versions !== undefined && root.Bokeh.versions.has(py_version)));\n",
              "      if (!reloading && !bokeh_loaded) {\n",
              "        if (root.Bokeh) {\n",
              "          root.Bokeh = undefined;\n",
              "        }\n",
              "        console.debug(\"Bokeh: BokehJS not loaded, scheduling load and callback at\", now());\n",
              "      }\n",
              "      load_libs(css_urls, js_urls, js_modules, js_exports, function() {\n",
              "        console.debug(\"Bokeh: BokehJS plotting callback run at\", now());\n",
              "        run_inline_js();\n",
              "      });\n",
              "    }\n",
              "  }\n",
              "  // Give older versions of the autoload script a head-start to ensure\n",
              "  // they initialize before we start loading newer version.\n",
              "  setTimeout(load_or_wait, 100)\n",
              "}(window));"
            ],
            "application/vnd.holoviews_load.v0+json": "(function(root) {\n  function now() {\n    return new Date();\n  }\n\n  const force = true;\n  const py_version = '3.6.3'.replace('rc', '-rc.').replace('.dev', '-dev.');\n  const reloading = false;\n  const Bokeh = root.Bokeh;\n\n  // Set a timeout for this load but only if we are not already initializing\n  if (typeof (root._bokeh_timeout) === \"undefined\" || (force || !root._bokeh_is_initializing)) {\n    root._bokeh_timeout = Date.now() + 5000;\n    root._bokeh_failed_load = false;\n  }\n\n  function run_callbacks() {\n    try {\n      root._bokeh_onload_callbacks.forEach(function(callback) {\n        if (callback != null)\n          callback();\n      });\n    } finally {\n      delete root._bokeh_onload_callbacks;\n    }\n    console.debug(\"Bokeh: all callbacks have finished\");\n  }\n\n  function load_libs(css_urls, js_urls, js_modules, js_exports, callback) {\n    if (css_urls == null) css_urls = [];\n    if (js_urls == null) js_urls = [];\n    if (js_modules == null) js_modules = [];\n    if (js_exports == null) js_exports = {};\n\n    root._bokeh_onload_callbacks.push(callback);\n\n    if (root._bokeh_is_loading > 0) {\n      // Don't load bokeh if it is still initializing\n      console.debug(\"Bokeh: BokehJS is being loaded, scheduling callback at\", now());\n      return null;\n    } else if (js_urls.length === 0 && js_modules.length === 0 && Object.keys(js_exports).length === 0) {\n      // There is nothing to load\n      run_callbacks();\n      return null;\n    }\n\n    function on_load() {\n      root._bokeh_is_loading--;\n      if (root._bokeh_is_loading === 0) {\n        console.debug(\"Bokeh: all BokehJS libraries/stylesheets loaded\");\n        run_callbacks()\n      }\n    }\n    window._bokeh_on_load = on_load\n\n    function on_error(e) {\n      const src_el = e.srcElement\n      console.error(\"failed to load \" + (src_el.href || src_el.src));\n    }\n\n    const skip = [];\n    if (window.requirejs) {\n      window.requirejs.config({'packages': {}, 'paths': {}, 'shim': {}});\n      root._bokeh_is_loading = css_urls.length + 0;\n    } else {\n      root._bokeh_is_loading = css_urls.length + js_urls.length + js_modules.length + Object.keys(js_exports).length;\n    }\n\n    const existing_stylesheets = []\n    const links = document.getElementsByTagName('link')\n    for (let i = 0; i < links.length; i++) {\n      const link = links[i]\n      if (link.href != null) {\n        existing_stylesheets.push(link.href)\n      }\n    }\n    for (let i = 0; i < css_urls.length; i++) {\n      const url = css_urls[i];\n      const escaped = encodeURI(url)\n      if (existing_stylesheets.indexOf(escaped) !== -1) {\n        on_load()\n        continue;\n      }\n      const element = document.createElement(\"link\");\n      element.onload = on_load;\n      element.onerror = on_error;\n      element.rel = \"stylesheet\";\n      element.type = \"text/css\";\n      element.href = url;\n      console.debug(\"Bokeh: injecting link tag for BokehJS stylesheet: \", url);\n      document.body.appendChild(element);\n    }    var existing_scripts = []\n    const scripts = document.getElementsByTagName('script')\n    for (let i = 0; i < scripts.length; i++) {\n      var script = scripts[i]\n      if (script.src != null) {\n        existing_scripts.push(script.src)\n      }\n    }\n    for (let i = 0; i < js_urls.length; i++) {\n      const url = js_urls[i];\n      const escaped = encodeURI(url)\n      if (skip.indexOf(escaped) !== -1 || existing_scripts.indexOf(escaped) !== -1) {\n        if (!window.requirejs) {\n          on_load();\n        }\n        continue;\n      }\n      const element = document.createElement('script');\n      element.onload = on_load;\n      element.onerror = on_error;\n      element.async = false;\n      element.src = url;\n      console.debug(\"Bokeh: injecting script tag for BokehJS library: \", url);\n      document.head.appendChild(element);\n    }\n    for (let i = 0; i < js_modules.length; i++) {\n      const url = js_modules[i];\n      const escaped = encodeURI(url)\n      if (skip.indexOf(escaped) !== -1 || existing_scripts.indexOf(escaped) !== -1) {\n        if (!window.requirejs) {\n          on_load();\n        }\n        continue;\n      }\n      var element = document.createElement('script');\n      element.onload = on_load;\n      element.onerror = on_error;\n      element.async = false;\n      element.src = url;\n      element.type = \"module\";\n      console.debug(\"Bokeh: injecting script tag for BokehJS library: \", url);\n      document.head.appendChild(element);\n    }\n    for (const name in js_exports) {\n      const url = js_exports[name];\n      const escaped = encodeURI(url)\n      if (skip.indexOf(escaped) >= 0 || root[name] != null) {\n        if (!window.requirejs) {\n          on_load();\n        }\n        continue;\n      }\n      var element = document.createElement('script');\n      element.onerror = on_error;\n      element.async = false;\n      element.type = \"module\";\n      console.debug(\"Bokeh: injecting script tag for BokehJS library: \", url);\n      element.textContent = `\n      import ${name} from \"${url}\"\n      window.${name} = ${name}\n      window._bokeh_on_load()\n      `\n      document.head.appendChild(element);\n    }\n    if (!js_urls.length && !js_modules.length) {\n      on_load()\n    }\n  };\n\n  function inject_raw_css(css) {\n    const element = document.createElement(\"style\");\n    element.appendChild(document.createTextNode(css));\n    document.body.appendChild(element);\n  }\n\n  const js_urls = [\"https://cdn.holoviz.org/panel/1.6.2/dist/bundled/reactiveesm/es-module-shims@^1.10.0/dist/es-module-shims.min.js\", \"https://cdn.bokeh.org/bokeh/release/bokeh-3.6.3.min.js\", \"https://cdn.bokeh.org/bokeh/release/bokeh-gl-3.6.3.min.js\", \"https://cdn.bokeh.org/bokeh/release/bokeh-widgets-3.6.3.min.js\", \"https://cdn.bokeh.org/bokeh/release/bokeh-tables-3.6.3.min.js\", \"https://cdn.holoviz.org/panel/1.6.2/dist/panel.min.js\"];\n  const js_modules = [];\n  const js_exports = {};\n  const css_urls = [];\n  const inline_js = [    function(Bokeh) {\n      Bokeh.set_log_level(\"info\");\n    },\nfunction(Bokeh) {} // ensure no trailing comma for IE\n  ];\n\n  function run_inline_js() {\n    if ((root.Bokeh !== undefined) || (force === true)) {\n      for (let i = 0; i < inline_js.length; i++) {\n        try {\n          inline_js[i].call(root, root.Bokeh);\n        } catch(e) {\n          if (!reloading) {\n            throw e;\n          }\n        }\n      }\n      // Cache old bokeh versions\n      if (Bokeh != undefined && !reloading) {\n        var NewBokeh = root.Bokeh;\n        if (Bokeh.versions === undefined) {\n          Bokeh.versions = new Map();\n        }\n        if (NewBokeh.version !== Bokeh.version) {\n          Bokeh.versions.set(NewBokeh.version, NewBokeh)\n        }\n        root.Bokeh = Bokeh;\n      }\n    } else if (Date.now() < root._bokeh_timeout) {\n      setTimeout(run_inline_js, 100);\n    } else if (!root._bokeh_failed_load) {\n      console.log(\"Bokeh: BokehJS failed to load within specified timeout.\");\n      root._bokeh_failed_load = true;\n    }\n    root._bokeh_is_initializing = false\n  }\n\n  function load_or_wait() {\n    // Implement a backoff loop that tries to ensure we do not load multiple\n    // versions of Bokeh and its dependencies at the same time.\n    // In recent versions we use the root._bokeh_is_initializing flag\n    // to determine whether there is an ongoing attempt to initialize\n    // bokeh, however for backward compatibility we also try to ensure\n    // that we do not start loading a newer (Panel>=1.0 and Bokeh>3) version\n    // before older versions are fully initialized.\n    if (root._bokeh_is_initializing && Date.now() > root._bokeh_timeout) {\n      // If the timeout and bokeh was not successfully loaded we reset\n      // everything and try loading again\n      root._bokeh_timeout = Date.now() + 5000;\n      root._bokeh_is_initializing = false;\n      root._bokeh_onload_callbacks = undefined;\n      root._bokeh_is_loading = 0\n      console.log(\"Bokeh: BokehJS was loaded multiple times but one version failed to initialize.\");\n      load_or_wait();\n    } else if (root._bokeh_is_initializing || (typeof root._bokeh_is_initializing === \"undefined\" && root._bokeh_onload_callbacks !== undefined)) {\n      setTimeout(load_or_wait, 100);\n    } else {\n      root._bokeh_is_initializing = true\n      root._bokeh_onload_callbacks = []\n      const bokeh_loaded = root.Bokeh != null && (root.Bokeh.version === py_version || (root.Bokeh.versions !== undefined && root.Bokeh.versions.has(py_version)));\n      if (!reloading && !bokeh_loaded) {\n        if (root.Bokeh) {\n          root.Bokeh = undefined;\n        }\n        console.debug(\"Bokeh: BokehJS not loaded, scheduling load and callback at\", now());\n      }\n      load_libs(css_urls, js_urls, js_modules, js_exports, function() {\n        console.debug(\"Bokeh: BokehJS plotting callback run at\", now());\n        run_inline_js();\n      });\n    }\n  }\n  // Give older versions of the autoload script a head-start to ensure\n  // they initialize before we start loading newer version.\n  setTimeout(load_or_wait, 100)\n}(window));"
          },
          "metadata": {}
        },
        {
          "output_type": "display_data",
          "data": {
            "application/vnd.holoviews_load.v0+json": "\nif ((window.PyViz === undefined) || (window.PyViz instanceof HTMLElement)) {\n  window.PyViz = {comms: {}, comm_status:{}, kernels:{}, receivers: {}, plot_index: []}\n}\n\n\n    function JupyterCommManager() {\n    }\n\n    JupyterCommManager.prototype.register_target = function(plot_id, comm_id, msg_handler) {\n      if (window.comm_manager || ((window.Jupyter !== undefined) && (Jupyter.notebook.kernel != null))) {\n        var comm_manager = window.comm_manager || Jupyter.notebook.kernel.comm_manager;\n        comm_manager.register_target(comm_id, function(comm) {\n          comm.on_msg(msg_handler);\n        });\n      } else if ((plot_id in window.PyViz.kernels) && (window.PyViz.kernels[plot_id])) {\n        window.PyViz.kernels[plot_id].registerCommTarget(comm_id, function(comm) {\n          comm.onMsg = msg_handler;\n        });\n      } else if (typeof google != 'undefined' && google.colab.kernel != null) {\n        google.colab.kernel.comms.registerTarget(comm_id, (comm) => {\n          var messages = comm.messages[Symbol.asyncIterator]();\n          function processIteratorResult(result) {\n            var message = result.value;\n            console.log(message)\n            var content = {data: message.data, comm_id};\n            var buffers = []\n            for (var buffer of message.buffers || []) {\n              buffers.push(new DataView(buffer))\n            }\n            var metadata = message.metadata || {};\n            var msg = {content, buffers, metadata}\n            msg_handler(msg);\n            return messages.next().then(processIteratorResult);\n          }\n          return messages.next().then(processIteratorResult);\n        })\n      }\n    }\n\n    JupyterCommManager.prototype.get_client_comm = function(plot_id, comm_id, msg_handler) {\n      if (comm_id in window.PyViz.comms) {\n        return window.PyViz.comms[comm_id];\n      } else if (window.comm_manager || ((window.Jupyter !== undefined) && (Jupyter.notebook.kernel != null))) {\n        var comm_manager = window.comm_manager || Jupyter.notebook.kernel.comm_manager;\n        var comm = comm_manager.new_comm(comm_id, {}, {}, {}, comm_id);\n        if (msg_handler) {\n          comm.on_msg(msg_handler);\n        }\n      } else if ((plot_id in window.PyViz.kernels) && (window.PyViz.kernels[plot_id])) {\n        var comm = window.PyViz.kernels[plot_id].connectToComm(comm_id);\n        comm.open();\n        if (msg_handler) {\n          comm.onMsg = msg_handler;\n        }\n      } else if (typeof google != 'undefined' && google.colab.kernel != null) {\n        var comm_promise = google.colab.kernel.comms.open(comm_id)\n        comm_promise.then((comm) => {\n          window.PyViz.comms[comm_id] = comm;\n          if (msg_handler) {\n            var messages = comm.messages[Symbol.asyncIterator]();\n            function processIteratorResult(result) {\n              var message = result.value;\n              var content = {data: message.data};\n              var metadata = message.metadata || {comm_id};\n              var msg = {content, metadata}\n              msg_handler(msg);\n              return messages.next().then(processIteratorResult);\n            }\n            return messages.next().then(processIteratorResult);\n          }\n        })\n        var sendClosure = (data, metadata, buffers, disposeOnDone) => {\n          return comm_promise.then((comm) => {\n            comm.send(data, metadata, buffers, disposeOnDone);\n          });\n        };\n        var comm = {\n          send: sendClosure\n        };\n      }\n      window.PyViz.comms[comm_id] = comm;\n      return comm;\n    }\n    window.PyViz.comm_manager = new JupyterCommManager();\n    \n\n\nvar JS_MIME_TYPE = 'application/javascript';\nvar HTML_MIME_TYPE = 'text/html';\nvar EXEC_MIME_TYPE = 'application/vnd.holoviews_exec.v0+json';\nvar CLASS_NAME = 'output';\n\n/**\n * Render data to the DOM node\n */\nfunction render(props, node) {\n  var div = document.createElement(\"div\");\n  var script = document.createElement(\"script\");\n  node.appendChild(div);\n  node.appendChild(script);\n}\n\n/**\n * Handle when a new output is added\n */\nfunction handle_add_output(event, handle) {\n  var output_area = handle.output_area;\n  var output = handle.output;\n  if ((output.data == undefined) || (!output.data.hasOwnProperty(EXEC_MIME_TYPE))) {\n    return\n  }\n  var id = output.metadata[EXEC_MIME_TYPE][\"id\"];\n  var toinsert = output_area.element.find(\".\" + CLASS_NAME.split(' ')[0]);\n  if (id !== undefined) {\n    var nchildren = toinsert.length;\n    var html_node = toinsert[nchildren-1].children[0];\n    html_node.innerHTML = output.data[HTML_MIME_TYPE];\n    var scripts = [];\n    var nodelist = html_node.querySelectorAll(\"script\");\n    for (var i in nodelist) {\n      if (nodelist.hasOwnProperty(i)) {\n        scripts.push(nodelist[i])\n      }\n    }\n\n    scripts.forEach( function (oldScript) {\n      var newScript = document.createElement(\"script\");\n      var attrs = [];\n      var nodemap = oldScript.attributes;\n      for (var j in nodemap) {\n        if (nodemap.hasOwnProperty(j)) {\n          attrs.push(nodemap[j])\n        }\n      }\n      attrs.forEach(function(attr) { newScript.setAttribute(attr.name, attr.value) });\n      newScript.appendChild(document.createTextNode(oldScript.innerHTML));\n      oldScript.parentNode.replaceChild(newScript, oldScript);\n    });\n    if (JS_MIME_TYPE in output.data) {\n      toinsert[nchildren-1].children[1].textContent = output.data[JS_MIME_TYPE];\n    }\n    output_area._hv_plot_id = id;\n    if ((window.Bokeh !== undefined) && (id in Bokeh.index)) {\n      window.PyViz.plot_index[id] = Bokeh.index[id];\n    } else {\n      window.PyViz.plot_index[id] = null;\n    }\n  } else if (output.metadata[EXEC_MIME_TYPE][\"server_id\"] !== undefined) {\n    var bk_div = document.createElement(\"div\");\n    bk_div.innerHTML = output.data[HTML_MIME_TYPE];\n    var script_attrs = bk_div.children[0].attributes;\n    for (var i = 0; i < script_attrs.length; i++) {\n      toinsert[toinsert.length - 1].childNodes[1].setAttribute(script_attrs[i].name, script_attrs[i].value);\n    }\n    // store reference to server id on output_area\n    output_area._bokeh_server_id = output.metadata[EXEC_MIME_TYPE][\"server_id\"];\n  }\n}\n\n/**\n * Handle when an output is cleared or removed\n */\nfunction handle_clear_output(event, handle) {\n  var id = handle.cell.output_area._hv_plot_id;\n  var server_id = handle.cell.output_area._bokeh_server_id;\n  if (((id === undefined) || !(id in PyViz.plot_index)) && (server_id !== undefined)) { return; }\n  var comm = window.PyViz.comm_manager.get_client_comm(\"hv-extension-comm\", \"hv-extension-comm\", function () {});\n  if (server_id !== null) {\n    comm.send({event_type: 'server_delete', 'id': server_id});\n    return;\n  } else if (comm !== null) {\n    comm.send({event_type: 'delete', 'id': id});\n  }\n  delete PyViz.plot_index[id];\n  if ((window.Bokeh !== undefined) & (id in window.Bokeh.index)) {\n    var doc = window.Bokeh.index[id].model.document\n    doc.clear();\n    const i = window.Bokeh.documents.indexOf(doc);\n    if (i > -1) {\n      window.Bokeh.documents.splice(i, 1);\n    }\n  }\n}\n\n/**\n * Handle kernel restart event\n */\nfunction handle_kernel_cleanup(event, handle) {\n  delete PyViz.comms[\"hv-extension-comm\"];\n  window.PyViz.plot_index = {}\n}\n\n/**\n * Handle update_display_data messages\n */\nfunction handle_update_output(event, handle) {\n  handle_clear_output(event, {cell: {output_area: handle.output_area}})\n  handle_add_output(event, handle)\n}\n\nfunction register_renderer(events, OutputArea) {\n  function append_mime(data, metadata, element) {\n    // create a DOM node to render to\n    var toinsert = this.create_output_subarea(\n    metadata,\n    CLASS_NAME,\n    EXEC_MIME_TYPE\n    );\n    this.keyboard_manager.register_events(toinsert);\n    // Render to node\n    var props = {data: data, metadata: metadata[EXEC_MIME_TYPE]};\n    render(props, toinsert[0]);\n    element.append(toinsert);\n    return toinsert\n  }\n\n  events.on('output_added.OutputArea', handle_add_output);\n  events.on('output_updated.OutputArea', handle_update_output);\n  events.on('clear_output.CodeCell', handle_clear_output);\n  events.on('delete.Cell', handle_clear_output);\n  events.on('kernel_ready.Kernel', handle_kernel_cleanup);\n\n  OutputArea.prototype.register_mime_type(EXEC_MIME_TYPE, append_mime, {\n    safe: true,\n    index: 0\n  });\n}\n\nif (window.Jupyter !== undefined) {\n  try {\n    var events = require('base/js/events');\n    var OutputArea = require('notebook/js/outputarea').OutputArea;\n    if (OutputArea.prototype.mime_types().indexOf(EXEC_MIME_TYPE) == -1) {\n      register_renderer(events, OutputArea);\n    }\n  } catch(err) {\n  }\n}\n",
            "application/javascript": [
              "\n",
              "if ((window.PyViz === undefined) || (window.PyViz instanceof HTMLElement)) {\n",
              "  window.PyViz = {comms: {}, comm_status:{}, kernels:{}, receivers: {}, plot_index: []}\n",
              "}\n",
              "\n",
              "\n",
              "    function JupyterCommManager() {\n",
              "    }\n",
              "\n",
              "    JupyterCommManager.prototype.register_target = function(plot_id, comm_id, msg_handler) {\n",
              "      if (window.comm_manager || ((window.Jupyter !== undefined) && (Jupyter.notebook.kernel != null))) {\n",
              "        var comm_manager = window.comm_manager || Jupyter.notebook.kernel.comm_manager;\n",
              "        comm_manager.register_target(comm_id, function(comm) {\n",
              "          comm.on_msg(msg_handler);\n",
              "        });\n",
              "      } else if ((plot_id in window.PyViz.kernels) && (window.PyViz.kernels[plot_id])) {\n",
              "        window.PyViz.kernels[plot_id].registerCommTarget(comm_id, function(comm) {\n",
              "          comm.onMsg = msg_handler;\n",
              "        });\n",
              "      } else if (typeof google != 'undefined' && google.colab.kernel != null) {\n",
              "        google.colab.kernel.comms.registerTarget(comm_id, (comm) => {\n",
              "          var messages = comm.messages[Symbol.asyncIterator]();\n",
              "          function processIteratorResult(result) {\n",
              "            var message = result.value;\n",
              "            console.log(message)\n",
              "            var content = {data: message.data, comm_id};\n",
              "            var buffers = []\n",
              "            for (var buffer of message.buffers || []) {\n",
              "              buffers.push(new DataView(buffer))\n",
              "            }\n",
              "            var metadata = message.metadata || {};\n",
              "            var msg = {content, buffers, metadata}\n",
              "            msg_handler(msg);\n",
              "            return messages.next().then(processIteratorResult);\n",
              "          }\n",
              "          return messages.next().then(processIteratorResult);\n",
              "        })\n",
              "      }\n",
              "    }\n",
              "\n",
              "    JupyterCommManager.prototype.get_client_comm = function(plot_id, comm_id, msg_handler) {\n",
              "      if (comm_id in window.PyViz.comms) {\n",
              "        return window.PyViz.comms[comm_id];\n",
              "      } else if (window.comm_manager || ((window.Jupyter !== undefined) && (Jupyter.notebook.kernel != null))) {\n",
              "        var comm_manager = window.comm_manager || Jupyter.notebook.kernel.comm_manager;\n",
              "        var comm = comm_manager.new_comm(comm_id, {}, {}, {}, comm_id);\n",
              "        if (msg_handler) {\n",
              "          comm.on_msg(msg_handler);\n",
              "        }\n",
              "      } else if ((plot_id in window.PyViz.kernels) && (window.PyViz.kernels[plot_id])) {\n",
              "        var comm = window.PyViz.kernels[plot_id].connectToComm(comm_id);\n",
              "        comm.open();\n",
              "        if (msg_handler) {\n",
              "          comm.onMsg = msg_handler;\n",
              "        }\n",
              "      } else if (typeof google != 'undefined' && google.colab.kernel != null) {\n",
              "        var comm_promise = google.colab.kernel.comms.open(comm_id)\n",
              "        comm_promise.then((comm) => {\n",
              "          window.PyViz.comms[comm_id] = comm;\n",
              "          if (msg_handler) {\n",
              "            var messages = comm.messages[Symbol.asyncIterator]();\n",
              "            function processIteratorResult(result) {\n",
              "              var message = result.value;\n",
              "              var content = {data: message.data};\n",
              "              var metadata = message.metadata || {comm_id};\n",
              "              var msg = {content, metadata}\n",
              "              msg_handler(msg);\n",
              "              return messages.next().then(processIteratorResult);\n",
              "            }\n",
              "            return messages.next().then(processIteratorResult);\n",
              "          }\n",
              "        })\n",
              "        var sendClosure = (data, metadata, buffers, disposeOnDone) => {\n",
              "          return comm_promise.then((comm) => {\n",
              "            comm.send(data, metadata, buffers, disposeOnDone);\n",
              "          });\n",
              "        };\n",
              "        var comm = {\n",
              "          send: sendClosure\n",
              "        };\n",
              "      }\n",
              "      window.PyViz.comms[comm_id] = comm;\n",
              "      return comm;\n",
              "    }\n",
              "    window.PyViz.comm_manager = new JupyterCommManager();\n",
              "    \n",
              "\n",
              "\n",
              "var JS_MIME_TYPE = 'application/javascript';\n",
              "var HTML_MIME_TYPE = 'text/html';\n",
              "var EXEC_MIME_TYPE = 'application/vnd.holoviews_exec.v0+json';\n",
              "var CLASS_NAME = 'output';\n",
              "\n",
              "/**\n",
              " * Render data to the DOM node\n",
              " */\n",
              "function render(props, node) {\n",
              "  var div = document.createElement(\"div\");\n",
              "  var script = document.createElement(\"script\");\n",
              "  node.appendChild(div);\n",
              "  node.appendChild(script);\n",
              "}\n",
              "\n",
              "/**\n",
              " * Handle when a new output is added\n",
              " */\n",
              "function handle_add_output(event, handle) {\n",
              "  var output_area = handle.output_area;\n",
              "  var output = handle.output;\n",
              "  if ((output.data == undefined) || (!output.data.hasOwnProperty(EXEC_MIME_TYPE))) {\n",
              "    return\n",
              "  }\n",
              "  var id = output.metadata[EXEC_MIME_TYPE][\"id\"];\n",
              "  var toinsert = output_area.element.find(\".\" + CLASS_NAME.split(' ')[0]);\n",
              "  if (id !== undefined) {\n",
              "    var nchildren = toinsert.length;\n",
              "    var html_node = toinsert[nchildren-1].children[0];\n",
              "    html_node.innerHTML = output.data[HTML_MIME_TYPE];\n",
              "    var scripts = [];\n",
              "    var nodelist = html_node.querySelectorAll(\"script\");\n",
              "    for (var i in nodelist) {\n",
              "      if (nodelist.hasOwnProperty(i)) {\n",
              "        scripts.push(nodelist[i])\n",
              "      }\n",
              "    }\n",
              "\n",
              "    scripts.forEach( function (oldScript) {\n",
              "      var newScript = document.createElement(\"script\");\n",
              "      var attrs = [];\n",
              "      var nodemap = oldScript.attributes;\n",
              "      for (var j in nodemap) {\n",
              "        if (nodemap.hasOwnProperty(j)) {\n",
              "          attrs.push(nodemap[j])\n",
              "        }\n",
              "      }\n",
              "      attrs.forEach(function(attr) { newScript.setAttribute(attr.name, attr.value) });\n",
              "      newScript.appendChild(document.createTextNode(oldScript.innerHTML));\n",
              "      oldScript.parentNode.replaceChild(newScript, oldScript);\n",
              "    });\n",
              "    if (JS_MIME_TYPE in output.data) {\n",
              "      toinsert[nchildren-1].children[1].textContent = output.data[JS_MIME_TYPE];\n",
              "    }\n",
              "    output_area._hv_plot_id = id;\n",
              "    if ((window.Bokeh !== undefined) && (id in Bokeh.index)) {\n",
              "      window.PyViz.plot_index[id] = Bokeh.index[id];\n",
              "    } else {\n",
              "      window.PyViz.plot_index[id] = null;\n",
              "    }\n",
              "  } else if (output.metadata[EXEC_MIME_TYPE][\"server_id\"] !== undefined) {\n",
              "    var bk_div = document.createElement(\"div\");\n",
              "    bk_div.innerHTML = output.data[HTML_MIME_TYPE];\n",
              "    var script_attrs = bk_div.children[0].attributes;\n",
              "    for (var i = 0; i < script_attrs.length; i++) {\n",
              "      toinsert[toinsert.length - 1].childNodes[1].setAttribute(script_attrs[i].name, script_attrs[i].value);\n",
              "    }\n",
              "    // store reference to server id on output_area\n",
              "    output_area._bokeh_server_id = output.metadata[EXEC_MIME_TYPE][\"server_id\"];\n",
              "  }\n",
              "}\n",
              "\n",
              "/**\n",
              " * Handle when an output is cleared or removed\n",
              " */\n",
              "function handle_clear_output(event, handle) {\n",
              "  var id = handle.cell.output_area._hv_plot_id;\n",
              "  var server_id = handle.cell.output_area._bokeh_server_id;\n",
              "  if (((id === undefined) || !(id in PyViz.plot_index)) && (server_id !== undefined)) { return; }\n",
              "  var comm = window.PyViz.comm_manager.get_client_comm(\"hv-extension-comm\", \"hv-extension-comm\", function () {});\n",
              "  if (server_id !== null) {\n",
              "    comm.send({event_type: 'server_delete', 'id': server_id});\n",
              "    return;\n",
              "  } else if (comm !== null) {\n",
              "    comm.send({event_type: 'delete', 'id': id});\n",
              "  }\n",
              "  delete PyViz.plot_index[id];\n",
              "  if ((window.Bokeh !== undefined) & (id in window.Bokeh.index)) {\n",
              "    var doc = window.Bokeh.index[id].model.document\n",
              "    doc.clear();\n",
              "    const i = window.Bokeh.documents.indexOf(doc);\n",
              "    if (i > -1) {\n",
              "      window.Bokeh.documents.splice(i, 1);\n",
              "    }\n",
              "  }\n",
              "}\n",
              "\n",
              "/**\n",
              " * Handle kernel restart event\n",
              " */\n",
              "function handle_kernel_cleanup(event, handle) {\n",
              "  delete PyViz.comms[\"hv-extension-comm\"];\n",
              "  window.PyViz.plot_index = {}\n",
              "}\n",
              "\n",
              "/**\n",
              " * Handle update_display_data messages\n",
              " */\n",
              "function handle_update_output(event, handle) {\n",
              "  handle_clear_output(event, {cell: {output_area: handle.output_area}})\n",
              "  handle_add_output(event, handle)\n",
              "}\n",
              "\n",
              "function register_renderer(events, OutputArea) {\n",
              "  function append_mime(data, metadata, element) {\n",
              "    // create a DOM node to render to\n",
              "    var toinsert = this.create_output_subarea(\n",
              "    metadata,\n",
              "    CLASS_NAME,\n",
              "    EXEC_MIME_TYPE\n",
              "    );\n",
              "    this.keyboard_manager.register_events(toinsert);\n",
              "    // Render to node\n",
              "    var props = {data: data, metadata: metadata[EXEC_MIME_TYPE]};\n",
              "    render(props, toinsert[0]);\n",
              "    element.append(toinsert);\n",
              "    return toinsert\n",
              "  }\n",
              "\n",
              "  events.on('output_added.OutputArea', handle_add_output);\n",
              "  events.on('output_updated.OutputArea', handle_update_output);\n",
              "  events.on('clear_output.CodeCell', handle_clear_output);\n",
              "  events.on('delete.Cell', handle_clear_output);\n",
              "  events.on('kernel_ready.Kernel', handle_kernel_cleanup);\n",
              "\n",
              "  OutputArea.prototype.register_mime_type(EXEC_MIME_TYPE, append_mime, {\n",
              "    safe: true,\n",
              "    index: 0\n",
              "  });\n",
              "}\n",
              "\n",
              "if (window.Jupyter !== undefined) {\n",
              "  try {\n",
              "    var events = require('base/js/events');\n",
              "    var OutputArea = require('notebook/js/outputarea').OutputArea;\n",
              "    if (OutputArea.prototype.mime_types().indexOf(EXEC_MIME_TYPE) == -1) {\n",
              "      register_renderer(events, OutputArea);\n",
              "    }\n",
              "  } catch(err) {\n",
              "  }\n",
              "}\n"
            ]
          },
          "metadata": {}
        },
        {
          "output_type": "display_data",
          "data": {
            "text/html": [
              "<div id='p1006'>\n",
              "  <div id=\"c9eab9d6-39ee-4a19-830f-21ae3ae7625c\" data-root-id=\"p1006\" style=\"display: contents;\"></div>\n",
              "</div>\n",
              "<script type=\"application/javascript\">(function(root) {\n",
              "  var docs_json = {\"4af264bc-d42c-4c70-a561-eef5c1067dba\":{\"version\":\"3.6.3\",\"title\":\"Bokeh Application\",\"roots\":[{\"type\":\"object\",\"name\":\"panel.models.browser.BrowserInfo\",\"id\":\"p1006\"},{\"type\":\"object\",\"name\":\"panel.models.comm_manager.CommManager\",\"id\":\"p1007\",\"attributes\":{\"plot_id\":\"p1006\",\"comm_id\":\"9956a9d647464b60aa0bb287f2a7b9d1\",\"client_comm_id\":\"934ae5d2420d4d96939f89b0d2fc00e6\"}}],\"defs\":[{\"type\":\"model\",\"name\":\"ReactiveHTML1\"},{\"type\":\"model\",\"name\":\"FlexBox1\",\"properties\":[{\"name\":\"align_content\",\"kind\":\"Any\",\"default\":\"flex-start\"},{\"name\":\"align_items\",\"kind\":\"Any\",\"default\":\"flex-start\"},{\"name\":\"flex_direction\",\"kind\":\"Any\",\"default\":\"row\"},{\"name\":\"flex_wrap\",\"kind\":\"Any\",\"default\":\"wrap\"},{\"name\":\"gap\",\"kind\":\"Any\",\"default\":\"\"},{\"name\":\"justify_content\",\"kind\":\"Any\",\"default\":\"flex-start\"}]},{\"type\":\"model\",\"name\":\"FloatPanel1\",\"properties\":[{\"name\":\"config\",\"kind\":\"Any\",\"default\":{\"type\":\"map\"}},{\"name\":\"contained\",\"kind\":\"Any\",\"default\":true},{\"name\":\"position\",\"kind\":\"Any\",\"default\":\"right-top\"},{\"name\":\"offsetx\",\"kind\":\"Any\",\"default\":null},{\"name\":\"offsety\",\"kind\":\"Any\",\"default\":null},{\"name\":\"theme\",\"kind\":\"Any\",\"default\":\"primary\"},{\"name\":\"status\",\"kind\":\"Any\",\"default\":\"normalized\"}]},{\"type\":\"model\",\"name\":\"GridStack1\",\"properties\":[{\"name\":\"ncols\",\"kind\":\"Any\",\"default\":null},{\"name\":\"nrows\",\"kind\":\"Any\",\"default\":null},{\"name\":\"allow_resize\",\"kind\":\"Any\",\"default\":true},{\"name\":\"allow_drag\",\"kind\":\"Any\",\"default\":true},{\"name\":\"state\",\"kind\":\"Any\",\"default\":[]}]},{\"type\":\"model\",\"name\":\"drag1\",\"properties\":[{\"name\":\"slider_width\",\"kind\":\"Any\",\"default\":5},{\"name\":\"slider_color\",\"kind\":\"Any\",\"default\":\"black\"},{\"name\":\"value\",\"kind\":\"Any\",\"default\":50}]},{\"type\":\"model\",\"name\":\"click1\",\"properties\":[{\"name\":\"terminal_output\",\"kind\":\"Any\",\"default\":\"\"},{\"name\":\"debug_name\",\"kind\":\"Any\",\"default\":\"\"},{\"name\":\"clears\",\"kind\":\"Any\",\"default\":0}]},{\"type\":\"model\",\"name\":\"FastWrapper1\",\"properties\":[{\"name\":\"object\",\"kind\":\"Any\",\"default\":null},{\"name\":\"style\",\"kind\":\"Any\",\"default\":null}]},{\"type\":\"model\",\"name\":\"NotificationArea1\",\"properties\":[{\"name\":\"js_events\",\"kind\":\"Any\",\"default\":{\"type\":\"map\"}},{\"name\":\"max_notifications\",\"kind\":\"Any\",\"default\":5},{\"name\":\"notifications\",\"kind\":\"Any\",\"default\":[]},{\"name\":\"position\",\"kind\":\"Any\",\"default\":\"bottom-right\"},{\"name\":\"_clear\",\"kind\":\"Any\",\"default\":0},{\"name\":\"types\",\"kind\":\"Any\",\"default\":[{\"type\":\"map\",\"entries\":[[\"type\",\"warning\"],[\"background\",\"#ffc107\"],[\"icon\",{\"type\":\"map\",\"entries\":[[\"className\",\"fas fa-exclamation-triangle\"],[\"tagName\",\"i\"],[\"color\",\"white\"]]}]]},{\"type\":\"map\",\"entries\":[[\"type\",\"info\"],[\"background\",\"#007bff\"],[\"icon\",{\"type\":\"map\",\"entries\":[[\"className\",\"fas fa-info-circle\"],[\"tagName\",\"i\"],[\"color\",\"white\"]]}]]}]}]},{\"type\":\"model\",\"name\":\"Notification\",\"properties\":[{\"name\":\"background\",\"kind\":\"Any\",\"default\":null},{\"name\":\"duration\",\"kind\":\"Any\",\"default\":3000},{\"name\":\"icon\",\"kind\":\"Any\",\"default\":null},{\"name\":\"message\",\"kind\":\"Any\",\"default\":\"\"},{\"name\":\"notification_type\",\"kind\":\"Any\",\"default\":null},{\"name\":\"_rendered\",\"kind\":\"Any\",\"default\":false},{\"name\":\"_destroyed\",\"kind\":\"Any\",\"default\":false}]},{\"type\":\"model\",\"name\":\"TemplateActions1\",\"properties\":[{\"name\":\"open_modal\",\"kind\":\"Any\",\"default\":0},{\"name\":\"close_modal\",\"kind\":\"Any\",\"default\":0}]},{\"type\":\"model\",\"name\":\"BootstrapTemplateActions1\",\"properties\":[{\"name\":\"open_modal\",\"kind\":\"Any\",\"default\":0},{\"name\":\"close_modal\",\"kind\":\"Any\",\"default\":0}]},{\"type\":\"model\",\"name\":\"TemplateEditor1\",\"properties\":[{\"name\":\"layout\",\"kind\":\"Any\",\"default\":[]}]},{\"type\":\"model\",\"name\":\"MaterialTemplateActions1\",\"properties\":[{\"name\":\"open_modal\",\"kind\":\"Any\",\"default\":0},{\"name\":\"close_modal\",\"kind\":\"Any\",\"default\":0}]},{\"type\":\"model\",\"name\":\"ReactiveESM1\",\"properties\":[{\"name\":\"esm_constants\",\"kind\":\"Any\",\"default\":{\"type\":\"map\"}}]},{\"type\":\"model\",\"name\":\"JSComponent1\",\"properties\":[{\"name\":\"esm_constants\",\"kind\":\"Any\",\"default\":{\"type\":\"map\"}}]},{\"type\":\"model\",\"name\":\"ReactComponent1\",\"properties\":[{\"name\":\"esm_constants\",\"kind\":\"Any\",\"default\":{\"type\":\"map\"}}]},{\"type\":\"model\",\"name\":\"AnyWidgetComponent1\",\"properties\":[{\"name\":\"esm_constants\",\"kind\":\"Any\",\"default\":{\"type\":\"map\"}}]},{\"type\":\"model\",\"name\":\"request_value1\",\"properties\":[{\"name\":\"fill\",\"kind\":\"Any\",\"default\":\"none\"},{\"name\":\"_synced\",\"kind\":\"Any\",\"default\":null},{\"name\":\"_request_sync\",\"kind\":\"Any\",\"default\":0}]}]}};\n",
              "  var render_items = [{\"docid\":\"4af264bc-d42c-4c70-a561-eef5c1067dba\",\"roots\":{\"p1006\":\"c9eab9d6-39ee-4a19-830f-21ae3ae7625c\"},\"root_ids\":[\"p1006\"]}];\n",
              "  var docs = Object.values(docs_json)\n",
              "  if (!docs) {\n",
              "    return\n",
              "  }\n",
              "  const py_version = docs[0].version.replace('rc', '-rc.').replace('.dev', '-dev.')\n",
              "  async function embed_document(root) {\n",
              "    var Bokeh = get_bokeh(root)\n",
              "    await Bokeh.embed.embed_items_notebook(docs_json, render_items);\n",
              "    for (const render_item of render_items) {\n",
              "      for (const root_id of render_item.root_ids) {\n",
              "\tconst id_el = document.getElementById(root_id)\n",
              "\tif (id_el.children.length && id_el.children[0].hasAttribute('data-root-id')) {\n",
              "\t  const root_el = id_el.children[0]\n",
              "\t  root_el.id = root_el.id + '-rendered'\n",
              "\t  for (const child of root_el.children) {\n",
              "            // Ensure JupyterLab does not capture keyboard shortcuts\n",
              "            // see: https://jupyterlab.readthedocs.io/en/4.1.x/extension/notebook.html#keyboard-interaction-model\n",
              "\t    child.setAttribute('data-lm-suppress-shortcuts', 'true')\n",
              "\t  }\n",
              "\t}\n",
              "      }\n",
              "    }\n",
              "  }\n",
              "  function get_bokeh(root) {\n",
              "    if (root.Bokeh === undefined) {\n",
              "      return null\n",
              "    } else if (root.Bokeh.version !== py_version) {\n",
              "      if (root.Bokeh.versions === undefined || !root.Bokeh.versions.has(py_version)) {\n",
              "\treturn null\n",
              "      }\n",
              "      return root.Bokeh.versions.get(py_version);\n",
              "    } else if (root.Bokeh.version === py_version) {\n",
              "      return root.Bokeh\n",
              "    }\n",
              "    return null\n",
              "  }\n",
              "  function is_loaded(root) {\n",
              "    var Bokeh = get_bokeh(root)\n",
              "    return (Bokeh != null && Bokeh.Panel !== undefined)\n",
              "  }\n",
              "  if (is_loaded(root)) {\n",
              "    embed_document(root);\n",
              "  } else {\n",
              "    var attempts = 0;\n",
              "    var timer = setInterval(function(root) {\n",
              "      if (is_loaded(root)) {\n",
              "        clearInterval(timer);\n",
              "        embed_document(root);\n",
              "      } else if (document.readyState == \"complete\") {\n",
              "        attempts++;\n",
              "        if (attempts > 200) {\n",
              "          clearInterval(timer);\n",
              "\t  var Bokeh = get_bokeh(root)\n",
              "\t  if (Bokeh == null || Bokeh.Panel == null) {\n",
              "            console.warn(\"Panel: ERROR: Unable to run Panel code because Bokeh or Panel library is missing\");\n",
              "\t  } else {\n",
              "\t    console.warn(\"Panel: WARNING: Attempting to render but not all required libraries could be resolved.\")\n",
              "\t    embed_document(root)\n",
              "\t  }\n",
              "        }\n",
              "      }\n",
              "    }, 25, root)\n",
              "  }\n",
              "})(window);</script>"
            ],
            "application/vnd.holoviews_exec.v0+json": ""
          },
          "metadata": {
            "application/vnd.holoviews_exec.v0+json": {
              "id": "p1006"
            }
          }
        }
      ]
    },
    {
      "cell_type": "code",
      "source": [
        "pl.__version__ # Make sure the version is >= `1.6.0`; If not restart the session."
      ],
      "metadata": {
        "colab": {
          "base_uri": "https://localhost:8080/",
          "height": 35
        },
        "id": "nM67HO54FBK-",
        "outputId": "e105e63b-fc3b-4e63-80e3-7adc741f3254"
      },
      "execution_count": 15,
      "outputs": [
        {
          "output_type": "execute_result",
          "data": {
            "text/plain": [
              "'1.25.2'"
            ],
            "application/vnd.google.colaboratory.intrinsic+json": {
              "type": "string"
            }
          },
          "metadata": {},
          "execution_count": 15
        }
      ]
    },
    {
      "cell_type": "code",
      "source": [
        "transactions = pl.scan_parquet(\"transactions.parquet\")"
      ],
      "metadata": {
        "id": "S2Dku8smFBNi"
      },
      "execution_count": 16,
      "outputs": []
    },
    {
      "cell_type": "code",
      "source": [
        "transactions.collect_schema()"
      ],
      "metadata": {
        "id": "W881Qy4TFBQN",
        "colab": {
          "base_uri": "https://localhost:8080/"
        },
        "outputId": "ad7ba38f-764a-4537-9e9b-e44df6dee056"
      },
      "execution_count": 17,
      "outputs": [
        {
          "output_type": "execute_result",
          "data": {
            "text/plain": [
              "Schema([('CUST_ID', String),\n",
              "        ('START_DATE', Date),\n",
              "        ('END_DATE', Date),\n",
              "        ('TRANS_ID', String),\n",
              "        ('DATE', Date),\n",
              "        ('YEAR', Int64),\n",
              "        ('MONTH', Int64),\n",
              "        ('DAY', Int64),\n",
              "        ('EXP_TYPE', String),\n",
              "        ('AMOUNT', Float64)])"
            ]
          },
          "metadata": {},
          "execution_count": 17
        }
      ]
    },
    {
      "cell_type": "code",
      "source": [
        "transactions.head(5).collect()"
      ],
      "metadata": {
        "id": "Wk7fpA5zFBRm",
        "colab": {
          "base_uri": "https://localhost:8080/",
          "height": 255
        },
        "outputId": "2831e0c4-a6cf-41ab-baee-a9507a6bbe0b"
      },
      "execution_count": 18,
      "outputs": [
        {
          "output_type": "execute_result",
          "data": {
            "text/plain": [
              "shape: (5, 10)\n",
              "┌────────────┬────────────┬──────────┬─────────────────┬───┬───────┬─────┬───────────────┬────────┐\n",
              "│ CUST_ID    ┆ START_DATE ┆ END_DATE ┆ TRANS_ID        ┆ … ┆ MONTH ┆ DAY ┆ EXP_TYPE      ┆ AMOUNT │\n",
              "│ ---        ┆ ---        ┆ ---      ┆ ---             ┆   ┆ ---   ┆ --- ┆ ---           ┆ ---    │\n",
              "│ str        ┆ date       ┆ date     ┆ str             ┆   ┆ i64   ┆ i64 ┆ str           ┆ f64    │\n",
              "╞════════════╪════════════╪══════════╪═════════════════╪═══╪═══════╪═════╪═══════════════╪════════╡\n",
              "│ CI6XLYUMQK ┆ 2015-05-01 ┆ null     ┆ T8I9ZB5A6X90UG8 ┆ … ┆ 9     ┆ 11  ┆ Motor/Travel  ┆ 20.27  │\n",
              "│ CI6XLYUMQK ┆ 2015-05-01 ┆ null     ┆ TZ4JSLS7SC7FO9H ┆ … ┆ 2     ┆ 8   ┆ Motor/Travel  ┆ 12.85  │\n",
              "│ CI6XLYUMQK ┆ 2015-05-01 ┆ null     ┆ TTUKRDDJ6B6F42H ┆ … ┆ 8     ┆ 1   ┆ Housing       ┆ 383.8  │\n",
              "│ CI6XLYUMQK ┆ 2015-05-01 ┆ null     ┆ TDUHFRUKGPPI6HD ┆ … ┆ 3     ┆ 16  ┆ Entertainment ┆ 5.72   │\n",
              "│ CI6XLYUMQK ┆ 2015-05-01 ┆ null     ┆ T0JBZHBMSVRFMMD ┆ … ┆ 5     ┆ 15  ┆ Entertainment ┆ 11.06  │\n",
              "└────────────┴────────────┴──────────┴─────────────────┴───┴───────┴─────┴───────────────┴────────┘"
            ],
            "text/html": [
              "<div><style>\n",
              ".dataframe > thead > tr,\n",
              ".dataframe > tbody > tr {\n",
              "  text-align: right;\n",
              "  white-space: pre-wrap;\n",
              "}\n",
              "</style>\n",
              "<small>shape: (5, 10)</small><table border=\"1\" class=\"dataframe\"><thead><tr><th>CUST_ID</th><th>START_DATE</th><th>END_DATE</th><th>TRANS_ID</th><th>DATE</th><th>YEAR</th><th>MONTH</th><th>DAY</th><th>EXP_TYPE</th><th>AMOUNT</th></tr><tr><td>str</td><td>date</td><td>date</td><td>str</td><td>date</td><td>i64</td><td>i64</td><td>i64</td><td>str</td><td>f64</td></tr></thead><tbody><tr><td>&quot;CI6XLYUMQK&quot;</td><td>2015-05-01</td><td>null</td><td>&quot;T8I9ZB5A6X90UG8&quot;</td><td>2015-09-11</td><td>2015</td><td>9</td><td>11</td><td>&quot;Motor/Travel&quot;</td><td>20.27</td></tr><tr><td>&quot;CI6XLYUMQK&quot;</td><td>2015-05-01</td><td>null</td><td>&quot;TZ4JSLS7SC7FO9H&quot;</td><td>2017-02-08</td><td>2017</td><td>2</td><td>8</td><td>&quot;Motor/Travel&quot;</td><td>12.85</td></tr><tr><td>&quot;CI6XLYUMQK&quot;</td><td>2015-05-01</td><td>null</td><td>&quot;TTUKRDDJ6B6F42H&quot;</td><td>2015-08-01</td><td>2015</td><td>8</td><td>1</td><td>&quot;Housing&quot;</td><td>383.8</td></tr><tr><td>&quot;CI6XLYUMQK&quot;</td><td>2015-05-01</td><td>null</td><td>&quot;TDUHFRUKGPPI6HD&quot;</td><td>2019-03-16</td><td>2019</td><td>3</td><td>16</td><td>&quot;Entertainment&quot;</td><td>5.72</td></tr><tr><td>&quot;CI6XLYUMQK&quot;</td><td>2015-05-01</td><td>null</td><td>&quot;T0JBZHBMSVRFMMD&quot;</td><td>2015-05-15</td><td>2015</td><td>5</td><td>15</td><td>&quot;Entertainment&quot;</td><td>11.06</td></tr></tbody></table></div>"
            ]
          },
          "metadata": {},
          "execution_count": 18
        }
      ]
    },
    {
      "cell_type": "code",
      "source": [
        "%%time\n",
        "transactions.select(pl.col(\"AMOUNT\").sum()).collect()"
      ],
      "metadata": {
        "id": "wMFOxlRSFBUE",
        "colab": {
          "base_uri": "https://localhost:8080/",
          "height": 164
        },
        "outputId": "cd981fd1-4713-445c-b734-a74499314b1e"
      },
      "execution_count": 19,
      "outputs": [
        {
          "output_type": "stream",
          "name": "stdout",
          "text": [
            "CPU times: user 1.37 s, sys: 429 ms, total: 1.8 s\n",
            "Wall time: 1.03 s\n"
          ]
        },
        {
          "output_type": "execute_result",
          "data": {
            "text/plain": [
              "shape: (1, 1)\n",
              "┌──────────┐\n",
              "│ AMOUNT   │\n",
              "│ ---      │\n",
              "│ f64      │\n",
              "╞══════════╡\n",
              "│ 3.6183e9 │\n",
              "└──────────┘"
            ],
            "text/html": [
              "<div><style>\n",
              ".dataframe > thead > tr,\n",
              ".dataframe > tbody > tr {\n",
              "  text-align: right;\n",
              "  white-space: pre-wrap;\n",
              "}\n",
              "</style>\n",
              "<small>shape: (1, 1)</small><table border=\"1\" class=\"dataframe\"><thead><tr><th>AMOUNT</th></tr><tr><td>f64</td></tr></thead><tbody><tr><td>3.6183e9</td></tr></tbody></table></div>"
            ]
          },
          "metadata": {},
          "execution_count": 19
        }
      ]
    },
    {
      "cell_type": "code",
      "source": [
        "%%time\n",
        "transactions.select(pl.col(\"AMOUNT\").sum()).collect(engine=\"gpu\")"
      ],
      "metadata": {
        "id": "xx-A1vkXFBWx",
        "colab": {
          "base_uri": "https://localhost:8080/",
          "height": 164
        },
        "outputId": "18fea434-817e-428b-ab07-9a4c39ff3ac8"
      },
      "execution_count": 21,
      "outputs": [
        {
          "output_type": "stream",
          "name": "stdout",
          "text": [
            "CPU times: user 164 ms, sys: 44.1 ms, total: 208 ms\n",
            "Wall time: 173 ms\n"
          ]
        },
        {
          "output_type": "execute_result",
          "data": {
            "text/plain": [
              "shape: (1, 1)\n",
              "┌──────────┐\n",
              "│ AMOUNT   │\n",
              "│ ---      │\n",
              "│ f64      │\n",
              "╞══════════╡\n",
              "│ 3.6183e9 │\n",
              "└──────────┘"
            ],
            "text/html": [
              "<div><style>\n",
              ".dataframe > thead > tr,\n",
              ".dataframe > tbody > tr {\n",
              "  text-align: right;\n",
              "  white-space: pre-wrap;\n",
              "}\n",
              "</style>\n",
              "<small>shape: (1, 1)</small><table border=\"1\" class=\"dataframe\"><thead><tr><th>AMOUNT</th></tr><tr><td>f64</td></tr></thead><tbody><tr><td>3.6183e9</td></tr></tbody></table></div>"
            ]
          },
          "metadata": {},
          "execution_count": 21
        }
      ]
    },
    {
      "cell_type": "code",
      "source": [
        "gpu_engine = pl.GPUEngine(\n",
        "    device=0, # This is the default\n",
        "    raise_on_fail=True, # Fail loudly if we can't run on the GPU.\n",
        ")"
      ],
      "metadata": {
        "id": "_LEUY9jTInuN"
      },
      "execution_count": 22,
      "outputs": []
    },
    {
      "cell_type": "code",
      "source": [
        "%%time\n",
        "transactions.select(pl.col(\"AMOUNT\").sum()).collect(engine=gpu_engine)"
      ],
      "metadata": {
        "colab": {
          "base_uri": "https://localhost:8080/",
          "height": 164
        },
        "id": "Qeoi3aOdJGWL",
        "outputId": "59102f83-40a2-43e4-bd20-830456b631bf"
      },
      "execution_count": 23,
      "outputs": [
        {
          "output_type": "stream",
          "name": "stdout",
          "text": [
            "CPU times: user 159 ms, sys: 51.3 ms, total: 210 ms\n",
            "Wall time: 177 ms\n"
          ]
        },
        {
          "output_type": "execute_result",
          "data": {
            "text/plain": [
              "shape: (1, 1)\n",
              "┌──────────┐\n",
              "│ AMOUNT   │\n",
              "│ ---      │\n",
              "│ f64      │\n",
              "╞══════════╡\n",
              "│ 3.6183e9 │\n",
              "└──────────┘"
            ],
            "text/html": [
              "<div><style>\n",
              ".dataframe > thead > tr,\n",
              ".dataframe > tbody > tr {\n",
              "  text-align: right;\n",
              "  white-space: pre-wrap;\n",
              "}\n",
              "</style>\n",
              "<small>shape: (1, 1)</small><table border=\"1\" class=\"dataframe\"><thead><tr><th>AMOUNT</th></tr><tr><td>f64</td></tr></thead><tbody><tr><td>3.6183e9</td></tr></tbody></table></div>"
            ]
          },
          "metadata": {},
          "execution_count": 23
        }
      ]
    },
    {
      "cell_type": "code",
      "source": [
        "%%time\n",
        "\n",
        "res_cpu = (\n",
        "    transactions\n",
        "    .group_by(\"CUST_ID\")\n",
        "    .agg(pl.col(\"AMOUNT\").sum())\n",
        "    .sort(by=\"AMOUNT\", descending=True)\n",
        "    .head()\n",
        "    .collect()\n",
        ")\n",
        "res_cpu"
      ],
      "metadata": {
        "colab": {
          "base_uri": "https://localhost:8080/",
          "height": 290
        },
        "id": "H_0Fj_-aJLdL",
        "outputId": "cc436690-f28b-4e6c-e220-a9990afff584"
      },
      "execution_count": 24,
      "outputs": [
        {
          "output_type": "stream",
          "name": "stdout",
          "text": [
            "CPU times: user 4.39 s, sys: 3.25 s, total: 7.63 s\n",
            "Wall time: 5.11 s\n"
          ]
        },
        {
          "output_type": "execute_result",
          "data": {
            "text/plain": [
              "shape: (5, 2)\n",
              "┌────────────┬──────────┐\n",
              "│ CUST_ID    ┆ AMOUNT   │\n",
              "│ ---        ┆ ---      │\n",
              "│ str        ┆ f64      │\n",
              "╞════════════╪══════════╡\n",
              "│ CA9UYOQ5DA ┆ 2.0290e6 │\n",
              "│ CJUK2MTM5Q ┆ 1.8115e6 │\n",
              "│ CYXX1NBIKL ┆ 1.8082e6 │\n",
              "│ C6ILEYAYQ9 ┆ 1.7961e6 │\n",
              "│ CCNBC305GI ┆ 1.7274e6 │\n",
              "└────────────┴──────────┘"
            ],
            "text/html": [
              "<div><style>\n",
              ".dataframe > thead > tr,\n",
              ".dataframe > tbody > tr {\n",
              "  text-align: right;\n",
              "  white-space: pre-wrap;\n",
              "}\n",
              "</style>\n",
              "<small>shape: (5, 2)</small><table border=\"1\" class=\"dataframe\"><thead><tr><th>CUST_ID</th><th>AMOUNT</th></tr><tr><td>str</td><td>f64</td></tr></thead><tbody><tr><td>&quot;CA9UYOQ5DA&quot;</td><td>2.0290e6</td></tr><tr><td>&quot;CJUK2MTM5Q&quot;</td><td>1.8115e6</td></tr><tr><td>&quot;CYXX1NBIKL&quot;</td><td>1.8082e6</td></tr><tr><td>&quot;C6ILEYAYQ9&quot;</td><td>1.7961e6</td></tr><tr><td>&quot;CCNBC305GI&quot;</td><td>1.7274e6</td></tr></tbody></table></div>"
            ]
          },
          "metadata": {},
          "execution_count": 24
        }
      ]
    },
    {
      "cell_type": "code",
      "source": [
        "%%time\n",
        "\n",
        "res_cpu = (\n",
        "    transactions\n",
        "    .group_by(\"CUST_ID\")\n",
        "    .agg(pl.col(\"AMOUNT\").sum())\n",
        "    .sort(by=\"AMOUNT\", descending=True)\n",
        "    .head()\n",
        "    .collect(engine=\"gpu\")\n",
        ")\n",
        "res_cpu"
      ],
      "metadata": {
        "colab": {
          "base_uri": "https://localhost:8080/",
          "height": 290
        },
        "id": "5xuQ6sULJcKB",
        "outputId": "90127a83-73eb-4e60-d9c9-fee5cf3faa23"
      },
      "execution_count": 25,
      "outputs": [
        {
          "output_type": "stream",
          "name": "stdout",
          "text": [
            "CPU times: user 272 ms, sys: 94.7 ms, total: 367 ms\n",
            "Wall time: 570 ms\n"
          ]
        },
        {
          "output_type": "execute_result",
          "data": {
            "text/plain": [
              "shape: (5, 2)\n",
              "┌────────────┬──────────┐\n",
              "│ CUST_ID    ┆ AMOUNT   │\n",
              "│ ---        ┆ ---      │\n",
              "│ str        ┆ f64      │\n",
              "╞════════════╪══════════╡\n",
              "│ CA9UYOQ5DA ┆ 2.0290e6 │\n",
              "│ CJUK2MTM5Q ┆ 1.8115e6 │\n",
              "│ CYXX1NBIKL ┆ 1.8082e6 │\n",
              "│ C6ILEYAYQ9 ┆ 1.7961e6 │\n",
              "│ CCNBC305GI ┆ 1.7274e6 │\n",
              "└────────────┴──────────┘"
            ],
            "text/html": [
              "<div><style>\n",
              ".dataframe > thead > tr,\n",
              ".dataframe > tbody > tr {\n",
              "  text-align: right;\n",
              "  white-space: pre-wrap;\n",
              "}\n",
              "</style>\n",
              "<small>shape: (5, 2)</small><table border=\"1\" class=\"dataframe\"><thead><tr><th>CUST_ID</th><th>AMOUNT</th></tr><tr><td>str</td><td>f64</td></tr></thead><tbody><tr><td>&quot;CA9UYOQ5DA&quot;</td><td>2.0290e6</td></tr><tr><td>&quot;CJUK2MTM5Q&quot;</td><td>1.8115e6</td></tr><tr><td>&quot;CYXX1NBIKL&quot;</td><td>1.8082e6</td></tr><tr><td>&quot;C6ILEYAYQ9&quot;</td><td>1.7961e6</td></tr><tr><td>&quot;CCNBC305GI&quot;</td><td>1.7274e6</td></tr></tbody></table></div>"
            ]
          },
          "metadata": {},
          "execution_count": 25
        }
      ]
    },
    {
      "cell_type": "code",
      "source": [
        "%%time\n",
        "\n",
        "res_cpu = (\n",
        "    transactions\n",
        "    .group_by(\"CUST_ID\")\n",
        "    .agg(pl.col(\"AMOUNT\").sum())\n",
        "    .sort(by=\"AMOUNT\", descending=True)\n",
        "    .head()\n",
        "    .collect(engine=gpu_engine)\n",
        ")\n",
        "res_cpu"
      ],
      "metadata": {
        "colab": {
          "base_uri": "https://localhost:8080/",
          "height": 290
        },
        "id": "xAfp7vpqKgsb",
        "outputId": "11661fc2-51da-47cb-d711-4f0d0ccf4828"
      },
      "execution_count": 26,
      "outputs": [
        {
          "output_type": "stream",
          "name": "stdout",
          "text": [
            "CPU times: user 287 ms, sys: 61.4 ms, total: 348 ms\n",
            "Wall time: 324 ms\n"
          ]
        },
        {
          "output_type": "execute_result",
          "data": {
            "text/plain": [
              "shape: (5, 2)\n",
              "┌────────────┬──────────┐\n",
              "│ CUST_ID    ┆ AMOUNT   │\n",
              "│ ---        ┆ ---      │\n",
              "│ str        ┆ f64      │\n",
              "╞════════════╪══════════╡\n",
              "│ CA9UYOQ5DA ┆ 2.0290e6 │\n",
              "│ CJUK2MTM5Q ┆ 1.8115e6 │\n",
              "│ CYXX1NBIKL ┆ 1.8082e6 │\n",
              "│ C6ILEYAYQ9 ┆ 1.7961e6 │\n",
              "│ CCNBC305GI ┆ 1.7274e6 │\n",
              "└────────────┴──────────┘"
            ],
            "text/html": [
              "<div><style>\n",
              ".dataframe > thead > tr,\n",
              ".dataframe > tbody > tr {\n",
              "  text-align: right;\n",
              "  white-space: pre-wrap;\n",
              "}\n",
              "</style>\n",
              "<small>shape: (5, 2)</small><table border=\"1\" class=\"dataframe\"><thead><tr><th>CUST_ID</th><th>AMOUNT</th></tr><tr><td>str</td><td>f64</td></tr></thead><tbody><tr><td>&quot;CA9UYOQ5DA&quot;</td><td>2.0290e6</td></tr><tr><td>&quot;CJUK2MTM5Q&quot;</td><td>1.8115e6</td></tr><tr><td>&quot;CYXX1NBIKL&quot;</td><td>1.8082e6</td></tr><tr><td>&quot;C6ILEYAYQ9&quot;</td><td>1.7961e6</td></tr><tr><td>&quot;CCNBC305GI&quot;</td><td>1.7274e6</td></tr></tbody></table></div>"
            ]
          },
          "metadata": {},
          "execution_count": 26
        }
      ]
    },
    {
      "cell_type": "code",
      "source": [
        "query = \"\"\"\n",
        "SELECT CUST_ID, SUM(AMOUNT) as sum_amt\n",
        "FROM transactions\n",
        "GROUP BY CUST_ID\n",
        "ORDER BY sum_amt desc\n",
        "LIMIT 5\n",
        "\"\"\"\n",
        "\n",
        "%time pl.sql(query).collect()\n",
        "%time pl.sql(query).collect(engine=gpu_engine)"
      ],
      "metadata": {
        "colab": {
          "base_uri": "https://localhost:8080/",
          "height": 324
        },
        "id": "6nS48sUaKqRF",
        "outputId": "3c8f9c62-71d6-47e7-86bc-5f84127697f5"
      },
      "execution_count": 27,
      "outputs": [
        {
          "output_type": "stream",
          "name": "stdout",
          "text": [
            "CPU times: user 4.57 s, sys: 2.59 s, total: 7.16 s\n",
            "Wall time: 4.63 s\n",
            "CPU times: user 265 ms, sys: 82.7 ms, total: 348 ms\n",
            "Wall time: 299 ms\n"
          ]
        },
        {
          "output_type": "execute_result",
          "data": {
            "text/plain": [
              "shape: (5, 2)\n",
              "┌────────────┬──────────┐\n",
              "│ CUST_ID    ┆ sum_amt  │\n",
              "│ ---        ┆ ---      │\n",
              "│ str        ┆ f64      │\n",
              "╞════════════╪══════════╡\n",
              "│ CA9UYOQ5DA ┆ 2.0290e6 │\n",
              "│ CJUK2MTM5Q ┆ 1.8115e6 │\n",
              "│ CYXX1NBIKL ┆ 1.8082e6 │\n",
              "│ C6ILEYAYQ9 ┆ 1.7961e6 │\n",
              "│ CCNBC305GI ┆ 1.7274e6 │\n",
              "└────────────┴──────────┘"
            ],
            "text/html": [
              "<div><style>\n",
              ".dataframe > thead > tr,\n",
              ".dataframe > tbody > tr {\n",
              "  text-align: right;\n",
              "  white-space: pre-wrap;\n",
              "}\n",
              "</style>\n",
              "<small>shape: (5, 2)</small><table border=\"1\" class=\"dataframe\"><thead><tr><th>CUST_ID</th><th>sum_amt</th></tr><tr><td>str</td><td>f64</td></tr></thead><tbody><tr><td>&quot;CA9UYOQ5DA&quot;</td><td>2.0290e6</td></tr><tr><td>&quot;CJUK2MTM5Q&quot;</td><td>1.8115e6</td></tr><tr><td>&quot;CYXX1NBIKL&quot;</td><td>1.8082e6</td></tr><tr><td>&quot;C6ILEYAYQ9&quot;</td><td>1.7961e6</td></tr><tr><td>&quot;CCNBC305GI&quot;</td><td>1.7274e6</td></tr></tbody></table></div>"
            ]
          },
          "metadata": {},
          "execution_count": 27
        }
      ]
    },
    {
      "cell_type": "code",
      "source": [
        "%%time\n",
        "\n",
        "(\n",
        "    transactions\n",
        "    .group_by(\"CUST_ID\")\n",
        "    .agg(pl.col(\"AMOUNT\").max().alias(\"max_amount\"))\n",
        "    .sort(by=\"max_amount\", descending=True)\n",
        "    .head()\n",
        "    .collect()\n",
        ")"
      ],
      "metadata": {
        "colab": {
          "base_uri": "https://localhost:8080/",
          "height": 290
        },
        "id": "4DrnSUy-K9Sq",
        "outputId": "89db673b-3f1b-4553-b8fc-0694baeefaa3"
      },
      "execution_count": 28,
      "outputs": [
        {
          "output_type": "stream",
          "name": "stdout",
          "text": [
            "CPU times: user 4.57 s, sys: 2.57 s, total: 7.14 s\n",
            "Wall time: 5.43 s\n"
          ]
        },
        {
          "output_type": "execute_result",
          "data": {
            "text/plain": [
              "shape: (5, 2)\n",
              "┌────────────┬────────────┐\n",
              "│ CUST_ID    ┆ max_amount │\n",
              "│ ---        ┆ ---        │\n",
              "│ str        ┆ f64        │\n",
              "╞════════════╪════════════╡\n",
              "│ CIP0I11MG2 ┆ 6201.45    │\n",
              "│ C4O38N5TQS ┆ 6077.49    │\n",
              "│ CL2M3N3K90 ┆ 6041.59    │\n",
              "│ CC472PU9O8 ┆ 5929.14    │\n",
              "│ CGR8UI27OK ┆ 5903.61    │\n",
              "└────────────┴────────────┘"
            ],
            "text/html": [
              "<div><style>\n",
              ".dataframe > thead > tr,\n",
              ".dataframe > tbody > tr {\n",
              "  text-align: right;\n",
              "  white-space: pre-wrap;\n",
              "}\n",
              "</style>\n",
              "<small>shape: (5, 2)</small><table border=\"1\" class=\"dataframe\"><thead><tr><th>CUST_ID</th><th>max_amount</th></tr><tr><td>str</td><td>f64</td></tr></thead><tbody><tr><td>&quot;CIP0I11MG2&quot;</td><td>6201.45</td></tr><tr><td>&quot;C4O38N5TQS&quot;</td><td>6077.49</td></tr><tr><td>&quot;CL2M3N3K90&quot;</td><td>6041.59</td></tr><tr><td>&quot;CC472PU9O8&quot;</td><td>5929.14</td></tr><tr><td>&quot;CGR8UI27OK&quot;</td><td>5903.61</td></tr></tbody></table></div>"
            ]
          },
          "metadata": {},
          "execution_count": 28
        }
      ]
    },
    {
      "cell_type": "code",
      "source": [
        "%%time\n",
        "\n",
        "(\n",
        "    transactions\n",
        "    .group_by(\"CUST_ID\")\n",
        "    .agg(pl.col(\"AMOUNT\").max().alias(\"max_amount\"))\n",
        "    .sort(by=\"max_amount\", descending=True)\n",
        "    .head()\n",
        "    .collect(engine=gpu_engine)\n",
        ")"
      ],
      "metadata": {
        "colab": {
          "base_uri": "https://localhost:8080/",
          "height": 290
        },
        "id": "mjlU5N8LLMbe",
        "outputId": "7a4262fb-5a06-4040-9b71-d6ac191a31fc"
      },
      "execution_count": 29,
      "outputs": [
        {
          "output_type": "stream",
          "name": "stdout",
          "text": [
            "CPU times: user 249 ms, sys: 57.5 ms, total: 307 ms\n",
            "Wall time: 416 ms\n"
          ]
        },
        {
          "output_type": "execute_result",
          "data": {
            "text/plain": [
              "shape: (5, 2)\n",
              "┌────────────┬────────────┐\n",
              "│ CUST_ID    ┆ max_amount │\n",
              "│ ---        ┆ ---        │\n",
              "│ str        ┆ f64        │\n",
              "╞════════════╪════════════╡\n",
              "│ CIP0I11MG2 ┆ 6201.45    │\n",
              "│ C4O38N5TQS ┆ 6077.49    │\n",
              "│ CL2M3N3K90 ┆ 6041.59    │\n",
              "│ CC472PU9O8 ┆ 5929.14    │\n",
              "│ CGR8UI27OK ┆ 5903.61    │\n",
              "└────────────┴────────────┘"
            ],
            "text/html": [
              "<div><style>\n",
              ".dataframe > thead > tr,\n",
              ".dataframe > tbody > tr {\n",
              "  text-align: right;\n",
              "  white-space: pre-wrap;\n",
              "}\n",
              "</style>\n",
              "<small>shape: (5, 2)</small><table border=\"1\" class=\"dataframe\"><thead><tr><th>CUST_ID</th><th>max_amount</th></tr><tr><td>str</td><td>f64</td></tr></thead><tbody><tr><td>&quot;CIP0I11MG2&quot;</td><td>6201.45</td></tr><tr><td>&quot;C4O38N5TQS&quot;</td><td>6077.49</td></tr><tr><td>&quot;CL2M3N3K90&quot;</td><td>6041.59</td></tr><tr><td>&quot;CC472PU9O8&quot;</td><td>5929.14</td></tr><tr><td>&quot;CGR8UI27OK&quot;</td><td>5903.61</td></tr></tbody></table></div>"
            ]
          },
          "metadata": {},
          "execution_count": 29
        }
      ]
    },
    {
      "cell_type": "code",
      "source": [
        "\n",
        "names = ['Location', 'Rainfall (inches)', 'Date', 'YEAR', 'MONTH', 'DAY']\n",
        "\n",
        "weather = pl.scan_csv(\"rainfall_data_2010_2020.csv\", new_columns=names)\n",
        "weather.head().collect()"
      ],
      "metadata": {
        "colab": {
          "base_uri": "https://localhost:8080/",
          "height": 255
        },
        "id": "cF_EmAjpLP7Z",
        "outputId": "705d6f84-5b66-47b2-8499-fc7508e5a275"
      },
      "execution_count": 30,
      "outputs": [
        {
          "output_type": "execute_result",
          "data": {
            "text/plain": [
              "shape: (5, 6)\n",
              "┌──────────┬───────────────────┬──────────┬──────┬───────┬─────┐\n",
              "│ Location ┆ Rainfall (inches) ┆ Date     ┆ YEAR ┆ MONTH ┆ DAY │\n",
              "│ ---      ┆ ---               ┆ ---      ┆ ---  ┆ ---   ┆ --- │\n",
              "│ str      ┆ f64               ┆ i64      ┆ i64  ┆ i64   ┆ i64 │\n",
              "╞══════════╪═══════════════════╪══════════╪══════╪═══════╪═════╡\n",
              "│ Tatooine ┆ 0.33              ┆ 20100101 ┆ 2010 ┆ 1     ┆ 1   │\n",
              "│ Tatooine ┆ 0.0               ┆ 20100102 ┆ 2010 ┆ 1     ┆ 2   │\n",
              "│ Tatooine ┆ 0.28              ┆ 20100103 ┆ 2010 ┆ 1     ┆ 3   │\n",
              "│ Tatooine ┆ 0.26              ┆ 20100104 ┆ 2010 ┆ 1     ┆ 4   │\n",
              "│ Tatooine ┆ 0.39              ┆ 20100105 ┆ 2010 ┆ 1     ┆ 5   │\n",
              "└──────────┴───────────────────┴──────────┴──────┴───────┴─────┘"
            ],
            "text/html": [
              "<div><style>\n",
              ".dataframe > thead > tr,\n",
              ".dataframe > tbody > tr {\n",
              "  text-align: right;\n",
              "  white-space: pre-wrap;\n",
              "}\n",
              "</style>\n",
              "<small>shape: (5, 6)</small><table border=\"1\" class=\"dataframe\"><thead><tr><th>Location</th><th>Rainfall (inches)</th><th>Date</th><th>YEAR</th><th>MONTH</th><th>DAY</th></tr><tr><td>str</td><td>f64</td><td>i64</td><td>i64</td><td>i64</td><td>i64</td></tr></thead><tbody><tr><td>&quot;Tatooine&quot;</td><td>0.33</td><td>20100101</td><td>2010</td><td>1</td><td>1</td></tr><tr><td>&quot;Tatooine&quot;</td><td>0.0</td><td>20100102</td><td>2010</td><td>1</td><td>2</td></tr><tr><td>&quot;Tatooine&quot;</td><td>0.28</td><td>20100103</td><td>2010</td><td>1</td><td>3</td></tr><tr><td>&quot;Tatooine&quot;</td><td>0.26</td><td>20100104</td><td>2010</td><td>1</td><td>4</td></tr><tr><td>&quot;Tatooine&quot;</td><td>0.39</td><td>20100105</td><td>2010</td><td>1</td><td>5</td></tr></tbody></table></div>"
            ]
          },
          "metadata": {},
          "execution_count": 30
        }
      ]
    },
    {
      "cell_type": "code",
      "source": [
        "weather_cleaned = (\n",
        "    weather\n",
        "    .with_columns(pl.col(\"Date\").cast(pl.Utf8).str.strptime(pl.Date(), \"%Y%m%d\"))\n",
        "    .collect()\n",
        ")"
      ],
      "metadata": {
        "id": "0g5aYg2VLt1t"
      },
      "execution_count": 31,
      "outputs": []
    },
    {
      "cell_type": "code",
      "source": [
        "%%time\n",
        "\n",
        "(\n",
        "    transactions\n",
        "    .join(\n",
        "        other=weather_cleaned.lazy(),\n",
        "        left_on=\"DATE\",\n",
        "        right_on=\"Date\",\n",
        "        how=\"inner\"\n",
        "    )\n",
        "    .group_by([\"EXP_TYPE\", \"DATE\"])\n",
        "    .agg(pl.mean(\"Rainfall (inches)\"))\n",
        "    .sort([\"DATE\", \"EXP_TYPE\", \"Rainfall (inches)\"])\n",
        "    .head()\n",
        "    .collect()\n",
        ")"
      ],
      "metadata": {
        "colab": {
          "base_uri": "https://localhost:8080/",
          "height": 290
        },
        "id": "yCJWWzyBLv2q",
        "outputId": "b7f752cb-ab51-48d7-d780-aca117d393fc"
      },
      "execution_count": 32,
      "outputs": [
        {
          "output_type": "stream",
          "name": "stdout",
          "text": [
            "CPU times: user 11.8 s, sys: 4.23 s, total: 16.1 s\n",
            "Wall time: 10.1 s\n"
          ]
        },
        {
          "output_type": "execute_result",
          "data": {
            "text/plain": [
              "shape: (5, 3)\n",
              "┌─────────────────────┬────────────┬───────────────────┐\n",
              "│ EXP_TYPE            ┆ DATE       ┆ Rainfall (inches) │\n",
              "│ ---                 ┆ ---        ┆ ---               │\n",
              "│ str                 ┆ date       ┆ f64               │\n",
              "╞═════════════════════╪════════════╪═══════════════════╡\n",
              "│ Bills and Utilities ┆ 2010-01-01 ┆ 0.33              │\n",
              "│ Clothing            ┆ 2010-01-01 ┆ 0.33              │\n",
              "│ Education           ┆ 2010-01-01 ┆ 0.33              │\n",
              "│ Entertainment       ┆ 2010-01-01 ┆ 0.33              │\n",
              "│ Fines               ┆ 2010-01-01 ┆ 0.33              │\n",
              "└─────────────────────┴────────────┴───────────────────┘"
            ],
            "text/html": [
              "<div><style>\n",
              ".dataframe > thead > tr,\n",
              ".dataframe > tbody > tr {\n",
              "  text-align: right;\n",
              "  white-space: pre-wrap;\n",
              "}\n",
              "</style>\n",
              "<small>shape: (5, 3)</small><table border=\"1\" class=\"dataframe\"><thead><tr><th>EXP_TYPE</th><th>DATE</th><th>Rainfall (inches)</th></tr><tr><td>str</td><td>date</td><td>f64</td></tr></thead><tbody><tr><td>&quot;Bills and Utilities&quot;</td><td>2010-01-01</td><td>0.33</td></tr><tr><td>&quot;Clothing&quot;</td><td>2010-01-01</td><td>0.33</td></tr><tr><td>&quot;Education&quot;</td><td>2010-01-01</td><td>0.33</td></tr><tr><td>&quot;Entertainment&quot;</td><td>2010-01-01</td><td>0.33</td></tr><tr><td>&quot;Fines&quot;</td><td>2010-01-01</td><td>0.33</td></tr></tbody></table></div>"
            ]
          },
          "metadata": {},
          "execution_count": 32
        }
      ]
    },
    {
      "cell_type": "code",
      "source": [
        "%%time\n",
        "\n",
        "(\n",
        "    transactions\n",
        "    .join(\n",
        "        other=weather_cleaned.lazy(),\n",
        "        left_on=\"DATE\",\n",
        "        right_on=\"Date\",\n",
        "        how=\"inner\"\n",
        "    )\n",
        "    .group_by([\"EXP_TYPE\", \"DATE\"])\n",
        "    .agg(pl.mean(\"Rainfall (inches)\"))\n",
        "    .sort([\"DATE\", \"EXP_TYPE\", \"Rainfall (inches)\"])\n",
        "    .head()\n",
        "    .collect(engine=gpu_engine)\n",
        ")"
      ],
      "metadata": {
        "colab": {
          "base_uri": "https://localhost:8080/",
          "height": 290
        },
        "id": "77CFIuAdL2E4",
        "outputId": "4ea3259c-3a1a-4c76-f675-b5690e0c8652"
      },
      "execution_count": 33,
      "outputs": [
        {
          "output_type": "stream",
          "name": "stdout",
          "text": [
            "CPU times: user 462 ms, sys: 96.9 ms, total: 559 ms\n",
            "Wall time: 717 ms\n"
          ]
        },
        {
          "output_type": "execute_result",
          "data": {
            "text/plain": [
              "shape: (5, 3)\n",
              "┌─────────────────────┬────────────┬───────────────────┐\n",
              "│ EXP_TYPE            ┆ DATE       ┆ Rainfall (inches) │\n",
              "│ ---                 ┆ ---        ┆ ---               │\n",
              "│ str                 ┆ date       ┆ f64               │\n",
              "╞═════════════════════╪════════════╪═══════════════════╡\n",
              "│ Bills and Utilities ┆ 2010-01-01 ┆ 0.33              │\n",
              "│ Clothing            ┆ 2010-01-01 ┆ 0.33              │\n",
              "│ Education           ┆ 2010-01-01 ┆ 0.33              │\n",
              "│ Entertainment       ┆ 2010-01-01 ┆ 0.33              │\n",
              "│ Fines               ┆ 2010-01-01 ┆ 0.33              │\n",
              "└─────────────────────┴────────────┴───────────────────┘"
            ],
            "text/html": [
              "<div><style>\n",
              ".dataframe > thead > tr,\n",
              ".dataframe > tbody > tr {\n",
              "  text-align: right;\n",
              "  white-space: pre-wrap;\n",
              "}\n",
              "</style>\n",
              "<small>shape: (5, 3)</small><table border=\"1\" class=\"dataframe\"><thead><tr><th>EXP_TYPE</th><th>DATE</th><th>Rainfall (inches)</th></tr><tr><td>str</td><td>date</td><td>f64</td></tr></thead><tbody><tr><td>&quot;Bills and Utilities&quot;</td><td>2010-01-01</td><td>0.33</td></tr><tr><td>&quot;Clothing&quot;</td><td>2010-01-01</td><td>0.33</td></tr><tr><td>&quot;Education&quot;</td><td>2010-01-01</td><td>0.33</td></tr><tr><td>&quot;Entertainment&quot;</td><td>2010-01-01</td><td>0.33</td></tr><tr><td>&quot;Fines&quot;</td><td>2010-01-01</td><td>0.33</td></tr></tbody></table></div>"
            ]
          },
          "metadata": {},
          "execution_count": 33
        }
      ]
    },
    {
      "cell_type": "code",
      "source": [
        "res = (\n",
        "    transactions\n",
        "    .join(\n",
        "        other=weather_cleaned.lazy(),\n",
        "        left_on=\"DATE\",\n",
        "        right_on=\"Date\",\n",
        "        how=\"inner\"\n",
        "    )\n",
        "    .group_by([\"EXP_TYPE\", \"YEAR\", \"MONTH\"])\n",
        "    .agg(pl.sum(\"Rainfall (inches)\"), pl.sum(\"AMOUNT\"))\n",
        "    .sort([\"YEAR\", \"MONTH\"])\n",
        "    .collect(engine=gpu_engine)\n",
        ")\n",
        "\n",
        "res"
      ],
      "metadata": {
        "colab": {
          "base_uri": "https://localhost:8080/",
          "height": 443
        },
        "id": "8WZST_oIL60Y",
        "outputId": "e719f517-1ee4-4f2c-fe57-d2dd6f4df2b8"
      },
      "execution_count": 34,
      "outputs": [
        {
          "output_type": "execute_result",
          "data": {
            "text/plain": [
              "shape: (1_584, 5)\n",
              "┌─────────────────────┬──────┬───────┬───────────────────┬───────────┐\n",
              "│ EXP_TYPE            ┆ YEAR ┆ MONTH ┆ Rainfall (inches) ┆ AMOUNT    │\n",
              "│ ---                 ┆ ---  ┆ ---   ┆ ---               ┆ ---       │\n",
              "│ str                 ┆ i64  ┆ i64   ┆ f64               ┆ f64       │\n",
              "╞═════════════════════╪══════╪═══════╪═══════════════════╪═══════════╡\n",
              "│ Health              ┆ 2010 ┆ 1     ┆ 51.45             ┆ 12852.68  │\n",
              "│ Groceries           ┆ 2010 ┆ 1     ┆ 294.3             ┆ 26341.02  │\n",
              "│ Bills and Utilities ┆ 2010 ┆ 1     ┆ 59.41             ┆ 26307.97  │\n",
              "│ Fines               ┆ 2010 ┆ 1     ┆ 0.91              ┆ 315.2     │\n",
              "│ Education           ┆ 2010 ┆ 1     ┆ 25.67             ┆ 20602.49  │\n",
              "│ …                   ┆ …    ┆ …     ┆ …                 ┆ …         │\n",
              "│ Fines               ┆ 2020 ┆ 12    ┆ 3.43              ┆ 13707.66  │\n",
              "│ Clothing            ┆ 2020 ┆ 12    ┆ 413.24            ┆ 5.5658e6  │\n",
              "│ Motor/Travel        ┆ 2020 ┆ 12    ┆ 1434.55           ┆ 1.5570e7  │\n",
              "│ Groceries           ┆ 2020 ┆ 12    ┆ 2246.48           ┆ 4.2694e6  │\n",
              "│ Savings             ┆ 2020 ┆ 12    ┆ 129.21            ┆ 559804.01 │\n",
              "└─────────────────────┴──────┴───────┴───────────────────┴───────────┘"
            ],
            "text/html": [
              "<div><style>\n",
              ".dataframe > thead > tr,\n",
              ".dataframe > tbody > tr {\n",
              "  text-align: right;\n",
              "  white-space: pre-wrap;\n",
              "}\n",
              "</style>\n",
              "<small>shape: (1_584, 5)</small><table border=\"1\" class=\"dataframe\"><thead><tr><th>EXP_TYPE</th><th>YEAR</th><th>MONTH</th><th>Rainfall (inches)</th><th>AMOUNT</th></tr><tr><td>str</td><td>i64</td><td>i64</td><td>f64</td><td>f64</td></tr></thead><tbody><tr><td>&quot;Health&quot;</td><td>2010</td><td>1</td><td>51.45</td><td>12852.68</td></tr><tr><td>&quot;Groceries&quot;</td><td>2010</td><td>1</td><td>294.3</td><td>26341.02</td></tr><tr><td>&quot;Bills and Utilities&quot;</td><td>2010</td><td>1</td><td>59.41</td><td>26307.97</td></tr><tr><td>&quot;Fines&quot;</td><td>2010</td><td>1</td><td>0.91</td><td>315.2</td></tr><tr><td>&quot;Education&quot;</td><td>2010</td><td>1</td><td>25.67</td><td>20602.49</td></tr><tr><td>&hellip;</td><td>&hellip;</td><td>&hellip;</td><td>&hellip;</td><td>&hellip;</td></tr><tr><td>&quot;Fines&quot;</td><td>2020</td><td>12</td><td>3.43</td><td>13707.66</td></tr><tr><td>&quot;Clothing&quot;</td><td>2020</td><td>12</td><td>413.24</td><td>5.5658e6</td></tr><tr><td>&quot;Motor/Travel&quot;</td><td>2020</td><td>12</td><td>1434.55</td><td>1.5570e7</td></tr><tr><td>&quot;Groceries&quot;</td><td>2020</td><td>12</td><td>2246.48</td><td>4.2694e6</td></tr><tr><td>&quot;Savings&quot;</td><td>2020</td><td>12</td><td>129.21</td><td>559804.01</td></tr></tbody></table></div>"
            ]
          },
          "metadata": {},
          "execution_count": 34
        }
      ]
    },
    {
      "cell_type": "code",
      "source": [
        "engine_with_fallback = pl.GPUEngine(\n",
        "    device=0, # This is the default\n",
        "    raise_on_fail=False, # Fallback to CPU if we can't run on the GPU (this is the default)\n",
        ")"
      ],
      "metadata": {
        "id": "x7hf77bML-Zw"
      },
      "execution_count": 35,
      "outputs": []
    },
    {
      "cell_type": "code",
      "source": [
        "%%time\n",
        "\n",
        "result = transactions.with_columns(\n",
        "    pl.col('AMOUNT').rolling_mean(\n",
        "        window_size=7\n",
        "    )\n",
        "     .alias('rolling_avg')\n",
        ").collect(engine=engine_with_fallback)\n",
        "\n",
        "result.head()"
      ],
      "metadata": {
        "colab": {
          "base_uri": "https://localhost:8080/",
          "height": 290
        },
        "id": "loBJ32kOMIWV",
        "outputId": "c5b32367-3ef1-4285-ebcf-7fee330fa96f"
      },
      "execution_count": 36,
      "outputs": [
        {
          "output_type": "stream",
          "name": "stdout",
          "text": [
            "CPU times: user 6.29 s, sys: 3.37 s, total: 9.66 s\n",
            "Wall time: 6.89 s\n"
          ]
        },
        {
          "output_type": "execute_result",
          "data": {
            "text/plain": [
              "shape: (5, 11)\n",
              "┌────────────┬────────────┬──────────┬──────────────┬───┬─────┬─────────────┬────────┬─────────────┐\n",
              "│ CUST_ID    ┆ START_DATE ┆ END_DATE ┆ TRANS_ID     ┆ … ┆ DAY ┆ EXP_TYPE    ┆ AMOUNT ┆ rolling_avg │\n",
              "│ ---        ┆ ---        ┆ ---      ┆ ---          ┆   ┆ --- ┆ ---         ┆ ---    ┆ ---         │\n",
              "│ str        ┆ date       ┆ date     ┆ str          ┆   ┆ i64 ┆ str         ┆ f64    ┆ f64         │\n",
              "╞════════════╪════════════╪══════════╪══════════════╪═══╪═════╪═════════════╪════════╪═════════════╡\n",
              "│ CI6XLYUMQK ┆ 2015-05-01 ┆ null     ┆ T8I9ZB5A6X90 ┆ … ┆ 11  ┆ Motor/Trave ┆ 20.27  ┆ null        │\n",
              "│            ┆            ┆          ┆ UG8          ┆   ┆     ┆ l           ┆        ┆             │\n",
              "│ CI6XLYUMQK ┆ 2015-05-01 ┆ null     ┆ TZ4JSLS7SC7F ┆ … ┆ 8   ┆ Motor/Trave ┆ 12.85  ┆ null        │\n",
              "│            ┆            ┆          ┆ O9H          ┆   ┆     ┆ l           ┆        ┆             │\n",
              "│ CI6XLYUMQK ┆ 2015-05-01 ┆ null     ┆ TTUKRDDJ6B6F ┆ … ┆ 1   ┆ Housing     ┆ 383.8  ┆ null        │\n",
              "│            ┆            ┆          ┆ 42H          ┆   ┆     ┆             ┆        ┆             │\n",
              "│ CI6XLYUMQK ┆ 2015-05-01 ┆ null     ┆ TDUHFRUKGPPI ┆ … ┆ 16  ┆ Entertainme ┆ 5.72   ┆ null        │\n",
              "│            ┆            ┆          ┆ 6HD          ┆   ┆     ┆ nt          ┆        ┆             │\n",
              "│ CI6XLYUMQK ┆ 2015-05-01 ┆ null     ┆ T0JBZHBMSVRF ┆ … ┆ 15  ┆ Entertainme ┆ 11.06  ┆ null        │\n",
              "│            ┆            ┆          ┆ MMD          ┆   ┆     ┆ nt          ┆        ┆             │\n",
              "└────────────┴────────────┴──────────┴──────────────┴───┴─────┴─────────────┴────────┴─────────────┘"
            ],
            "text/html": [
              "<div><style>\n",
              ".dataframe > thead > tr,\n",
              ".dataframe > tbody > tr {\n",
              "  text-align: right;\n",
              "  white-space: pre-wrap;\n",
              "}\n",
              "</style>\n",
              "<small>shape: (5, 11)</small><table border=\"1\" class=\"dataframe\"><thead><tr><th>CUST_ID</th><th>START_DATE</th><th>END_DATE</th><th>TRANS_ID</th><th>DATE</th><th>YEAR</th><th>MONTH</th><th>DAY</th><th>EXP_TYPE</th><th>AMOUNT</th><th>rolling_avg</th></tr><tr><td>str</td><td>date</td><td>date</td><td>str</td><td>date</td><td>i64</td><td>i64</td><td>i64</td><td>str</td><td>f64</td><td>f64</td></tr></thead><tbody><tr><td>&quot;CI6XLYUMQK&quot;</td><td>2015-05-01</td><td>null</td><td>&quot;T8I9ZB5A6X90UG8&quot;</td><td>2015-09-11</td><td>2015</td><td>9</td><td>11</td><td>&quot;Motor/Travel&quot;</td><td>20.27</td><td>null</td></tr><tr><td>&quot;CI6XLYUMQK&quot;</td><td>2015-05-01</td><td>null</td><td>&quot;TZ4JSLS7SC7FO9H&quot;</td><td>2017-02-08</td><td>2017</td><td>2</td><td>8</td><td>&quot;Motor/Travel&quot;</td><td>12.85</td><td>null</td></tr><tr><td>&quot;CI6XLYUMQK&quot;</td><td>2015-05-01</td><td>null</td><td>&quot;TTUKRDDJ6B6F42H&quot;</td><td>2015-08-01</td><td>2015</td><td>8</td><td>1</td><td>&quot;Housing&quot;</td><td>383.8</td><td>null</td></tr><tr><td>&quot;CI6XLYUMQK&quot;</td><td>2015-05-01</td><td>null</td><td>&quot;TDUHFRUKGPPI6HD&quot;</td><td>2019-03-16</td><td>2019</td><td>3</td><td>16</td><td>&quot;Entertainment&quot;</td><td>5.72</td><td>null</td></tr><tr><td>&quot;CI6XLYUMQK&quot;</td><td>2015-05-01</td><td>null</td><td>&quot;T0JBZHBMSVRFMMD&quot;</td><td>2015-05-15</td><td>2015</td><td>5</td><td>15</td><td>&quot;Entertainment&quot;</td><td>11.06</td><td>null</td></tr></tbody></table></div>"
            ]
          },
          "metadata": {},
          "execution_count": 36
        }
      ]
    },
    {
      "cell_type": "code",
      "source": [
        "(\n",
        "    res\n",
        "    .with_columns(\n",
        "        pl.date(pl.col(\"YEAR\"), pl.col(\"MONTH\"), 1).alias(\"date-month\"),\n",
        "        pl.col(\"Rainfall (inches)\")*100,\n",
        "    )\n",
        "    .hvplot.line(\n",
        "        x=\"date-month\", y=[\"AMOUNT\", \"Rainfall (inches)\"],\n",
        "        by=['EXP_TYPE'],\n",
        "        rot=45,\n",
        "    )\n",
        ")"
      ],
      "metadata": {
        "colab": {
          "base_uri": "https://localhost:8080/",
          "height": 327
        },
        "id": "SmM-CfiKMMj6",
        "outputId": "4dfb4438-4899-48d9-e758-b293accbb5f4"
      },
      "execution_count": 37,
      "outputs": [
        {
          "output_type": "display_data",
          "data": {
            "text/html": [
              "<script type=\"esms-options\">{\"shimMode\": true}</script><style>*[data-root-id],\n",
              "*[data-root-id] > * {\n",
              "  box-sizing: border-box;\n",
              "  font-family: var(--jp-ui-font-family);\n",
              "  font-size: var(--jp-ui-font-size1);\n",
              "  color: var(--vscode-editor-foreground, var(--jp-ui-font-color1));\n",
              "}\n",
              "\n",
              "/* Override VSCode background color */\n",
              ".cell-output-ipywidget-background:has(\n",
              "    > .cell-output-ipywidget-background > .lm-Widget > *[data-root-id]\n",
              "  ),\n",
              ".cell-output-ipywidget-background:has(> .lm-Widget > *[data-root-id]) {\n",
              "  background-color: transparent !important;\n",
              "}\n",
              "</style>"
            ]
          },
          "metadata": {}
        },
        {
          "output_type": "display_data",
          "data": {
            "application/javascript": [
              "(function(root) {\n",
              "  function now() {\n",
              "    return new Date();\n",
              "  }\n",
              "\n",
              "  const force = true;\n",
              "  const py_version = '3.6.3'.replace('rc', '-rc.').replace('.dev', '-dev.');\n",
              "  const reloading = false;\n",
              "  const Bokeh = root.Bokeh;\n",
              "\n",
              "  // Set a timeout for this load but only if we are not already initializing\n",
              "  if (typeof (root._bokeh_timeout) === \"undefined\" || (force || !root._bokeh_is_initializing)) {\n",
              "    root._bokeh_timeout = Date.now() + 5000;\n",
              "    root._bokeh_failed_load = false;\n",
              "  }\n",
              "\n",
              "  function run_callbacks() {\n",
              "    try {\n",
              "      root._bokeh_onload_callbacks.forEach(function(callback) {\n",
              "        if (callback != null)\n",
              "          callback();\n",
              "      });\n",
              "    } finally {\n",
              "      delete root._bokeh_onload_callbacks;\n",
              "    }\n",
              "    console.debug(\"Bokeh: all callbacks have finished\");\n",
              "  }\n",
              "\n",
              "  function load_libs(css_urls, js_urls, js_modules, js_exports, callback) {\n",
              "    if (css_urls == null) css_urls = [];\n",
              "    if (js_urls == null) js_urls = [];\n",
              "    if (js_modules == null) js_modules = [];\n",
              "    if (js_exports == null) js_exports = {};\n",
              "\n",
              "    root._bokeh_onload_callbacks.push(callback);\n",
              "\n",
              "    if (root._bokeh_is_loading > 0) {\n",
              "      // Don't load bokeh if it is still initializing\n",
              "      console.debug(\"Bokeh: BokehJS is being loaded, scheduling callback at\", now());\n",
              "      return null;\n",
              "    } else if (js_urls.length === 0 && js_modules.length === 0 && Object.keys(js_exports).length === 0) {\n",
              "      // There is nothing to load\n",
              "      run_callbacks();\n",
              "      return null;\n",
              "    }\n",
              "\n",
              "    function on_load() {\n",
              "      root._bokeh_is_loading--;\n",
              "      if (root._bokeh_is_loading === 0) {\n",
              "        console.debug(\"Bokeh: all BokehJS libraries/stylesheets loaded\");\n",
              "        run_callbacks()\n",
              "      }\n",
              "    }\n",
              "    window._bokeh_on_load = on_load\n",
              "\n",
              "    function on_error(e) {\n",
              "      const src_el = e.srcElement\n",
              "      console.error(\"failed to load \" + (src_el.href || src_el.src));\n",
              "    }\n",
              "\n",
              "    const skip = [];\n",
              "    if (window.requirejs) {\n",
              "      window.requirejs.config({'packages': {}, 'paths': {}, 'shim': {}});\n",
              "      root._bokeh_is_loading = css_urls.length + 0;\n",
              "    } else {\n",
              "      root._bokeh_is_loading = css_urls.length + js_urls.length + js_modules.length + Object.keys(js_exports).length;\n",
              "    }\n",
              "\n",
              "    const existing_stylesheets = []\n",
              "    const links = document.getElementsByTagName('link')\n",
              "    for (let i = 0; i < links.length; i++) {\n",
              "      const link = links[i]\n",
              "      if (link.href != null) {\n",
              "        existing_stylesheets.push(link.href)\n",
              "      }\n",
              "    }\n",
              "    for (let i = 0; i < css_urls.length; i++) {\n",
              "      const url = css_urls[i];\n",
              "      const escaped = encodeURI(url)\n",
              "      if (existing_stylesheets.indexOf(escaped) !== -1) {\n",
              "        on_load()\n",
              "        continue;\n",
              "      }\n",
              "      const element = document.createElement(\"link\");\n",
              "      element.onload = on_load;\n",
              "      element.onerror = on_error;\n",
              "      element.rel = \"stylesheet\";\n",
              "      element.type = \"text/css\";\n",
              "      element.href = url;\n",
              "      console.debug(\"Bokeh: injecting link tag for BokehJS stylesheet: \", url);\n",
              "      document.body.appendChild(element);\n",
              "    }    var existing_scripts = []\n",
              "    const scripts = document.getElementsByTagName('script')\n",
              "    for (let i = 0; i < scripts.length; i++) {\n",
              "      var script = scripts[i]\n",
              "      if (script.src != null) {\n",
              "        existing_scripts.push(script.src)\n",
              "      }\n",
              "    }\n",
              "    for (let i = 0; i < js_urls.length; i++) {\n",
              "      const url = js_urls[i];\n",
              "      const escaped = encodeURI(url)\n",
              "      if (skip.indexOf(escaped) !== -1 || existing_scripts.indexOf(escaped) !== -1) {\n",
              "        if (!window.requirejs) {\n",
              "          on_load();\n",
              "        }\n",
              "        continue;\n",
              "      }\n",
              "      const element = document.createElement('script');\n",
              "      element.onload = on_load;\n",
              "      element.onerror = on_error;\n",
              "      element.async = false;\n",
              "      element.src = url;\n",
              "      console.debug(\"Bokeh: injecting script tag for BokehJS library: \", url);\n",
              "      document.head.appendChild(element);\n",
              "    }\n",
              "    for (let i = 0; i < js_modules.length; i++) {\n",
              "      const url = js_modules[i];\n",
              "      const escaped = encodeURI(url)\n",
              "      if (skip.indexOf(escaped) !== -1 || existing_scripts.indexOf(escaped) !== -1) {\n",
              "        if (!window.requirejs) {\n",
              "          on_load();\n",
              "        }\n",
              "        continue;\n",
              "      }\n",
              "      var element = document.createElement('script');\n",
              "      element.onload = on_load;\n",
              "      element.onerror = on_error;\n",
              "      element.async = false;\n",
              "      element.src = url;\n",
              "      element.type = \"module\";\n",
              "      console.debug(\"Bokeh: injecting script tag for BokehJS library: \", url);\n",
              "      document.head.appendChild(element);\n",
              "    }\n",
              "    for (const name in js_exports) {\n",
              "      const url = js_exports[name];\n",
              "      const escaped = encodeURI(url)\n",
              "      if (skip.indexOf(escaped) >= 0 || root[name] != null) {\n",
              "        if (!window.requirejs) {\n",
              "          on_load();\n",
              "        }\n",
              "        continue;\n",
              "      }\n",
              "      var element = document.createElement('script');\n",
              "      element.onerror = on_error;\n",
              "      element.async = false;\n",
              "      element.type = \"module\";\n",
              "      console.debug(\"Bokeh: injecting script tag for BokehJS library: \", url);\n",
              "      element.textContent = `\n",
              "      import ${name} from \"${url}\"\n",
              "      window.${name} = ${name}\n",
              "      window._bokeh_on_load()\n",
              "      `\n",
              "      document.head.appendChild(element);\n",
              "    }\n",
              "    if (!js_urls.length && !js_modules.length) {\n",
              "      on_load()\n",
              "    }\n",
              "  };\n",
              "\n",
              "  function inject_raw_css(css) {\n",
              "    const element = document.createElement(\"style\");\n",
              "    element.appendChild(document.createTextNode(css));\n",
              "    document.body.appendChild(element);\n",
              "  }\n",
              "\n",
              "  const js_urls = [\"https://cdn.holoviz.org/panel/1.6.2/dist/bundled/reactiveesm/es-module-shims@^1.10.0/dist/es-module-shims.min.js\", \"https://cdn.bokeh.org/bokeh/release/bokeh-3.6.3.min.js\", \"https://cdn.bokeh.org/bokeh/release/bokeh-gl-3.6.3.min.js\", \"https://cdn.bokeh.org/bokeh/release/bokeh-widgets-3.6.3.min.js\", \"https://cdn.bokeh.org/bokeh/release/bokeh-tables-3.6.3.min.js\", \"https://cdn.holoviz.org/panel/1.6.2/dist/panel.min.js\"];\n",
              "  const js_modules = [];\n",
              "  const js_exports = {};\n",
              "  const css_urls = [];\n",
              "  const inline_js = [    function(Bokeh) {\n",
              "      Bokeh.set_log_level(\"info\");\n",
              "    },\n",
              "function(Bokeh) {} // ensure no trailing comma for IE\n",
              "  ];\n",
              "\n",
              "  function run_inline_js() {\n",
              "    if ((root.Bokeh !== undefined) || (force === true)) {\n",
              "      for (let i = 0; i < inline_js.length; i++) {\n",
              "        try {\n",
              "          inline_js[i].call(root, root.Bokeh);\n",
              "        } catch(e) {\n",
              "          if (!reloading) {\n",
              "            throw e;\n",
              "          }\n",
              "        }\n",
              "      }\n",
              "      // Cache old bokeh versions\n",
              "      if (Bokeh != undefined && !reloading) {\n",
              "        var NewBokeh = root.Bokeh;\n",
              "        if (Bokeh.versions === undefined) {\n",
              "          Bokeh.versions = new Map();\n",
              "        }\n",
              "        if (NewBokeh.version !== Bokeh.version) {\n",
              "          Bokeh.versions.set(NewBokeh.version, NewBokeh)\n",
              "        }\n",
              "        root.Bokeh = Bokeh;\n",
              "      }\n",
              "    } else if (Date.now() < root._bokeh_timeout) {\n",
              "      setTimeout(run_inline_js, 100);\n",
              "    } else if (!root._bokeh_failed_load) {\n",
              "      console.log(\"Bokeh: BokehJS failed to load within specified timeout.\");\n",
              "      root._bokeh_failed_load = true;\n",
              "    }\n",
              "    root._bokeh_is_initializing = false\n",
              "  }\n",
              "\n",
              "  function load_or_wait() {\n",
              "    // Implement a backoff loop that tries to ensure we do not load multiple\n",
              "    // versions of Bokeh and its dependencies at the same time.\n",
              "    // In recent versions we use the root._bokeh_is_initializing flag\n",
              "    // to determine whether there is an ongoing attempt to initialize\n",
              "    // bokeh, however for backward compatibility we also try to ensure\n",
              "    // that we do not start loading a newer (Panel>=1.0 and Bokeh>3) version\n",
              "    // before older versions are fully initialized.\n",
              "    if (root._bokeh_is_initializing && Date.now() > root._bokeh_timeout) {\n",
              "      // If the timeout and bokeh was not successfully loaded we reset\n",
              "      // everything and try loading again\n",
              "      root._bokeh_timeout = Date.now() + 5000;\n",
              "      root._bokeh_is_initializing = false;\n",
              "      root._bokeh_onload_callbacks = undefined;\n",
              "      root._bokeh_is_loading = 0\n",
              "      console.log(\"Bokeh: BokehJS was loaded multiple times but one version failed to initialize.\");\n",
              "      load_or_wait();\n",
              "    } else if (root._bokeh_is_initializing || (typeof root._bokeh_is_initializing === \"undefined\" && root._bokeh_onload_callbacks !== undefined)) {\n",
              "      setTimeout(load_or_wait, 100);\n",
              "    } else {\n",
              "      root._bokeh_is_initializing = true\n",
              "      root._bokeh_onload_callbacks = []\n",
              "      const bokeh_loaded = root.Bokeh != null && (root.Bokeh.version === py_version || (root.Bokeh.versions !== undefined && root.Bokeh.versions.has(py_version)));\n",
              "      if (!reloading && !bokeh_loaded) {\n",
              "        if (root.Bokeh) {\n",
              "          root.Bokeh = undefined;\n",
              "        }\n",
              "        console.debug(\"Bokeh: BokehJS not loaded, scheduling load and callback at\", now());\n",
              "      }\n",
              "      load_libs(css_urls, js_urls, js_modules, js_exports, function() {\n",
              "        console.debug(\"Bokeh: BokehJS plotting callback run at\", now());\n",
              "        run_inline_js();\n",
              "      });\n",
              "    }\n",
              "  }\n",
              "  // Give older versions of the autoload script a head-start to ensure\n",
              "  // they initialize before we start loading newer version.\n",
              "  setTimeout(load_or_wait, 100)\n",
              "}(window));"
            ],
            "application/vnd.holoviews_load.v0+json": "(function(root) {\n  function now() {\n    return new Date();\n  }\n\n  const force = true;\n  const py_version = '3.6.3'.replace('rc', '-rc.').replace('.dev', '-dev.');\n  const reloading = false;\n  const Bokeh = root.Bokeh;\n\n  // Set a timeout for this load but only if we are not already initializing\n  if (typeof (root._bokeh_timeout) === \"undefined\" || (force || !root._bokeh_is_initializing)) {\n    root._bokeh_timeout = Date.now() + 5000;\n    root._bokeh_failed_load = false;\n  }\n\n  function run_callbacks() {\n    try {\n      root._bokeh_onload_callbacks.forEach(function(callback) {\n        if (callback != null)\n          callback();\n      });\n    } finally {\n      delete root._bokeh_onload_callbacks;\n    }\n    console.debug(\"Bokeh: all callbacks have finished\");\n  }\n\n  function load_libs(css_urls, js_urls, js_modules, js_exports, callback) {\n    if (css_urls == null) css_urls = [];\n    if (js_urls == null) js_urls = [];\n    if (js_modules == null) js_modules = [];\n    if (js_exports == null) js_exports = {};\n\n    root._bokeh_onload_callbacks.push(callback);\n\n    if (root._bokeh_is_loading > 0) {\n      // Don't load bokeh if it is still initializing\n      console.debug(\"Bokeh: BokehJS is being loaded, scheduling callback at\", now());\n      return null;\n    } else if (js_urls.length === 0 && js_modules.length === 0 && Object.keys(js_exports).length === 0) {\n      // There is nothing to load\n      run_callbacks();\n      return null;\n    }\n\n    function on_load() {\n      root._bokeh_is_loading--;\n      if (root._bokeh_is_loading === 0) {\n        console.debug(\"Bokeh: all BokehJS libraries/stylesheets loaded\");\n        run_callbacks()\n      }\n    }\n    window._bokeh_on_load = on_load\n\n    function on_error(e) {\n      const src_el = e.srcElement\n      console.error(\"failed to load \" + (src_el.href || src_el.src));\n    }\n\n    const skip = [];\n    if (window.requirejs) {\n      window.requirejs.config({'packages': {}, 'paths': {}, 'shim': {}});\n      root._bokeh_is_loading = css_urls.length + 0;\n    } else {\n      root._bokeh_is_loading = css_urls.length + js_urls.length + js_modules.length + Object.keys(js_exports).length;\n    }\n\n    const existing_stylesheets = []\n    const links = document.getElementsByTagName('link')\n    for (let i = 0; i < links.length; i++) {\n      const link = links[i]\n      if (link.href != null) {\n        existing_stylesheets.push(link.href)\n      }\n    }\n    for (let i = 0; i < css_urls.length; i++) {\n      const url = css_urls[i];\n      const escaped = encodeURI(url)\n      if (existing_stylesheets.indexOf(escaped) !== -1) {\n        on_load()\n        continue;\n      }\n      const element = document.createElement(\"link\");\n      element.onload = on_load;\n      element.onerror = on_error;\n      element.rel = \"stylesheet\";\n      element.type = \"text/css\";\n      element.href = url;\n      console.debug(\"Bokeh: injecting link tag for BokehJS stylesheet: \", url);\n      document.body.appendChild(element);\n    }    var existing_scripts = []\n    const scripts = document.getElementsByTagName('script')\n    for (let i = 0; i < scripts.length; i++) {\n      var script = scripts[i]\n      if (script.src != null) {\n        existing_scripts.push(script.src)\n      }\n    }\n    for (let i = 0; i < js_urls.length; i++) {\n      const url = js_urls[i];\n      const escaped = encodeURI(url)\n      if (skip.indexOf(escaped) !== -1 || existing_scripts.indexOf(escaped) !== -1) {\n        if (!window.requirejs) {\n          on_load();\n        }\n        continue;\n      }\n      const element = document.createElement('script');\n      element.onload = on_load;\n      element.onerror = on_error;\n      element.async = false;\n      element.src = url;\n      console.debug(\"Bokeh: injecting script tag for BokehJS library: \", url);\n      document.head.appendChild(element);\n    }\n    for (let i = 0; i < js_modules.length; i++) {\n      const url = js_modules[i];\n      const escaped = encodeURI(url)\n      if (skip.indexOf(escaped) !== -1 || existing_scripts.indexOf(escaped) !== -1) {\n        if (!window.requirejs) {\n          on_load();\n        }\n        continue;\n      }\n      var element = document.createElement('script');\n      element.onload = on_load;\n      element.onerror = on_error;\n      element.async = false;\n      element.src = url;\n      element.type = \"module\";\n      console.debug(\"Bokeh: injecting script tag for BokehJS library: \", url);\n      document.head.appendChild(element);\n    }\n    for (const name in js_exports) {\n      const url = js_exports[name];\n      const escaped = encodeURI(url)\n      if (skip.indexOf(escaped) >= 0 || root[name] != null) {\n        if (!window.requirejs) {\n          on_load();\n        }\n        continue;\n      }\n      var element = document.createElement('script');\n      element.onerror = on_error;\n      element.async = false;\n      element.type = \"module\";\n      console.debug(\"Bokeh: injecting script tag for BokehJS library: \", url);\n      element.textContent = `\n      import ${name} from \"${url}\"\n      window.${name} = ${name}\n      window._bokeh_on_load()\n      `\n      document.head.appendChild(element);\n    }\n    if (!js_urls.length && !js_modules.length) {\n      on_load()\n    }\n  };\n\n  function inject_raw_css(css) {\n    const element = document.createElement(\"style\");\n    element.appendChild(document.createTextNode(css));\n    document.body.appendChild(element);\n  }\n\n  const js_urls = [\"https://cdn.holoviz.org/panel/1.6.2/dist/bundled/reactiveesm/es-module-shims@^1.10.0/dist/es-module-shims.min.js\", \"https://cdn.bokeh.org/bokeh/release/bokeh-3.6.3.min.js\", \"https://cdn.bokeh.org/bokeh/release/bokeh-gl-3.6.3.min.js\", \"https://cdn.bokeh.org/bokeh/release/bokeh-widgets-3.6.3.min.js\", \"https://cdn.bokeh.org/bokeh/release/bokeh-tables-3.6.3.min.js\", \"https://cdn.holoviz.org/panel/1.6.2/dist/panel.min.js\"];\n  const js_modules = [];\n  const js_exports = {};\n  const css_urls = [];\n  const inline_js = [    function(Bokeh) {\n      Bokeh.set_log_level(\"info\");\n    },\nfunction(Bokeh) {} // ensure no trailing comma for IE\n  ];\n\n  function run_inline_js() {\n    if ((root.Bokeh !== undefined) || (force === true)) {\n      for (let i = 0; i < inline_js.length; i++) {\n        try {\n          inline_js[i].call(root, root.Bokeh);\n        } catch(e) {\n          if (!reloading) {\n            throw e;\n          }\n        }\n      }\n      // Cache old bokeh versions\n      if (Bokeh != undefined && !reloading) {\n        var NewBokeh = root.Bokeh;\n        if (Bokeh.versions === undefined) {\n          Bokeh.versions = new Map();\n        }\n        if (NewBokeh.version !== Bokeh.version) {\n          Bokeh.versions.set(NewBokeh.version, NewBokeh)\n        }\n        root.Bokeh = Bokeh;\n      }\n    } else if (Date.now() < root._bokeh_timeout) {\n      setTimeout(run_inline_js, 100);\n    } else if (!root._bokeh_failed_load) {\n      console.log(\"Bokeh: BokehJS failed to load within specified timeout.\");\n      root._bokeh_failed_load = true;\n    }\n    root._bokeh_is_initializing = false\n  }\n\n  function load_or_wait() {\n    // Implement a backoff loop that tries to ensure we do not load multiple\n    // versions of Bokeh and its dependencies at the same time.\n    // In recent versions we use the root._bokeh_is_initializing flag\n    // to determine whether there is an ongoing attempt to initialize\n    // bokeh, however for backward compatibility we also try to ensure\n    // that we do not start loading a newer (Panel>=1.0 and Bokeh>3) version\n    // before older versions are fully initialized.\n    if (root._bokeh_is_initializing && Date.now() > root._bokeh_timeout) {\n      // If the timeout and bokeh was not successfully loaded we reset\n      // everything and try loading again\n      root._bokeh_timeout = Date.now() + 5000;\n      root._bokeh_is_initializing = false;\n      root._bokeh_onload_callbacks = undefined;\n      root._bokeh_is_loading = 0\n      console.log(\"Bokeh: BokehJS was loaded multiple times but one version failed to initialize.\");\n      load_or_wait();\n    } else if (root._bokeh_is_initializing || (typeof root._bokeh_is_initializing === \"undefined\" && root._bokeh_onload_callbacks !== undefined)) {\n      setTimeout(load_or_wait, 100);\n    } else {\n      root._bokeh_is_initializing = true\n      root._bokeh_onload_callbacks = []\n      const bokeh_loaded = root.Bokeh != null && (root.Bokeh.version === py_version || (root.Bokeh.versions !== undefined && root.Bokeh.versions.has(py_version)));\n      if (!reloading && !bokeh_loaded) {\n        if (root.Bokeh) {\n          root.Bokeh = undefined;\n        }\n        console.debug(\"Bokeh: BokehJS not loaded, scheduling load and callback at\", now());\n      }\n      load_libs(css_urls, js_urls, js_modules, js_exports, function() {\n        console.debug(\"Bokeh: BokehJS plotting callback run at\", now());\n        run_inline_js();\n      });\n    }\n  }\n  // Give older versions of the autoload script a head-start to ensure\n  // they initialize before we start loading newer version.\n  setTimeout(load_or_wait, 100)\n}(window));"
          },
          "metadata": {}
        },
        {
          "output_type": "display_data",
          "data": {
            "application/vnd.holoviews_load.v0+json": "\nif ((window.PyViz === undefined) || (window.PyViz instanceof HTMLElement)) {\n  window.PyViz = {comms: {}, comm_status:{}, kernels:{}, receivers: {}, plot_index: []}\n}\n\n\n    function JupyterCommManager() {\n    }\n\n    JupyterCommManager.prototype.register_target = function(plot_id, comm_id, msg_handler) {\n      if (window.comm_manager || ((window.Jupyter !== undefined) && (Jupyter.notebook.kernel != null))) {\n        var comm_manager = window.comm_manager || Jupyter.notebook.kernel.comm_manager;\n        comm_manager.register_target(comm_id, function(comm) {\n          comm.on_msg(msg_handler);\n        });\n      } else if ((plot_id in window.PyViz.kernels) && (window.PyViz.kernels[plot_id])) {\n        window.PyViz.kernels[plot_id].registerCommTarget(comm_id, function(comm) {\n          comm.onMsg = msg_handler;\n        });\n      } else if (typeof google != 'undefined' && google.colab.kernel != null) {\n        google.colab.kernel.comms.registerTarget(comm_id, (comm) => {\n          var messages = comm.messages[Symbol.asyncIterator]();\n          function processIteratorResult(result) {\n            var message = result.value;\n            console.log(message)\n            var content = {data: message.data, comm_id};\n            var buffers = []\n            for (var buffer of message.buffers || []) {\n              buffers.push(new DataView(buffer))\n            }\n            var metadata = message.metadata || {};\n            var msg = {content, buffers, metadata}\n            msg_handler(msg);\n            return messages.next().then(processIteratorResult);\n          }\n          return messages.next().then(processIteratorResult);\n        })\n      }\n    }\n\n    JupyterCommManager.prototype.get_client_comm = function(plot_id, comm_id, msg_handler) {\n      if (comm_id in window.PyViz.comms) {\n        return window.PyViz.comms[comm_id];\n      } else if (window.comm_manager || ((window.Jupyter !== undefined) && (Jupyter.notebook.kernel != null))) {\n        var comm_manager = window.comm_manager || Jupyter.notebook.kernel.comm_manager;\n        var comm = comm_manager.new_comm(comm_id, {}, {}, {}, comm_id);\n        if (msg_handler) {\n          comm.on_msg(msg_handler);\n        }\n      } else if ((plot_id in window.PyViz.kernels) && (window.PyViz.kernels[plot_id])) {\n        var comm = window.PyViz.kernels[plot_id].connectToComm(comm_id);\n        comm.open();\n        if (msg_handler) {\n          comm.onMsg = msg_handler;\n        }\n      } else if (typeof google != 'undefined' && google.colab.kernel != null) {\n        var comm_promise = google.colab.kernel.comms.open(comm_id)\n        comm_promise.then((comm) => {\n          window.PyViz.comms[comm_id] = comm;\n          if (msg_handler) {\n            var messages = comm.messages[Symbol.asyncIterator]();\n            function processIteratorResult(result) {\n              var message = result.value;\n              var content = {data: message.data};\n              var metadata = message.metadata || {comm_id};\n              var msg = {content, metadata}\n              msg_handler(msg);\n              return messages.next().then(processIteratorResult);\n            }\n            return messages.next().then(processIteratorResult);\n          }\n        })\n        var sendClosure = (data, metadata, buffers, disposeOnDone) => {\n          return comm_promise.then((comm) => {\n            comm.send(data, metadata, buffers, disposeOnDone);\n          });\n        };\n        var comm = {\n          send: sendClosure\n        };\n      }\n      window.PyViz.comms[comm_id] = comm;\n      return comm;\n    }\n    window.PyViz.comm_manager = new JupyterCommManager();\n    \n\n\nvar JS_MIME_TYPE = 'application/javascript';\nvar HTML_MIME_TYPE = 'text/html';\nvar EXEC_MIME_TYPE = 'application/vnd.holoviews_exec.v0+json';\nvar CLASS_NAME = 'output';\n\n/**\n * Render data to the DOM node\n */\nfunction render(props, node) {\n  var div = document.createElement(\"div\");\n  var script = document.createElement(\"script\");\n  node.appendChild(div);\n  node.appendChild(script);\n}\n\n/**\n * Handle when a new output is added\n */\nfunction handle_add_output(event, handle) {\n  var output_area = handle.output_area;\n  var output = handle.output;\n  if ((output.data == undefined) || (!output.data.hasOwnProperty(EXEC_MIME_TYPE))) {\n    return\n  }\n  var id = output.metadata[EXEC_MIME_TYPE][\"id\"];\n  var toinsert = output_area.element.find(\".\" + CLASS_NAME.split(' ')[0]);\n  if (id !== undefined) {\n    var nchildren = toinsert.length;\n    var html_node = toinsert[nchildren-1].children[0];\n    html_node.innerHTML = output.data[HTML_MIME_TYPE];\n    var scripts = [];\n    var nodelist = html_node.querySelectorAll(\"script\");\n    for (var i in nodelist) {\n      if (nodelist.hasOwnProperty(i)) {\n        scripts.push(nodelist[i])\n      }\n    }\n\n    scripts.forEach( function (oldScript) {\n      var newScript = document.createElement(\"script\");\n      var attrs = [];\n      var nodemap = oldScript.attributes;\n      for (var j in nodemap) {\n        if (nodemap.hasOwnProperty(j)) {\n          attrs.push(nodemap[j])\n        }\n      }\n      attrs.forEach(function(attr) { newScript.setAttribute(attr.name, attr.value) });\n      newScript.appendChild(document.createTextNode(oldScript.innerHTML));\n      oldScript.parentNode.replaceChild(newScript, oldScript);\n    });\n    if (JS_MIME_TYPE in output.data) {\n      toinsert[nchildren-1].children[1].textContent = output.data[JS_MIME_TYPE];\n    }\n    output_area._hv_plot_id = id;\n    if ((window.Bokeh !== undefined) && (id in Bokeh.index)) {\n      window.PyViz.plot_index[id] = Bokeh.index[id];\n    } else {\n      window.PyViz.plot_index[id] = null;\n    }\n  } else if (output.metadata[EXEC_MIME_TYPE][\"server_id\"] !== undefined) {\n    var bk_div = document.createElement(\"div\");\n    bk_div.innerHTML = output.data[HTML_MIME_TYPE];\n    var script_attrs = bk_div.children[0].attributes;\n    for (var i = 0; i < script_attrs.length; i++) {\n      toinsert[toinsert.length - 1].childNodes[1].setAttribute(script_attrs[i].name, script_attrs[i].value);\n    }\n    // store reference to server id on output_area\n    output_area._bokeh_server_id = output.metadata[EXEC_MIME_TYPE][\"server_id\"];\n  }\n}\n\n/**\n * Handle when an output is cleared or removed\n */\nfunction handle_clear_output(event, handle) {\n  var id = handle.cell.output_area._hv_plot_id;\n  var server_id = handle.cell.output_area._bokeh_server_id;\n  if (((id === undefined) || !(id in PyViz.plot_index)) && (server_id !== undefined)) { return; }\n  var comm = window.PyViz.comm_manager.get_client_comm(\"hv-extension-comm\", \"hv-extension-comm\", function () {});\n  if (server_id !== null) {\n    comm.send({event_type: 'server_delete', 'id': server_id});\n    return;\n  } else if (comm !== null) {\n    comm.send({event_type: 'delete', 'id': id});\n  }\n  delete PyViz.plot_index[id];\n  if ((window.Bokeh !== undefined) & (id in window.Bokeh.index)) {\n    var doc = window.Bokeh.index[id].model.document\n    doc.clear();\n    const i = window.Bokeh.documents.indexOf(doc);\n    if (i > -1) {\n      window.Bokeh.documents.splice(i, 1);\n    }\n  }\n}\n\n/**\n * Handle kernel restart event\n */\nfunction handle_kernel_cleanup(event, handle) {\n  delete PyViz.comms[\"hv-extension-comm\"];\n  window.PyViz.plot_index = {}\n}\n\n/**\n * Handle update_display_data messages\n */\nfunction handle_update_output(event, handle) {\n  handle_clear_output(event, {cell: {output_area: handle.output_area}})\n  handle_add_output(event, handle)\n}\n\nfunction register_renderer(events, OutputArea) {\n  function append_mime(data, metadata, element) {\n    // create a DOM node to render to\n    var toinsert = this.create_output_subarea(\n    metadata,\n    CLASS_NAME,\n    EXEC_MIME_TYPE\n    );\n    this.keyboard_manager.register_events(toinsert);\n    // Render to node\n    var props = {data: data, metadata: metadata[EXEC_MIME_TYPE]};\n    render(props, toinsert[0]);\n    element.append(toinsert);\n    return toinsert\n  }\n\n  events.on('output_added.OutputArea', handle_add_output);\n  events.on('output_updated.OutputArea', handle_update_output);\n  events.on('clear_output.CodeCell', handle_clear_output);\n  events.on('delete.Cell', handle_clear_output);\n  events.on('kernel_ready.Kernel', handle_kernel_cleanup);\n\n  OutputArea.prototype.register_mime_type(EXEC_MIME_TYPE, append_mime, {\n    safe: true,\n    index: 0\n  });\n}\n\nif (window.Jupyter !== undefined) {\n  try {\n    var events = require('base/js/events');\n    var OutputArea = require('notebook/js/outputarea').OutputArea;\n    if (OutputArea.prototype.mime_types().indexOf(EXEC_MIME_TYPE) == -1) {\n      register_renderer(events, OutputArea);\n    }\n  } catch(err) {\n  }\n}\n",
            "application/javascript": [
              "\n",
              "if ((window.PyViz === undefined) || (window.PyViz instanceof HTMLElement)) {\n",
              "  window.PyViz = {comms: {}, comm_status:{}, kernels:{}, receivers: {}, plot_index: []}\n",
              "}\n",
              "\n",
              "\n",
              "    function JupyterCommManager() {\n",
              "    }\n",
              "\n",
              "    JupyterCommManager.prototype.register_target = function(plot_id, comm_id, msg_handler) {\n",
              "      if (window.comm_manager || ((window.Jupyter !== undefined) && (Jupyter.notebook.kernel != null))) {\n",
              "        var comm_manager = window.comm_manager || Jupyter.notebook.kernel.comm_manager;\n",
              "        comm_manager.register_target(comm_id, function(comm) {\n",
              "          comm.on_msg(msg_handler);\n",
              "        });\n",
              "      } else if ((plot_id in window.PyViz.kernels) && (window.PyViz.kernels[plot_id])) {\n",
              "        window.PyViz.kernels[plot_id].registerCommTarget(comm_id, function(comm) {\n",
              "          comm.onMsg = msg_handler;\n",
              "        });\n",
              "      } else if (typeof google != 'undefined' && google.colab.kernel != null) {\n",
              "        google.colab.kernel.comms.registerTarget(comm_id, (comm) => {\n",
              "          var messages = comm.messages[Symbol.asyncIterator]();\n",
              "          function processIteratorResult(result) {\n",
              "            var message = result.value;\n",
              "            console.log(message)\n",
              "            var content = {data: message.data, comm_id};\n",
              "            var buffers = []\n",
              "            for (var buffer of message.buffers || []) {\n",
              "              buffers.push(new DataView(buffer))\n",
              "            }\n",
              "            var metadata = message.metadata || {};\n",
              "            var msg = {content, buffers, metadata}\n",
              "            msg_handler(msg);\n",
              "            return messages.next().then(processIteratorResult);\n",
              "          }\n",
              "          return messages.next().then(processIteratorResult);\n",
              "        })\n",
              "      }\n",
              "    }\n",
              "\n",
              "    JupyterCommManager.prototype.get_client_comm = function(plot_id, comm_id, msg_handler) {\n",
              "      if (comm_id in window.PyViz.comms) {\n",
              "        return window.PyViz.comms[comm_id];\n",
              "      } else if (window.comm_manager || ((window.Jupyter !== undefined) && (Jupyter.notebook.kernel != null))) {\n",
              "        var comm_manager = window.comm_manager || Jupyter.notebook.kernel.comm_manager;\n",
              "        var comm = comm_manager.new_comm(comm_id, {}, {}, {}, comm_id);\n",
              "        if (msg_handler) {\n",
              "          comm.on_msg(msg_handler);\n",
              "        }\n",
              "      } else if ((plot_id in window.PyViz.kernels) && (window.PyViz.kernels[plot_id])) {\n",
              "        var comm = window.PyViz.kernels[plot_id].connectToComm(comm_id);\n",
              "        comm.open();\n",
              "        if (msg_handler) {\n",
              "          comm.onMsg = msg_handler;\n",
              "        }\n",
              "      } else if (typeof google != 'undefined' && google.colab.kernel != null) {\n",
              "        var comm_promise = google.colab.kernel.comms.open(comm_id)\n",
              "        comm_promise.then((comm) => {\n",
              "          window.PyViz.comms[comm_id] = comm;\n",
              "          if (msg_handler) {\n",
              "            var messages = comm.messages[Symbol.asyncIterator]();\n",
              "            function processIteratorResult(result) {\n",
              "              var message = result.value;\n",
              "              var content = {data: message.data};\n",
              "              var metadata = message.metadata || {comm_id};\n",
              "              var msg = {content, metadata}\n",
              "              msg_handler(msg);\n",
              "              return messages.next().then(processIteratorResult);\n",
              "            }\n",
              "            return messages.next().then(processIteratorResult);\n",
              "          }\n",
              "        })\n",
              "        var sendClosure = (data, metadata, buffers, disposeOnDone) => {\n",
              "          return comm_promise.then((comm) => {\n",
              "            comm.send(data, metadata, buffers, disposeOnDone);\n",
              "          });\n",
              "        };\n",
              "        var comm = {\n",
              "          send: sendClosure\n",
              "        };\n",
              "      }\n",
              "      window.PyViz.comms[comm_id] = comm;\n",
              "      return comm;\n",
              "    }\n",
              "    window.PyViz.comm_manager = new JupyterCommManager();\n",
              "    \n",
              "\n",
              "\n",
              "var JS_MIME_TYPE = 'application/javascript';\n",
              "var HTML_MIME_TYPE = 'text/html';\n",
              "var EXEC_MIME_TYPE = 'application/vnd.holoviews_exec.v0+json';\n",
              "var CLASS_NAME = 'output';\n",
              "\n",
              "/**\n",
              " * Render data to the DOM node\n",
              " */\n",
              "function render(props, node) {\n",
              "  var div = document.createElement(\"div\");\n",
              "  var script = document.createElement(\"script\");\n",
              "  node.appendChild(div);\n",
              "  node.appendChild(script);\n",
              "}\n",
              "\n",
              "/**\n",
              " * Handle when a new output is added\n",
              " */\n",
              "function handle_add_output(event, handle) {\n",
              "  var output_area = handle.output_area;\n",
              "  var output = handle.output;\n",
              "  if ((output.data == undefined) || (!output.data.hasOwnProperty(EXEC_MIME_TYPE))) {\n",
              "    return\n",
              "  }\n",
              "  var id = output.metadata[EXEC_MIME_TYPE][\"id\"];\n",
              "  var toinsert = output_area.element.find(\".\" + CLASS_NAME.split(' ')[0]);\n",
              "  if (id !== undefined) {\n",
              "    var nchildren = toinsert.length;\n",
              "    var html_node = toinsert[nchildren-1].children[0];\n",
              "    html_node.innerHTML = output.data[HTML_MIME_TYPE];\n",
              "    var scripts = [];\n",
              "    var nodelist = html_node.querySelectorAll(\"script\");\n",
              "    for (var i in nodelist) {\n",
              "      if (nodelist.hasOwnProperty(i)) {\n",
              "        scripts.push(nodelist[i])\n",
              "      }\n",
              "    }\n",
              "\n",
              "    scripts.forEach( function (oldScript) {\n",
              "      var newScript = document.createElement(\"script\");\n",
              "      var attrs = [];\n",
              "      var nodemap = oldScript.attributes;\n",
              "      for (var j in nodemap) {\n",
              "        if (nodemap.hasOwnProperty(j)) {\n",
              "          attrs.push(nodemap[j])\n",
              "        }\n",
              "      }\n",
              "      attrs.forEach(function(attr) { newScript.setAttribute(attr.name, attr.value) });\n",
              "      newScript.appendChild(document.createTextNode(oldScript.innerHTML));\n",
              "      oldScript.parentNode.replaceChild(newScript, oldScript);\n",
              "    });\n",
              "    if (JS_MIME_TYPE in output.data) {\n",
              "      toinsert[nchildren-1].children[1].textContent = output.data[JS_MIME_TYPE];\n",
              "    }\n",
              "    output_area._hv_plot_id = id;\n",
              "    if ((window.Bokeh !== undefined) && (id in Bokeh.index)) {\n",
              "      window.PyViz.plot_index[id] = Bokeh.index[id];\n",
              "    } else {\n",
              "      window.PyViz.plot_index[id] = null;\n",
              "    }\n",
              "  } else if (output.metadata[EXEC_MIME_TYPE][\"server_id\"] !== undefined) {\n",
              "    var bk_div = document.createElement(\"div\");\n",
              "    bk_div.innerHTML = output.data[HTML_MIME_TYPE];\n",
              "    var script_attrs = bk_div.children[0].attributes;\n",
              "    for (var i = 0; i < script_attrs.length; i++) {\n",
              "      toinsert[toinsert.length - 1].childNodes[1].setAttribute(script_attrs[i].name, script_attrs[i].value);\n",
              "    }\n",
              "    // store reference to server id on output_area\n",
              "    output_area._bokeh_server_id = output.metadata[EXEC_MIME_TYPE][\"server_id\"];\n",
              "  }\n",
              "}\n",
              "\n",
              "/**\n",
              " * Handle when an output is cleared or removed\n",
              " */\n",
              "function handle_clear_output(event, handle) {\n",
              "  var id = handle.cell.output_area._hv_plot_id;\n",
              "  var server_id = handle.cell.output_area._bokeh_server_id;\n",
              "  if (((id === undefined) || !(id in PyViz.plot_index)) && (server_id !== undefined)) { return; }\n",
              "  var comm = window.PyViz.comm_manager.get_client_comm(\"hv-extension-comm\", \"hv-extension-comm\", function () {});\n",
              "  if (server_id !== null) {\n",
              "    comm.send({event_type: 'server_delete', 'id': server_id});\n",
              "    return;\n",
              "  } else if (comm !== null) {\n",
              "    comm.send({event_type: 'delete', 'id': id});\n",
              "  }\n",
              "  delete PyViz.plot_index[id];\n",
              "  if ((window.Bokeh !== undefined) & (id in window.Bokeh.index)) {\n",
              "    var doc = window.Bokeh.index[id].model.document\n",
              "    doc.clear();\n",
              "    const i = window.Bokeh.documents.indexOf(doc);\n",
              "    if (i > -1) {\n",
              "      window.Bokeh.documents.splice(i, 1);\n",
              "    }\n",
              "  }\n",
              "}\n",
              "\n",
              "/**\n",
              " * Handle kernel restart event\n",
              " */\n",
              "function handle_kernel_cleanup(event, handle) {\n",
              "  delete PyViz.comms[\"hv-extension-comm\"];\n",
              "  window.PyViz.plot_index = {}\n",
              "}\n",
              "\n",
              "/**\n",
              " * Handle update_display_data messages\n",
              " */\n",
              "function handle_update_output(event, handle) {\n",
              "  handle_clear_output(event, {cell: {output_area: handle.output_area}})\n",
              "  handle_add_output(event, handle)\n",
              "}\n",
              "\n",
              "function register_renderer(events, OutputArea) {\n",
              "  function append_mime(data, metadata, element) {\n",
              "    // create a DOM node to render to\n",
              "    var toinsert = this.create_output_subarea(\n",
              "    metadata,\n",
              "    CLASS_NAME,\n",
              "    EXEC_MIME_TYPE\n",
              "    );\n",
              "    this.keyboard_manager.register_events(toinsert);\n",
              "    // Render to node\n",
              "    var props = {data: data, metadata: metadata[EXEC_MIME_TYPE]};\n",
              "    render(props, toinsert[0]);\n",
              "    element.append(toinsert);\n",
              "    return toinsert\n",
              "  }\n",
              "\n",
              "  events.on('output_added.OutputArea', handle_add_output);\n",
              "  events.on('output_updated.OutputArea', handle_update_output);\n",
              "  events.on('clear_output.CodeCell', handle_clear_output);\n",
              "  events.on('delete.Cell', handle_clear_output);\n",
              "  events.on('kernel_ready.Kernel', handle_kernel_cleanup);\n",
              "\n",
              "  OutputArea.prototype.register_mime_type(EXEC_MIME_TYPE, append_mime, {\n",
              "    safe: true,\n",
              "    index: 0\n",
              "  });\n",
              "}\n",
              "\n",
              "if (window.Jupyter !== undefined) {\n",
              "  try {\n",
              "    var events = require('base/js/events');\n",
              "    var OutputArea = require('notebook/js/outputarea').OutputArea;\n",
              "    if (OutputArea.prototype.mime_types().indexOf(EXEC_MIME_TYPE) == -1) {\n",
              "      register_renderer(events, OutputArea);\n",
              "    }\n",
              "  } catch(err) {\n",
              "  }\n",
              "}\n"
            ]
          },
          "metadata": {}
        },
        {
          "output_type": "display_data",
          "data": {},
          "metadata": {}
        },
        {
          "output_type": "execute_result",
          "data": {
            "text/html": [
              "<div id='p1008'>\n",
              "  <div id=\"d55971db-2c81-4348-91b8-12e74077baf6\" data-root-id=\"p1008\" style=\"display: contents;\"></div>\n",
              "</div>\n",
              "<script type=\"application/javascript\">(function(root) {\n",
              "  var docs_json = {\"ab20ce67-3aa5-4106-aebd-be5a9977e549\":{\"version\":\"3.6.3\",\"title\":\"Bokeh Application\",\"roots\":[{\"type\":\"object\",\"name\":\"Row\",\"id\":\"p1008\",\"attributes\":{\"name\":\"Row00924\",\"tags\":[\"embedded\"],\"stylesheets\":[\"\\n:host(.pn-loading):before, .pn-loading:before {\\n  background-color: #c3c3c3;\\n  mask-size: auto calc(min(50%, 400px));\\n  -webkit-mask-size: auto calc(min(50%, 400px));\\n}\",{\"type\":\"object\",\"name\":\"ImportedStyleSheet\",\"id\":\"p1011\",\"attributes\":{\"url\":\"https://cdn.holoviz.org/panel/1.6.2/dist/css/loading.css\"}},{\"type\":\"object\",\"name\":\"ImportedStyleSheet\",\"id\":\"p1100\",\"attributes\":{\"url\":\"https://cdn.holoviz.org/panel/1.6.2/dist/css/listpanel.css\"}},{\"type\":\"object\",\"name\":\"ImportedStyleSheet\",\"id\":\"p1009\",\"attributes\":{\"url\":\"https://cdn.holoviz.org/panel/1.6.2/dist/bundled/theme/default.css\"}},{\"type\":\"object\",\"name\":\"ImportedStyleSheet\",\"id\":\"p1010\",\"attributes\":{\"url\":\"https://cdn.holoviz.org/panel/1.6.2/dist/bundled/theme/native.css\"}}],\"min_width\":700,\"margin\":0,\"sizing_mode\":\"stretch_width\",\"align\":\"start\",\"children\":[{\"type\":\"object\",\"name\":\"Spacer\",\"id\":\"p1012\",\"attributes\":{\"name\":\"HSpacer00931\",\"stylesheets\":[\"\\n:host(.pn-loading):before, .pn-loading:before {\\n  background-color: #c3c3c3;\\n  mask-size: auto calc(min(50%, 400px));\\n  -webkit-mask-size: auto calc(min(50%, 400px));\\n}\",{\"id\":\"p1011\"},{\"id\":\"p1009\"},{\"id\":\"p1010\"}],\"margin\":0,\"sizing_mode\":\"stretch_width\",\"align\":\"start\"}},{\"type\":\"object\",\"name\":\"Figure\",\"id\":\"p1023\",\"attributes\":{\"width\":700,\"height\":300,\"margin\":[5,10],\"sizing_mode\":\"fixed\",\"align\":\"start\",\"x_range\":{\"type\":\"object\",\"name\":\"Range1d\",\"id\":\"p1013\",\"attributes\":{\"tags\":[[[\"date-month\",null]],[]],\"start\":1262304000000.0,\"end\":1606780800000.0,\"reset_start\":1262304000000.0,\"reset_end\":1606780800000.0}},\"y_range\":{\"type\":\"object\",\"name\":\"Range1d\",\"id\":\"p1014\",\"attributes\":{\"tags\":[[[\"value\",null]],{\"type\":\"map\",\"entries\":[[\"invert_yaxis\",false],[\"autorange\",false]]}],\"start\":-1583264.9859999965,\"end\":17416070.84599996,\"reset_start\":-1583264.9859999965,\"reset_end\":17416070.84599996}},\"x_scale\":{\"type\":\"object\",\"name\":\"LinearScale\",\"id\":\"p1033\"},\"y_scale\":{\"type\":\"object\",\"name\":\"LinearScale\",\"id\":\"p1034\"},\"title\":{\"type\":\"object\",\"name\":\"Title\",\"id\":\"p1026\",\"attributes\":{\"text_color\":\"black\",\"text_font_size\":\"12pt\"}},\"renderers\":[{\"type\":\"object\",\"name\":\"GlyphRenderer\",\"id\":\"p1077\",\"attributes\":{\"name\":\"AMOUNT\",\"data_source\":{\"type\":\"object\",\"name\":\"ColumnDataSource\",\"id\":\"p1068\",\"attributes\":{\"selected\":{\"type\":\"object\",\"name\":\"Selection\",\"id\":\"p1069\",\"attributes\":{\"indices\":[],\"line_indices\":[]}},\"selection_policy\":{\"type\":\"object\",\"name\":\"UnionRenderers\",\"id\":\"p1070\"},\"data\":{\"type\":\"map\",\"entries\":[[\"date-month\",{\"type\":\"ndarray\",\"array\":{\"type\":\"bytes\",\"data\":\"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\"},\"shape\":[1584],\"dtype\":\"float64\",\"order\":\"little\"}],[\"AMOUNT\",{\"type\":\"ndarray\",\"array\":{\"type\":\"bytes\",\"data\":\"p3A9ClcayUClcD0KN2ziQNPMzMz+ywFBH4XrUQhj6kDmehSuV7/ZQEXhehT2fuBAcT0K10OhxUDB9Shcnx7UQDMzMzMzs3NASuF6FP6w2UB1FK5HQbnZQGZmZmZmssZAjsL1KAxU20DUo3A9sjjrQKVwPQo7m/hAHYXrUVjiEUF+FK5HeUPrQOxRuB6F13ZA2KNwPfqp8kAT16NwzSvxQGpmZmbWYetA8VG4HuV71EC2HoXr2Q/nQIPrUbg+ANdAFa5H4fpk5EDwehSuOVAbQfr///+v3fRAVI/C9Qh63UBrPQrXzyH6QMb1KFyDmgJBo5mZmYWW+0B6FK5HAdH0QHA9Cteje5dA1czMzMwW9UDD9Shcf8DeQB+F61F4IPJAhutRuB42mEB6FK5HuZfmQH0UrkeFjfxAFeF6FEdoIkEWrkfh6hL5QH0Urkd7gAlBQeF6FBh1AUGVwvUojOkCQU/hehSGZO5APOF6FFLx/EB961G4wmv8QLwehetRTONAxPUoXLM+J0GamZmZ0fjnQEEK16M0ofJAm5mZmcfWAUEoXI/CLS0CQdp6FK5XQv9AKFyPwlyVEEGyR+F65NzrQLgehetR/JVAHIXrUfq4AUF2PQrXE3gGQVm4HoUlaghB4noULg+VK0FRuB6FMbcCQQGF61FQKgtB4noUruMhFEE5MzMzJawKQThcj8Lhg/dArkfhehTBmUB0PQrXFz0FQYzC9SievwVB5HoUrqdf7UC2HoXrVePwQEzhehTUEAVBmZmZmZmGmED6KFyP/ubxQKiZmZlvxwhBMVyPwgUO+kCN61G41H4JQf0oXI9uCBBBXY/C9d7RBUGdmZmZiYMIQQAAAADZuBBBQgrXo6szF0E0MzMzOyTzQN2jcD0wRjBBvfUoXB87/EBpZmZmmrXyQDMzMzOzJKBAMDMzM90CDEG7HoXrx64LQVOPwvVmqwhBz8zMzIQiGkFU16OwGGYyQeVRuB4dJvdAj0fheoz2DEGtR+F6bngSQeZRuB4YqxJBjOtRuHATD0Fa4XoUX3kVQTAK16PYWhBBaz0K109N+UBgZmZmWnz/QHA9CtejTZZAL1yPwoeeHUEsXI/CZ4IPQUmPwrWzpjRBsEfheiPgFkH7KFyPPvwKQQvXo3AhJvVA2KNwPX6t/EAQrkfhLV4RQbIehevBp/pAxvUoXM3aAkFiPQoXMTE5QQMAAABEpw1BJVyPwgzyE0FnZmZm3s4ZQbVH4XoSHxFBzczMzMyNoEBvPQrX44ogQVxmZmaClRlBJylcz36EPkEzMzMzM22jQF6PwvVALyJB9Chcj4lrEEEdhetRUg8EQab1KFy6MBhBi8L1KKJRH0GzR+F6LOgSQVK4HgVUgSBBHYXrUSC0/kAMrkfh8jsTQSmuR+FGA/9AdML1qNqTIkFJuB6FfsIUQcvMzMzV7hFBux6F6/RlFEHsUbgeBYilQEjhehTgXgJBKVyPQu+FI0G3HoXrE4EAQeQoXI+VPiJBLFyPwiUfBkFH4XqUVNpBQTuF61HodxxB8yhcj8Z3AUEghetRjFUfQdzMzEy9DyBB08zMzChs/EAQrkfhTmUHQTozMzPHbBZBdxSuR4pKE0GamZmZmeamQPwoXM8woz1BU+F6FPO8F0HPzMzMRnslQUMK16P2+xVBOzMzM+04GEEN16MwAv4/QXs9Cles4CBBrUfh+hEAJ0GicD0KscoAQXUUrsc1niFB8yhcjykbFUFJZmZmAMUZQd6jcD0AvQhB+ihcj5WzF0EnXI/CscMCQV2PwvUoi61AZ2ZmZubZqUAcMzMzwSwjQaXrUdjOJEFBH4XrUdb4GUHco3A9MPIEQS9cj8JSZBlB23oUru9PAUHAHoVrI38hQSKF61EpgxZBXWZmZrLeCkGTHoXr/sQbQbBH4frcaihBmh6F6xzRHUEarkfhARUbQfJRuB7/NwJB0qNwPQAGJEEBAAAAAL6qQHvrUfjLVEJBzqNwPX7qDEFCCtcjy04qQTAzMzMG3xdBCa5HYT3AI0FTuB6FJX4FQcT1KFxYwRtBOjMzM0MJHUG+mZk5jp5DQSUK16PycyVBUbgehWs6oUDwUbge79AHQQjXo3DWzh1B+P//f185JUFiZmZmNvQZQbIehesZOQNBp0fherpYLEEwXI/C0BUgQaNwPQrVeg5B5hSuR5GPREHmehSuJVwbQWePwvV9zC1Bbz0K1yOxskBrFK7HfSUmQTAK16OacRBBGa5H4bE6J0EBKVyPsr0EQZDC9ahA7yBBVeF6FNAxCEGG61G4WDgfQVy4HoXFXB5BXY/C9QaUCUEH16Nw/6MFQcxH4bqWh0VB16NwPUrEsUARrkfhj3woQYvrUbge0h9B1PUoXGagHEF/61E4VWQgQW5mZmYvbRFBdz0K10yUJ0HjehQuCmkvQbVH4Xqp2yFBpHA9CteJp0AKrkdhq+kiQUQK16NwiQpBuh6FazuJMEEYrkfh5ioIQSGF61F2Gh5BWTMzM0LtKUHOzMzsAqlGQcf1KFw4BhJB4aNwPZVCKUE4MzMzWbwgQUbhepR3QyFBkcL1qLPmI0HEehQuabsrQczMzMyEMAlBopmZmW9cC0FcZmZmvUMTQZmZmZnzUDFBCwAAACVcH0HVrUchgaZHQZuZmZkZ/bJAwfUo3I0WIkFN4XoUMYEhQQQAAIBZ2SpBj0fh+jhLMEHvKFwPGw8vQbHMzMxrEydBexSuR+FnskBdZmbm6TAyQf7Wo3DWSxRB6HoULjVvIEHJCddD01VLQcn1KNxRViJB91G4HqPLDEFMuB6FdUAMQfn///8G+yJBjx6F6z5PKkF3PQrXlZIOQRmuR+E4CiNB1XoUblvwMkGF61G4HsS5QFpmZqY4tDJBxVG4PpcOT0H2KFyPOIEQQSAzMzNw4jBBCdej8Ou9I0HnehSu9Q4hQRVcj8KpIBVBeRSuRxSvM0E0CtcjW15RQb71KBxpOjNBamZm5u6aIUHbo3A9TuIRQfXWo3DjbBZB61G4ntsDNUE8CtejcJ23QB3Xo3APiy1BgsL1KGTuD0GHFK5HhF0kQQ7Xo/BLmyNBiOtRuFDID0HP9SjcXREiQYoUrkdcwCdBTutR+NJAMUFqFK7HVjAlQWNmZmawxAxBPuF6FGbKFUH7KFwPCl0kQU0pXM8KqUtBhML16AWDNEFaj8L16LS+QK5wPUrdOjBBr8L1KHz3DUFmZmZmJkqxQJDrUTgEqSJBODMzM4E3MEHEHoXrUtkQQdt6FK4sYxdBKDMz850zNUFfj8J1chQlQdL//78gpzFBGa5HYTT4JUFRCtcjzb0oQU24HgXjokxBCjMz03PCTUGewvWodM0pQQ+uR2E7fyNBqUfhunmwMUE+XI/CKZkOQQnXo3C986dAEq5HIRtnM0EjXI9C9swmQUQK16MGTBdBbWZmpmvQNUHXzMzM1y0RQZPC9Sge1yVBznA9CtPKM0FJ4XqUyWgmQREzM5PBmk5B08zMzKN9EUG1HoUrD682QRlcj0JdcCdBXmZmZhDvD0GW61E4+Q0yQbJH4XrCGSRBZ2ZmZmY8tkClHoXrEGgYQVDhehSkpipBaGZmZiZRukB+FK5HOuMRQaGZmZnS+xBBKK5H4az9NEGBFK5HANoxQZkUrkdjLShB08zMzNLDJEEhrkchD343QXnrUTjBnStBe0fhWu2iT0GUwvWorxMnQUuPwvV/MBpB4aNwvVfcMkFECtejq5wnQeUehes1byxBi8L1qKBbJUEUrkfhj2oQQfYoXI8UgBtBXGZm5pHDKEEUrkfhOsizQKlwPapbPVBBu/UoHIavNUGBwvVoyi04QaSZmZmMLRNBDgAAgIzvJUFvFK7H3FcpQedRuB5VmRFBBNejcG9ME0E1CtfjvZ8zQZfC9eizxzVBP4/ClfqpUEHiUbgeGIAaQZ5wPYr22jhB5JmZGTo8LUF2PQrXjh0oQdijcD2KyL5A16NwPUoivEAkhetR6EEqQZ2ZmanKOVFByChcD4lrN0G3R+F6C3kbQdCjcL3VfzRBlutRuGhwE0FD4XqU2LYmQel6FK718ihBr0fheuRJEkEtMzMzfKk5Qcd6FC5ccS5B8Shcj3BeHUE+CtejQog6QVc9CtdfzDRBMDMzs7a/UUHQzMzMhXonQYUUrkcEqilBI65H4VJ7FEGEwvWoDw8rQRDXo3CYyRJBdD0KV1KCL0HZzMxM2Fg4QYbrUbge6LtAexSuRwbkMUHEHoVr+jMoQa1H4XoUEsJAULgehdQdFUFY4XrkjQ1UQabC9SiuUh5BAClcTxhZPEF9PQrXPqoVQZoUrkdGzStBTLgeBadiO0FuPQrXvc83QRLXo/BGVCpBbD0Kl9lJPEEyMzPz1is0QeB6FK4iCCtBH4XrUeILH0Fdj8L1qC+7QC9cj8LBIDpBhcL1qNT3KEHCehTusAVAQaeZmZn7qxVBx6NwPeqYLEHlo3A9HWgYQTrMzEw1f1ZB2aNwXWKZQUH/UbgeTDQbQcP1KNz+HyBBHoXrUfhSvkAPhethcglZQbxH4Tp6Vj1BLj0Kl2uFNkEpXI/Cv7ApQa5H4Xrc9zxBXY/CddhVLUG0HoXrtq4rQa5H4Xq6ZBVBkcL1KLAIFUEahevRAk0qQS8K16MbiR9BMmZm5t2ePEGQwvXoFqc9QczMzMwMYMNAUrgehZtZLEFYuB6FICAWQU7hetTuSjdBbI/CtZyyU0GMwvUo6BQuQcBwPUp63DFBjJmZWe2QOEHsUbgehXG/QGk9CtcU1CBBBtej8CYoLUFUMzMzHXAVQS9cj0LnTFRBQbgehYkdK0GhmZmZnHsyQRDXo/DA/i5BH65H4QqCF0EeheuR4+Y9QVLhelQAhj5BhnoUbhLPVEH/1qNwMssrQR3Xo/Alwi9BIoXrUVgDP0H0KFyPuSoYQYnrUbioVhZBIlyPwpzTLUGAPQrXId8gQRCuRyFUUj9BIIXrUfgqyEBlMzNzhwYzQf9RuB7JVjlBv1G43kVqM0EvhetRezcsQbRH4fqiHTBBDIXrURekIUHdo3A9Et4/QetRuB6Fw8NArXA9SnsiQEEZ16Nwb9UXQU9mZiYE3DlBlJmZmf46LkHuUbgeZyUXQSxwPdqZIlVBHVyPQnCtLkH41qPwG9ssQU0zM5OrikBBrXA9CunkF0Hjo3C9hksiQTzhetTgYjBBsUfhmrhcQEHg1qPQbYhVQe9RuB7SZRhB/tajMGrtOUFwPQrXoz7GQIcUrseF0jNBtfUofFvUQEFfPQrXcG4vQcxH4XqWtRdB0NajcF01QUGjcD0KN2HCQH9wPRr0FFZBG65H4Ye6GUG3R+G6qHE6QfsoXI8FhC1B4qNwPRfRMEEPhevRCUoiQUi4HkXNcTRBCIXr0b5oO0HQehSufvwZQezMzAzq3TRBNrgehcEeGEFoj8J1sNwtQS4zM5P8uUFBUGZmZp3iL0EwCtcj6YgjQYUK18O9ZVZB9lG4nrQUMUFRuB6Fq7PEQNWjcD34I0FB6lG4/rWUQUEKAAAAVfQYQc3MzMxsa8VAXLgehbhRI0GewvXohxE8QTkK16MCWzVBEYXrEaE1MEFRZmbm9IIuQXjC9YjjGEJBD65H4XQ6GkGEFK73pddWQQDXo3D/ZjFBm8L1COMlQkEMrkch8v81QdejcD2I4xpBkML1KHwFxUBjPQpXHNZCQRnXo3CX+BhBcBSuB0eXMEF0ZmZm66MjQe96FO7t1jFBP+F6hLxfV0GUwvXoaP08QTVcj0LdSC9BKo/CdXG1OEGbmZl58BRFQTsK12MaeUJBUo/CtSUxQEFD4XoUULIaQfX//38rMiRByaNwfTbUMEGQ61E4Ns8vQbRwPYreHzJB31G4HpRhG0EVrkfhutfDQHUUrrdyFlpBpHA9iq0nJUFaj8L1lc4aQf3Wo/DPJjFBMjMzM9QSSEErCtejRWofQQLXo/CRgDJBlOtROCguMEE9CtejEH7FQHgUrgcWC11BsutRuCilO0FtPQq3sXtCQS1cj0Ji0EJB9ShcjyIByUDv//8//msxQcj1KPxeAURB7noULnEKJUH8Ubgel9QyQfH//390nD5BmnA94icFYEEuXI9iWT1DQSXhetTezUpBPArXYx6DMEGPmZmZcascQZ5wPQpLgyFBJoXrUZfUMEExMzMzE0LDQJDC9ehNokNBMR+Fq68ZWUFxR+HaI2dFQf96FO7yJzhB7P///4ZgG0FAuB6FP8ccQaBwPQrvoCVBB4XrEdGwPkGxHoUrBjozQUC4HgW4wTFBF65HoeygM0EtCtejmRsyQZ+ZmfnWI0RBxMzMzI24G0H/1qOwQLVAQVO4HoUz/BxBl3A9imsaRkG9zMxMQ8s4QeooXA/yuCVBrkfhej8QMUGOwvUovEDGQBo0M/Mqk1lBIoXrUdV+MUE9CtejMEHEQIvC9ehjHTRBQ8zMPAspWkHvo3C9Z8kmQaNwPQqREEBB8noU7hmGOUHOo3B9LqFGQfwoXM+tnkRBpEfhOnaFMkHyUbgeUpsdQfIoXI9X4hxBEoXrUSspQUGOPQpX+RM6QRyF61FIKydBmHA9CtPMMkFJ4XrU6PJEQRlSuA7khlpBrkfherRVx0BTj8L1OSUeQeQoXA9XPEdBVuF6FJaBHUFCMzMz0LgxQddRuN7pczRBRWZmZp+lOkGAPQpXBDcnQXhmZiZn6DFBKBSuF6fwWkH/rUfhdUYfQY6Zmdn8FjNByh6FS714QUFJuB4l2URFQXWPwvUBKB5BvihcTxfzR0H2KFyPIhXBQGw9CldCzTRBpXA9Ch8NNUGqR+H6769BQbYoXI/rRltBUQrXoyExKEGUR+F6sRwfQU9cj8JhxEhBcT0K14M2yEAbXI+C/kkzQScK16OA/B5BXgrX45IYO0GdwvWoBR0yQTwK16PllEVBBq5HISmaM0Ew9ihMRMJbQU+PwvVCeTJBv8zMzPZRH0Exj8L1zbY7QRquR+H6+MhAAClcr/X8RUHvUbgeRpooQXs9CtdFWh9BX7geZTuNSUGmmZn5A+pBQb5wPUqTbjVBmo/CNcEiSkG99Sjcy0sgQfx6FI7pMlxBw8zMzF7oM0EG16Ow6LUyQb0ehasdSUZBsx6Fa2HvKEE7XI8ifYtCQeZ6FC6GIiBBRuF6VADONUGuR+F61EPJQEDC9Sg2VTxB66Nw3VMNQ0E1MzOzfCYgQVS4HgWwDTNBGjMz0+SQS0EEzczMEP08QeFRuJ5NMzZBGa5H4TjzH0GsR+F6tAnNQPMoXE+Hr0ZBXFyP4kqsXEFG4XoUVWwpQdZ6FG6TPTRBtHA9CtlHM0FWW49CUv9fQd5RuN7s70RBu/UoXLOAIEEWheuRHn82QRcK16PjyipByczMzH57NEGgehSuV99OQctH4fprPUBBPgrXo5D0xkAE16OQqw1HQZyZmRkUOCJBJClcvzYuUUFpFK7HSjRHQep6FG6M8UFBT7gepc8oR0GsR+F66dAjQen//1d8l2FBZxSuRyJXKkEhXI+Ciq42QcL1KFyvCsRABdejcAWdNEEbMzPzY2wzQW09CtfXpCBBQ7gexZHpNkECKVwPR1UpQWZmZqbIyTRBXDMz0/FFU0FL4Xq0QXxHQWkUrucmg0lBVfUoVPhEY0Fc4XqUoblDQSpcj8IVrcpATwrXIwibM0EeXI/C8qIgQSdcj8If1iVBLlyPwhDbM0FSuB7FqwM1QTu4HgW64UdBBtej8BLcIEG1R+H668EgQZSZmZnNwCpBIoXr0TPhPkGrKVwfwAJeQZbC9Sh/MjdBUT0KV8q6TUEiXI9iUgZEQStcj8LV5MdA5noUzkI+SEEO16PwDtErQbgehasiRjVBWeF6VPuHN0HbhOuh9V1eQYTrUbhEiyFBMzMzMxPazkANrkfhqWZEQcmtRyEudj9BNuF61D8pNEHZKFwPHZJOQWlmZmb+zCBBPArXQzwbRUF8FK7H9CEiQS4Vrpdb6F5ByczMjILESEEnhevRRzUhQYrrUTjemzVBNTMzM/PExUCP61GYSNdPQfX///9LqTRBW4XrEQQUQEFyFK6Hwe83QZ/C9ShAJCtB01uP0mg6X0G4R+F6EQdJQbNH4Xp73SFBGClcj9CkLEE+uB6FDD84QfT///8nXkBBamZm5mYeIkH9//8/Mtc0QXE9CnfOFkVBkBSulzFYUEHhehSuxyfIQLcehesb2zVBxczMbLqBSUH7////2CE2Qb/MzEw/+SxB1h6Fy0HSUEGIFK7HupoiQbTC9UgEr0BBE65H4XrNzUCZmZkZ/hg1QXMUrrcDtV9BU7geBQHUIUGMcD1Krpo4QXTC9QhxckZBgY/CdVDILEEUrkehG2I2QZ6ZmZkEByJB+61HgZjXSUG09Sj8svpAQQApXA+eUzVB93oUrs9fIkF7ZmbGWa5FQZDC9Shc/sdAXNejSOIKYEFKCtcT9ApRQbZH4TrR7ThB4KNwPRaCLUGH61E48442QThmZlaaOGBBoEfhiq17UUGCwvWI9bBFQV4UridcOEFBM+F6lIATI0HsUbhemZ01QW09CteDIMdAufUo3HW3IUGu9SjcSCc5QW9mZiYHF0pB2aNwvY+/NUEDKVzPzU5KQVS4HgWbbEFB1qNwXSZIUkFYuB6FhgYjQRauR+Ga4sxAxgnXcxZXYEHBHoXrL1I5QQEpXO8duEZBAdejcMyQIkGJ61E4yqw2QSHXo/Bbjy5BsnA96ufqRkGICtcLu3JgQVa4HsXTxjZB7v//f1mmI0HsUbie42siQQxcjyIJnUFBaGZmZvYO0EAYMzNjlFlSQXIzMzP8ni5BVArXIxvrNUHu//8/Dns5QekoXA/qnkpBj8L1aBT9SkFv61G4d6QuQf7///9KzCJBbBSux1W5OUEOUrju7b9UQXQ9ClejMSVBHtejcOqoQ0EkhesRNPY2QUBmZg7EQ2JBMjMzMwNa0kBoj8L1MBs2QXjrUbjbC0pBjetRuG1+LkGrhevxgw5kQbXrUdg9qEVBxMzMjBI2NkFqj8LVZ+dLQY/C9Sh8WsVAyfUo3LJJKEEhheuRbtw5QdPMzEyoCDdBB9ejwNLyVkH9//9/mIQiQX4UriflQUtB3aNw/Yo5N0GcmZnZtxs6QZeZmRlrMypBT+F6FLxMLkGyR+Has5xOQbpcj8qx62VBcj0K18NMy0DsUbge0/QiQbVH4brcbDZBnnA9CpWhS0HwehROCM5HQYVmZrYqeVlBU+F61OxgOkH+KFxP96RHQfHWo7B2rjZB9wnXa0QHYUFgZmbm0fUuQbVH4fp+liRBcutROKMJI0Fp4Xq0+ZRCQd2jcD1sazdBKFyPYvkIVEFQuB6Fa+vLQL7MzAyh6ktBkD0K1xXmQkEPrkdB5EpMQWNmZmZGwM5A3KNwvTqrN0Et4XqUsLovQQHhetSiflRB0B6F6zzWJEGvR+E6RrM6QYLheuQhQGFBxJmZWbvUNkGB61G4O6JIQXnrUTiK6yJB01G4Hv86VUHrKFzPTj4wQRuuRwFJokhBHIXrUR8SJUEQrkfhIgM3QUe4HgXTNSNByvUonGLYN0GLwvXIZbRMQXYzMzOQbGFBp3A9Cte7ykAOrkcBTipDQZvC9aj18DpBJIXroa3XVUH2KFyPEFEwQRYK1/Oug2FBUrgehQtZzEAuXI8CGgRNQUm4HqUBcEhBeT0K140pN0HEcD1qsVlDQVszM/PGEjtBT+F6lAPtN0GXmZmZl4MjQfv//3//NyVBkML1KLwix0DbzMzsJ75JQQkAAAAgXjdBlsL1qKUZOEF3ZmZm02EjQWFmZmbJUDBBwczMbHhZTUGhFK7nSvlVQb5H4Yo2rmFBJIXrUf72JEHdUbh+SJ9DQTbhepRBUTtBAClcLyHpSUHOR+HaXG9WQfYoXI9snTdBo5mZGVeITUGtR+H650olQcR6FEZu2GFBfBSuR0Hoz0DZR+F6KuNDQe5RuN5ZRThB6yhcj1W7MEGumZnZP5A7QVhmZuZUjyNB7yhcz0PSN0FdPQpX6dQwQVK4HoUocThBqsL1IAoDYkG0R+F6LMkjQSquR6FyzTtBQrgeRW7tTUHNzMzMVCImQWvrUbjvAFdB08zM7F4nREH3HoWLdb9JQc/MzMxsAsxAj5mZGTHwMEHdjsI18WVEQXe4HiXix0pBR7gehWxfJEGsmZmZT/83QUVcj4LoADxBIh6F0wMpYkF/FK5H1EVOQQMpXA9hGyZB7lG4HgUizkAG16Ow/HJXQeB6FK7blDhBl5mZ2ZsoMUGeR+E6oCg8QaSjcH1PnURB4noUrn6tOEEoMzOzeDFLQc8ehWuSNiZBGoXrMYyoV0EHpHCt+kViQQoAAIAKIjhBSuF69Ot3TkFK4XoUTu3NQLb1KFzqDyRBzKNwXYI7ZEHyUbgeEvMwQalH4fqRwE5B8Chcj0eCKEEG16OwxelGQRl7FD4oHltBMjMz81M+OEHpehQuWlQ8QdWjcP0dyDhB1aNwvQ6fI0EN16Nw/Q/RQAOF67EAbE1BqR6FG/WWUEFG4XoUQOc4QRPrUfjMRklB43oUbl01T0F1FK4HoEIxQRAAAIDfwypB0qNwPU8MJEFb4XpUP4M8QdUoXJ8R111ByK1HQQI+ZkFxPQrXw/nNQGS4HgUMcjhB1szMzEJ2MUET16Pw8rQ8QfkoXC9Od09B1KNwPUqtzEDQo3A9jAc5QaPgetRQOWhBvh6FAyeDYEEjZmaGCrVLQahwPYoNlS1BrUfh+vdvOEHAzMzMsIQkQXcUrqet/FFBdsL1SLV/RUFEuB6FULYmQSBcj0KpaSRBNIXrEVSQOEHm1qPw9LZiQe+jcD1l6UtBlZmZmZAgMkF3MzMD4/JZQQmuR0HrrE9Bw8zMzEYXOUGE61G4/vjJQE64HoVi0TxBSLgehRc+OUE34XqUGhYnQSeF69Hk8jFBdxSuB2izTEG9R+G6bMo4QTRcjwIJCz1B/9aj8Jk0JEFPuB7lIVdaQSeuR2GNxEVBCwAAkCkGUEFUuB6FOzDTQFvrUXDS5GJBN2ZmVgOOWkEJMzNzBEk9QV3hetTmDUZBKYXrEYvIMUF8R+Ha+ZFMQetRuG59J1BBUY/C9XD2JkGwR+E6QdY4QfQoXI+ij85AJVyPwl6FJEG0PQovVQRjQWY9CpfwaDlBBYXrUYqKMkHEehRuKGQ9QfUoXA+TICRBrB6Fq3jDOEFOZmbm3htbQZaZmdnrPEZBlHA9il50OUGdmZkZxQdMQYnrUbgToCdBigrXgxQLY0F4FK4XVztQQdijcD1qvcxAPeF6lERrJ0HfMjNzMfhbQV7rUShcN2NBP7geJWR/RkGBPQpXhg85QROuRyG3ITJBFIXrUbcoTUF+FK5Hoa7LQG8Urke6lzlBmHA9yrOXPUEsheshjWVQQWGPwvU6jyRBMFyPQsuHJEGTmZl5w8RNQcZwPWr/v0ZB1B6F292eXEGSwvUonNbKQPf//z9MtDlBQbgexYfEPUFM4XqkuIZQQR9cj0JELDJBxx6FayVNOUEH16Nw5osoQf88Ct/UVWNBS9ejUH/7RkFA4XrUxdA5QYXrUejjV11BSuF6NEeqUEG1HoVrR1Y5QZnrUdgfp01B7FG4HmVlx0AeMzNzKTUzQQaF61ET/CdBeY/C9RvzPUFHCtd7J3RjQb7MzMzHxCRBb8L1KDy0KEHyKFyPUOwkQbgoXB8Y711BYGZm5jPoOUHsUbgeRRPHQFgzM4OVj2NBVrgehfTSUEE3CtejvYQ5QSe4HkU7NkdB+4TrsbsQTkGoR+G6qBU+Qe1RuN5SljJBFq5H0chRXkFaj8L16JnOQGaPwvVhaj5BNdejkGraTkGlHoUr0gJRQdajcL03WyVB8ihcz54fOkGE61EYmZBHQYw9Cl/PuGNBTOF61MnfMkGCPQpXWScpQZSZmZm6vTlBrB6Fa7odUUEkj8Id0y1hQWpmZiahkz5B33A9arowSkHg4Hrk/dJlQUjhehTO4tFAZj0K16B7M0EHKVwPKDErQQNSuN6t5DlBMgrXI0woJUEA16Nw+xpRQdp6FK6vOjpB2VG4Drg5UUE1MzMzOvEtQUu4HoVU/SRBSbgeBWlBOkGQcD2yduRnQWWPwuUJnFJB9Shcj6LWyEDLzMwMSaQ+QdqjcL2OODNBoZmZAVQNY0HT//9fE8dMQdxRuJ5u7zlBDYXrwRu6VEEvhesRJwY6QVcVrg9K/2lBx6NwvelJJUEsXI8CKMM+Qe///79x7DNB9x6Fg+DfZEE/4XrU6ks6QQfXo3CgejBBzczMzAyTz0A0uB5lzGxPQapH4ZpMVFFBg0fhSjl1YEHzKFyP+mY6QZLC9Si8Wc9AzXoUrnAFJUFPuB4FnVMpQT/C9YCSFmRBij0KVzDvPkFQuB5FXnxRQViPwrXhBjNBUo/CteluSEGE61EYd7JPQXuZmdm2MTpBPzMzsztgOkFluB5Fpxo/QbDMzMxs8jNBv8zMPF4pUEGWrUdZKzVkQTkK16NMm1FBuB6FazJ+OkH0KFxPsZBgQV2PwvXoxdBA3///f2J6KUHkKFwPm4MlQRrXoxB7sUhBHFyPghE4P0EoXI9CDwYpQZCZmSkeKVBBIArXA2vkSEHbHoVrgXE6QdrWo1jPQ2RBrkfherSwzUDYehQuTYYlQR+F65FIjzpB5XoU7rC+UUFGj8J19v9gQY3rUfguszNB5yhcT5MyP0FPCtej2wk0QRWuR+E6u8hAB9ejsJqdUEFmZmbm3H06QZPMzPytTWRBaj0KV8TjJEES16Pwv386QedRuB6u/UhBANejgFwgYUE4Ctejo28pQYrrUdgt0FFBVbgehSs1y0C2HoXLG3RQQeetRwmdZWRBBClcH0R/YUGLZmbmSGIpQTjhehQWRCVBv/UonGKGOkHZR+HaGTZJQYiPwnUoTT9BjcL1yArrUUGM61E4oJw6QehRuN7S8TNBaz0KV32TOkEhXI8SkxBSQcj1KNzaWiVBO+F6NMVDUEFY4Xo0UnhkQUThelSDXDNB9Chcj4LW00Dv//9/Yd4pQR+PwvW/Zj9BH4Xrkb5jSUEeXI9qyNhhQez1KBwvqDpBnsL1qB5zKkEOrkehF9A6QTszMzN8RFBBFgAAWLs3YkFCMzOzp44zQQUpXM9Qk0lBFdejcMcNJUH+//9/Fpk6QYo9Cldvez9By8zMfIodUkGE61G4HhLQQM+4HgUfhWRBuh6F60E60EB9PQrXY34qQYUUrgf+wjRBKzMzM8W5JUFXj8I1X7k6QYQUrpfzaGJBpUfhem4HO0F9j8LFt+BQQdN6FG6rN1JBaWZm5s2rP0EN16NQV91JQfPWo1hfnGRB76NwZR5zYkESXI/i1gRKQRKF6xG0tT9BjnA9infrKkGbcD3KCgw7QcP1KFxfnNNAxfUoLCg3UkFVCtdjOsE0QdDhelxBpmRBzczMTB+2OkEyXI9CwlAlQbf1KHzKA1FBfBSuR5y1OkH7UbheXcM/QWYUrr836GRBhutRuA+nJUEu16NwcM5MQT8zMzPJETtBp3A9ChfWy0AT16PwVOA0Qfh6FC4yhy1B6qNwXdxJUkELMzMjRctmQY49CldK7VJBexSuV+xLUkFN4XqUFWtUQZ1mZqaVr09BmJmZGRnDOkFvcD3K8OA/QUDrUXg/5mhBux6Fa2HeNEHpUbjeTDQ7QTcAAADR9GZBexSuRwAnJkHqUbgehVLIQGs9Clc8UzBBQDMzc6FMO0GZmZkZubIlQViPwvVQ0jpBe+tROBwAQEEiuB69/wRrQVmPwrUK4DFBpML1qJT6NEEThetR3m9WQc0ehZv+T1FBpz0Kt6FvaUEfhetRiEfRQKWZmcmzX1JBuP//f4fWSkH1o3A9P4s0Qc6jcC2hbFJB8OF6HNDYZEEF16NwAto6QQ0pXLeoBGRBaj0Kl/JlO0GEwvXYGqJRQasehetEcytBWY/C9Sigx0DhehQu4hQmQfd6FM5XCkBBWWZmZuD/P0FoZmZmew4mQQaamVnxy2RBrkfhenQ5z0CgehROHeVKQZnrUbgWWytB1KNwLQNvUUEpMzMz7bw6QdV6FD7KZlJBVWZm5nB1NEGamZkZ8GM7QcBRuDakSGRBKzMzMz3AOkFpHoW7TNFkQQ0zMzMkETVBdxSuR8F5zUDao3ANB25SQZTC9YihCEBBCa5HYbG8JUEjuB7F4hRLQQApXA+7dDtBv0fhClrxZEHZKFwPA+4qQVS4HhV901FBq3A9ikUeQEGmcD06npVSQZ1H4fpf5TRB+v//v0nTOkEO16OQ3lpLQUBmZuYVjztBjcL1KNxHy0DcUbi+IL9RQQ2F69HrvipB3czMBCi6ZEE2rkcxAutkQZfrUbg7ryVB9ChcjwL+z0Dc9Sjc1J40QU7henTos1FBw8zMjDqbO0G4R+F6pCkmQYs9CncnZ0tBsR6F60O0OkGdwvWYoOBkQYs9CtdOHCtBaI/CNRcTQEER16PwgoRSQds9ClcP52RB1qNwPRrK0EAMhetR+hxAQfr//7/XvjpBBlK4vuqZS0HMehRu5xw1QRQpXB9WxVFBOgrXozmhJUG7R+E6uMU7QeDC9djM8WRB6KNwlXlfZUHF9SicSJtSQbNH4XpbDytBQArXo8WaJUFqPQqXDulRQZVwPYp5UytBLwrXy3TcZUF7w/Uo6PhkQfdRuJ6kHkBB1XoULjvVO0E2CtcjUbU6Qde4HgVfvktBbxSuB6JcNUHZo3A9ysTNQEoK1zM0tlJBm8L1KI0EUkEz4XqU8N47Qc4J1yPu/WRBOArXI3K2OkHpehQeSGxmQYJwPYp0qStBvo/CdUrrS0EzhesRqSRAQbkehesRLctABQAAcJziUkF7FK7HxaUlQSOF61GLWzVBaD0Kl3OaOkE4uB7FuOk7QWOPwvUK/ktBph6F6+XTJUFV4Xpk/OJSQWwoXP+8hmZBgXA9SsVsNUFLCteDlRtAQeWjcD2aLytBbz0K19NH0kA/zcy0MwBlQZWZmSk6n1JBS7gexeQaQEEfhetRWATKQEbherTw+lJBDilcj8ucNUEvXI9CFKUuQYWZmQkgYFRBiML1KB+SOkFkj8J1OJwlQTUzM1OJ5GhBFYXrEfL8O0HOUbj+mPBOQcy3HhUcI2dB23oU7hoJU0GoFK4HS9Q1QdsehYsxe1VBJOF6BCAAUUEYheuRphI8QTbhelRrrzBBZZmZ2aFGaUH81qNA8bBrQQDXozBoJ0BBJlyPwoWl0kAC16MwopA6QTMK1yPAeCVBe+tRuIeZOkG8zMzMOfQlQaLC9ZgxpVhBpR6FG9sybkGemZmZu0kyQc///1/jdmtBTbgepSAwQEHH9Sgc8d81QWBmZqaXMFNBKlyPwoUU0UCeR+EaIIpSQQOF65GJIDxBx8zMHGbxUkE0heuRqJ01QYPrURjDN0xBu/UonLsjOkENj8IFC8ZkQaZwPYpz3j9BwB6FSwU8UkHco3A9Cq07Qe7Wo/BjiitByczMzJOjJUHqUbgeJZrOQJPhelTUaWdB1hSu/zOEZ0F4FK4XWrlSQWcAAAAJ3EtBA65HoaqjOUEUXI/iPBtSQadH4TpcVT9BZ2ZmZmak0UDt1qOwUmM1QfP///+6OjtBvfUo3LeMK0FfhesBrXtkQZ9wPQqU2iRBZrgexYQ5NUElXI9qkCtkQdzMzITvVGdBXD0Kl+NJOUH3ehSua+o+QY89Cvf7flJBfq5HQRumS0FrPQrn9oNSQdzMzExSYiRB9yhcj4JH0EDmR+F6WNA6QSiF61Eu5ipBcBSuBzFOS0G/HoWbhZ1RQZU9Ck/ohWdBtnA9yl5mPkGVcD0KOYE0QUxmZqaVYzpB2KNwjQI/UkFYj8L1yPHNQJpRuAZX3GNBNFyPwnsxKkEFAACA8XUkQUuPwvU+0ThBvx6F67ICOkEFexQ+JI9jQXgUrudTB1JBAgAAAACK0kCWcD2KIJM0QVlmZmbOjSpBIFK4nm4FS0FqFK6H2GY4QcX1KJyZUGdBYxSut3ZmUUEOCtejUfI9Qa9wPQqRNiRBMK5HoRseZ0FH4XqUc3g9QXAUrsfblDlBaWZmBtPSUUHpUbieOuYjQa31KFzw+jdB8aNwPa7JNEFWCtcjpFNRQch6FM5dRmNBWdej0PK7SkFcj8L1eEnQQJHC9agP7ilBcD0K1yP6ykASAACALpxRQR8zM3OMjjdB5HoULlI9OUH/ehQuRBsqQd6jcN14K2dB43oULmg2NEEyj8I1SAA9QTpcj0ID1lBBRbgexRdsSkH6////mTsjQa/rUdBC+WJBwnA9srimYkEIMzMzlzEpQReuR+EooCJBlZmZmdlLzkBC4XqUd1MzQfT///8nJFFBlyhcR93pZkHs////Uh83QZgehSt/hDxBBAAAgNa/OEH2KFxvxhlKQb7MzDxWXlFBPgAA4EfuSUER16MwMTgzQeYoXA9i0TZBSOF6FC8HKUGhHoUrU1g4QShcj8JVBsdAOhSuj9g4Z0GN61E4E6QiQX09Chd5EFFBukfhehkuPEEaSOF6NGZiQQQAAEDhKFFBMzMzMxOPxEChmZkZyyciQYDC9ehLWzZBrEfhehH3MkHxKFzP6QY4QaUehVM8Z2lB91G43lSoO0GJcD3KtR9MQWo9CmdY8FBB51G4/s9cUkGP16MY799jQeIoXA+JUitBe7gedcPfU0GxcD3KxqQ3Qb+jcH1h3DJB3h6FizVWTkHlKFxPTDY7QTYzMyN3u1BBA9ej8DjCIUEQzcxk4eBrQaNH4Xru0SxB6ChcD4v4NUH/ehRehVhlQT4K16OwpstAuY/CbY6ybUFymZlZVTtVQaxH4XrUxcpALFyPQqBJN0GvHoWr04wyQWpmZqYphVBBlHA9ihScNUH+MjPzBchmQQSF69H4ki9BEKRwDV1JUEE3uB7F7No6QUy4HgV4FSFB\"},\"shape\":[1584],\"dtype\":\"float64\",\"order\":\"little\"}],[\"date_hyphen_minus_month\",{\"type\":\"ndarray\",\"array\":{\"type\":\"bytes\",\"data\":\"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\"},\"shape\":[1584],\"dtype\":\"float64\",\"order\":\"little\"}],[\"Variable\",[\"AMOUNT\",\"AMOUNT\",\"AMOUNT\",\"AMOUNT\",\"AMOUNT\",\"AMOUNT\",\"AMOUNT\",\"AMOUNT\",\"AMOUNT\",\"AMOUNT\",\"AMOUNT\",\"AMOUNT\",\"AMOUNT\",\"AMOUNT\",\"AMOUNT\",\"AMOUNT\",\"AMOUNT\",\"AMOUNT\",\"AMOUNT\",\"AMOUNT\",\"AMOUNT\",\"AMOUNT\",\"AMOUNT\",\"AMOUNT\",\"AMOUNT\",\"AMOUNT\",\"AMOUNT\",\"AMOUNT\",\"AMOUNT\",\"AMOUNT\",\"AMOUNT\",\"AMOUNT\",\"AMOUNT\",\"AMOUNT\",\"AMOUNT\",\"AMOUNT\",\"AMOUNT\",\"AMOUNT\",\"AMOUNT\",\"AMOUNT\",\"AMOUNT\",\"AMOUNT\",\"AMOUNT\",\"AMOUNT\",\"AMOUNT\",\"AMOUNT\",\"AMOUNT\",\"AMOUNT\",\"AMOUNT\",\"AMOUNT\",\"AMOUNT\",\"AMOUNT\",\"AMOUNT\",\"AMOUNT\",\"AMOUNT\",\"AMOUNT\",\"AMOUNT\",\"AMOUNT\",\"AMOUNT\",\"AMOUNT\",\"AMOUNT\",\"AMOUNT\",\"AMOUNT\",\"AMOUNT\",\"AMOUNT\",\"AMOUNT\",\"AMOUNT\",\"AMOUNT\",\"AMOUNT\",\"AMOUNT\",\"AMOUNT\",\"AMOUNT\",\"AMOUNT\",\"AMOUNT\",\"AMOUNT\",\"AMOUNT\",\"AMOUNT\",\"AMOUNT\",\"AMOUNT\",\"AMOUNT\",\"AMOUNT\",\"AMOUNT\",\"AMOUNT\",\"AMOUNT\",\"AMOUNT\",\"AMOUNT\",\"AMOUNT\",\"AMOUNT\",\"AMOUNT\",\"AMOUNT\",\"AMOUNT\",\"AMOUNT\",\"AMOUNT\",\"AMOUNT\",\"AMOUNT\",\"AMOUNT\",\"AMOUNT\",\"AMOUNT\",\"AMOUNT\",\"AMOUNT\",\"AMOUNT\",\"AMOUNT\",\"AMOUNT\",\"AMOUNT\",\"AMOUNT\",\"AMOUNT\",\"AMOUNT\",\"AMOUNT\",\"AMOUNT\",\"AMOUNT\",\"AMOUNT\",\"AMOUNT\",\"AMOUNT\",\"AMOUNT\",\"AMOUNT\",\"AMOUNT\",\"AMOUNT\",\"AMOUNT\",\"AMOUNT\",\"AMOUNT\",\"AMOUNT\",\"AMOUNT\",\"AMOUNT\",\"AMOUNT\",\"AMOUNT\",\"AMOUNT\",\"AMOUNT\",\"AMOUNT\",\"AMOUNT\",\"AMOUNT\",\"AMOUNT\",\"AMOUNT\",\"AMOUNT\",\"AMOUNT\",\"AMOUNT\",\"AMOUNT\",\"AMOUNT\",\"AMOUNT\",\"AMOUNT\",\"AMOUNT\",\"AMOUNT\",\"AMOUNT\",\"AMOUNT\",\"AMOUNT\",\"AMOUNT\",\"AMOUNT\",\"AMOUNT\",\"AMOUNT\",\"AMOUNT\",\"AMOUNT\",\"AMOUNT\",\"AMOUNT\",\"AMOUNT\",\"AMOUNT\",\"AMOUNT\",\"AMOUNT\",\"AMOUNT\",\"AMOUNT\",\"AMOUNT\",\"AMOUNT\",\"AMOUNT\",\"AMOUNT\",\"AMOUNT\",\"AMOUNT\",\"AMOUNT\",\"AMOUNT\",\"AMOUNT\",\"AMOUNT\",\"AMOUNT\",\"AMOUNT\",\"AMOUNT\",\"AMOUNT\",\"AMOUNT\",\"AMOUNT\",\"AMOUNT\",\"AMOUNT\",\"AMOUNT\",\"AMOUNT\",\"AMOUNT\",\"AMOUNT\",\"AMOUNT\",\"AMOUNT\",\"AMOUNT\",\"AMOUNT\",\"AMOUNT\",\"AMOUNT\",\"AMOUNT\",\"AMOUNT\",\"AMOUNT\",\"AMOUNT\",\"AMOUNT\",\"AMOUNT\",\"AMOUNT\",\"AMOUNT\",\"AMOUNT\",\"AMOUNT\",\"AMOUNT\",\"AMOUNT\",\"AMOUNT\",\"AMOUNT\",\"AMOUNT\",\"AMOUNT\",\"AMOUNT\",\"AMOUNT\",\"AMOUNT\",\"AMOUNT\",\"AMOUNT\",\"AMOUNT\",\"AMOUNT\",\"AMOUNT\",\"AMOUNT\",\"AMOUNT\",\"AMOUNT\",\"AMOUNT\",\"AMOUNT\",\"AMOUNT\",\"AMOUNT\",\"AMOUNT\",\"AMOUNT\",\"AMOUNT\",\"AMOUNT\",\"AMOUNT\",\"AMOUNT\",\"AMOUNT\",\"AMOUNT\",\"AMOUNT\",\"AMOUNT\",\"AMOUNT\",\"AMOUNT\",\"AMOUNT\",\"AMOUNT\",\"AMOUNT\",\"AMOUNT\",\"AMOUNT\",\"AMOUNT\",\"AMOUNT\",\"AMOUNT\",\"AMOUNT\",\"AMOUNT\",\"AMOUNT\",\"AMOUNT\",\"AMOUNT\",\"AMOUNT\",\"AMOUNT\",\"AMOUNT\",\"AMOUNT\",\"AMOUNT\",\"AMOUNT\",\"AMOUNT\",\"AMOUNT\",\"AMOUNT\",\"AMOUNT\",\"AMOUNT\",\"AMOUNT\",\"AMOUNT\",\"AMOUNT\",\"AMOUNT\",\"AMOUNT\",\"AMOUNT\",\"AMOUNT\",\"AMOUNT\",\"AMOUNT\",\"AMOUNT\",\"AMOUNT\",\"AMOUNT\",\"AMOUNT\",\"AMOUNT\",\"AMOUNT\",\"AMOUNT\",\"AMOUNT\",\"AMOUNT\",\"AMOUNT\",\"AMOUNT\",\"AMOUNT\",\"AMOUNT\",\"AMOUNT\",\"AMOUNT\",\"AMOUNT\",\"AMOUNT\",\"AMOUNT\",\"AMOUNT\",\"AMOUNT\",\"AMOUNT\",\"AMOUNT\",\"AMOUNT\",\"AMOUNT\",\"AMOUNT\",\"AMOUNT\",\"AMOUNT\",\"AMOUNT\",\"AMOUNT\",\"AMOUNT\",\"AMOUNT\",\"AMOUNT\",\"AMOUNT\",\"AMOUNT\",\"AMOUNT\",\"AMOUNT\",\"AMOUNT\",\"AMOUNT\",\"AMOUNT\",\"AMOUNT\",\"AMOUNT\",\"AMOUNT\",\"AMOUNT\",\"AMOUNT\",\"AMOUNT\",\"AMOUNT\",\"AMOUNT\",\"AMOUNT\",\"AMOUNT\",\"AMOUNT\",\"AMOUNT\",\"AMOUNT\",\"AMOUNT\",\"AMOUNT\",\"AMOUNT\",\"AMOUNT\",\"AMOUNT\",\"AMOUNT\",\"AMOUNT\",\"AMOUNT\",\"AMOUNT\",\"AMOUNT\",\"AMOUNT\",\"AMOUNT\",\"AMOUNT\",\"AMOUNT\",\"AMOUNT\",\"AMOUNT\",\"AMOUNT\",\"AMOUNT\",\"AMOUNT\",\"AMOUNT\",\"AMOUNT\",\"AMOUNT\",\"AMOUNT\",\"AMOUNT\",\"AMOUNT\",\"AMOUNT\",\"AMOUNT\",\"AMOUNT\",\"AMOUNT\",\"AMOUNT\",\"AMOUNT\",\"AMOUNT\",\"AMOUNT\",\"AMOUNT\",\"AMOUNT\",\"AMOUNT\",\"AMOUNT\",\"AMOUNT\",\"AMOUNT\",\"AMOUNT\",\"AMOUNT\",\"AMOUNT\",\"AMOUNT\",\"AMOUNT\",\"AMOUNT\",\"AMOUNT\",\"AMOUNT\",\"AMOUNT\",\"AMOUNT\",\"AMOUNT\",\"AMOUNT\",\"AMOUNT\",\"AMOUNT\",\"AMOUNT\",\"AMOUNT\",\"AMOUNT\",\"AMOUNT\",\"AMOUNT\",\"AMOUNT\",\"AMOUNT\",\"AMOUNT\",\"AMOUNT\",\"AMOUNT\",\"AMOUNT\",\"AMOUNT\",\"AMOUNT\",\"AMOUNT\",\"AMOUNT\",\"AMOUNT\",\"AMOUNT\",\"AMOUNT\",\"AMOUNT\",\"AMOUNT\",\"AMOUNT\",\"AMOUNT\",\"AMOUNT\",\"AMOUNT\",\"AMOUNT\",\"AMOUNT\",\"AMOUNT\",\"AMOUNT\",\"AMOUNT\",\"AMOUNT\",\"AMOUNT\",\"AMOUNT\",\"AMOUNT\",\"AMOUNT\",\"AMOUNT\",\"AMOUNT\",\"AMOUNT\",\"AMOUNT\",\"AMOUNT\",\"AMOUNT\",\"AMOUNT\",\"AMOUNT\",\"AMOUNT\",\"AMOUNT\",\"AMOUNT\",\"AMOUNT\",\"AMOUNT\",\"AMOUNT\",\"AMOUNT\",\"AMOUNT\",\"AMOUNT\",\"AMOUNT\",\"AMOUNT\",\"AMOUNT\",\"AMOUNT\",\"AMOUNT\",\"AMOUNT\",\"AMOUNT\",\"AMOUNT\",\"AMOUNT\",\"AMOUNT\",\"AMOUNT\",\"AMOUNT\",\"AMOUNT\",\"AMOUNT\",\"AMOUNT\",\"AMOUNT\",\"AMOUNT\",\"AMOUNT\",\"AMOUNT\",\"AMOUNT\",\"AMOUNT\",\"AMOUNT\",\"AMOUNT\",\"AMOUNT\",\"AMOUNT\",\"AMOUNT\",\"AMOUNT\",\"AMOUNT\",\"AMOUNT\",\"AMOUNT\",\"AMOUNT\",\"AMOUNT\",\"AMOUNT\",\"AMOUNT\",\"AMOUNT\",\"AMOUNT\",\"AMOUNT\",\"AMOUNT\",\"AMOUNT\",\"AMOUNT\",\"AMOUNT\",\"AMOUNT\",\"AMOUNT\",\"AMOUNT\",\"AMOUNT\",\"AMOUNT\",\"AMOUNT\",\"AMOUNT\",\"AMOUNT\",\"AMOUNT\",\"AMOUNT\",\"AMOUNT\",\"AMOUNT\",\"AMOUNT\",\"AMOUNT\",\"AMOUNT\",\"AMOUNT\",\"AMOUNT\",\"AMOUNT\",\"AMOUNT\",\"AMOUNT\",\"AMOUNT\",\"AMOUNT\",\"AMOUNT\",\"AMOUNT\",\"AMOUNT\",\"AMOUNT\",\"AMOUNT\",\"AMOUNT\",\"AMOUNT\",\"AMOUNT\",\"AMOUNT\",\"AMOUNT\",\"AMOUNT\",\"AMOUNT\",\"AMOUNT\",\"AMOUNT\",\"AMOUNT\",\"AMOUNT\",\"AMOUNT\",\"AMOUNT\",\"AMOUNT\",\"AMOUNT\",\"AMOUNT\",\"AMOUNT\",\"AMOUNT\",\"AMOUNT\",\"AMOUNT\",\"AMOUNT\",\"AMOUNT\",\"AMOUNT\",\"AMOUNT\",\"AMOUNT\",\"AMOUNT\",\"AMOUNT\",\"AMOUNT\",\"AMOUNT\",\"AMOUNT\",\"AMOUNT\",\"AMOUNT\",\"AMOUNT\",\"AMOUNT\",\"AMOUNT\",\"AMOUNT\",\"AMOUNT\",\"AMOUNT\",\"AMOUNT\",\"AMOUNT\",\"AMOUNT\",\"AMOUNT\",\"AMOUNT\",\"AMOUNT\",\"AMOUNT\",\"AMOUNT\",\"AMOUNT\",\"AMOUNT\",\"AMOUNT\",\"AMOUNT\",\"AMOUNT\",\"AMOUNT\",\"AMOUNT\",\"AMOUNT\",\"AMOUNT\",\"AMOUNT\",\"AMOUNT\",\"AMOUNT\",\"AMOUNT\",\"AMOUNT\",\"AMOUNT\",\"AMOUNT\",\"AMOUNT\",\"AMOUNT\",\"AMOUNT\",\"AMOUNT\",\"AMOUNT\",\"AMOUNT\",\"AMOUNT\",\"AMOUNT\",\"AMOUNT\",\"AMOUNT\",\"AMOUNT\",\"AMOUNT\",\"AMOUNT\",\"AMOUNT\",\"AMOUNT\",\"AMOUNT\",\"AMOUNT\",\"AMOUNT\",\"AMOUNT\",\"AMOUNT\",\"AMOUNT\",\"AMOUNT\",\"AMOUNT\",\"AMOUNT\",\"AMOUNT\",\"AMOUNT\",\"AMOUNT\",\"AMOUNT\",\"AMOUNT\",\"AMOUNT\",\"AMOUNT\",\"AMOUNT\",\"AMOUNT\",\"AMOUNT\",\"AMOUNT\",\"AMOUNT\",\"AMOUNT\",\"AMOUNT\",\"AMOUNT\",\"AMOUNT\",\"AMOUNT\",\"AMOUNT\",\"AMOUNT\",\"AMOUNT\",\"AMOUNT\",\"AMOUNT\",\"AMOUNT\",\"AMOUNT\",\"AMOUNT\",\"AMOUNT\",\"AMOUNT\",\"AMOUNT\",\"AMOUNT\",\"AMOUNT\",\"AMOUNT\",\"AMOUNT\",\"AMOUNT\",\"AMOUNT\",\"AMOUNT\",\"AMOUNT\",\"AMOUNT\",\"AMOUNT\",\"AMOUNT\",\"AMOUNT\",\"AMOUNT\",\"AMOUNT\",\"AMOUNT\",\"AMOUNT\",\"AMOUNT\",\"AMOUNT\",\"AMOUNT\",\"AMOUNT\",\"AMOUNT\",\"AMOUNT\",\"AMOUNT\",\"AMOUNT\",\"AMOUNT\",\"AMOUNT\",\"AMOUNT\",\"AMOUNT\",\"AMOUNT\",\"AMOUNT\",\"AMOUNT\",\"AMOUNT\",\"AMOUNT\",\"AMOUNT\",\"AMOUNT\",\"AMOUNT\",\"AMOUNT\",\"AMOUNT\",\"AMOUNT\",\"AMOUNT\",\"AMOUNT\",\"AMOUNT\",\"AMOUNT\",\"AMOUNT\",\"AMOUNT\",\"AMOUNT\",\"AMOUNT\",\"AMOUNT\",\"AMOUNT\",\"AMOUNT\",\"AMOUNT\",\"AMOUNT\",\"AMOUNT\",\"AMOUNT\",\"AMOUNT\",\"AMOUNT\",\"AMOUNT\",\"AMOUNT\",\"AMOUNT\",\"AMOUNT\",\"AMOUNT\",\"AMOUNT\",\"AMOUNT\",\"AMOUNT\",\"AMOUNT\",\"AMOUNT\",\"AMOUNT\",\"AMOUNT\",\"AMOUNT\",\"AMOUNT\",\"AMOUNT\",\"AMOUNT\",\"AMOUNT\",\"AMOUNT\",\"AMOUNT\",\"AMOUNT\",\"AMOUNT\",\"AMOUNT\",\"AMOUNT\",\"AMOUNT\",\"AMOUNT\",\"AMOUNT\",\"AMOUNT\",\"AMOUNT\",\"AMOUNT\",\"AMOUNT\",\"AMOUNT\",\"AMOUNT\",\"AMOUNT\",\"AMOUNT\",\"AMOUNT\",\"AMOUNT\",\"AMOUNT\",\"AMOUNT\",\"AMOUNT\",\"AMOUNT\",\"AMOUNT\",\"AMOUNT\",\"AMOUNT\",\"AMOUNT\",\"AMOUNT\",\"AMOUNT\",\"AMOUNT\",\"AMOUNT\",\"AMOUNT\",\"AMOUNT\",\"AMOUNT\",\"AMOUNT\",\"AMOUNT\",\"AMOUNT\",\"AMOUNT\",\"AMOUNT\",\"AMOUNT\",\"AMOUNT\",\"AMOUNT\",\"AMOUNT\",\"AMOUNT\",\"AMOUNT\",\"AMOUNT\",\"AMOUNT\",\"AMOUNT\",\"AMOUNT\",\"AMOUNT\",\"AMOUNT\",\"AMOUNT\",\"AMOUNT\",\"AMOUNT\",\"AMOUNT\",\"AMOUNT\",\"AMOUNT\",\"AMOUNT\",\"AMOUNT\",\"AMOUNT\",\"AMOUNT\",\"AMOUNT\",\"AMOUNT\",\"AMOUNT\",\"AMOUNT\",\"AMOUNT\",\"AMOUNT\",\"AMOUNT\",\"AMOUNT\",\"AMOUNT\",\"AMOUNT\",\"AMOUNT\",\"AMOUNT\",\"AMOUNT\",\"AMOUNT\",\"AMOUNT\",\"AMOUNT\",\"AMOUNT\",\"AMOUNT\",\"AMOUNT\",\"AMOUNT\",\"AMOUNT\",\"AMOUNT\",\"AMOUNT\",\"AMOUNT\",\"AMOUNT\",\"AMOUNT\",\"AMOUNT\",\"AMOUNT\",\"AMOUNT\",\"AMOUNT\",\"AMOUNT\",\"AMOUNT\",\"AMOUNT\",\"AMOUNT\",\"AMOUNT\",\"AMOUNT\",\"AMOUNT\",\"AMOUNT\",\"AMOUNT\",\"AMOUNT\",\"AMOUNT\",\"AMOUNT\",\"AMOUNT\",\"AMOUNT\",\"AMOUNT\",\"AMOUNT\",\"AMOUNT\",\"AMOUNT\",\"AMOUNT\",\"AMOUNT\",\"AMOUNT\",\"AMOUNT\",\"AMOUNT\",\"AMOUNT\",\"AMOUNT\",\"AMOUNT\",\"AMOUNT\",\"AMOUNT\",\"AMOUNT\",\"AMOUNT\",\"AMOUNT\",\"AMOUNT\",\"AMOUNT\",\"AMOUNT\",\"AMOUNT\",\"AMOUNT\",\"AMOUNT\",\"AMOUNT\",\"AMOUNT\",\"AMOUNT\",\"AMOUNT\",\"AMOUNT\",\"AMOUNT\",\"AMOUNT\",\"AMOUNT\",\"AMOUNT\",\"AMOUNT\",\"AMOUNT\",\"AMOUNT\",\"AMOUNT\",\"AMOUNT\",\"AMOUNT\",\"AMOUNT\",\"AMOUNT\",\"AMOUNT\",\"AMOUNT\",\"AMOUNT\",\"AMOUNT\",\"AMOUNT\",\"AMOUNT\",\"AMOUNT\",\"AMOUNT\",\"AMOUNT\",\"AMOUNT\",\"AMOUNT\",\"AMOUNT\",\"AMOUNT\",\"AMOUNT\",\"AMOUNT\",\"AMOUNT\",\"AMOUNT\",\"AMOUNT\",\"AMOUNT\",\"AMOUNT\",\"AMOUNT\",\"AMOUNT\",\"AMOUNT\",\"AMOUNT\",\"AMOUNT\",\"AMOUNT\",\"AMOUNT\",\"AMOUNT\",\"AMOUNT\",\"AMOUNT\",\"AMOUNT\",\"AMOUNT\",\"AMOUNT\",\"AMOUNT\",\"AMOUNT\",\"AMOUNT\",\"AMOUNT\",\"AMOUNT\",\"AMOUNT\",\"AMOUNT\",\"AMOUNT\",\"AMOUNT\",\"AMOUNT\",\"AMOUNT\",\"AMOUNT\",\"AMOUNT\",\"AMOUNT\",\"AMOUNT\",\"AMOUNT\",\"AMOUNT\",\"AMOUNT\",\"AMOUNT\",\"AMOUNT\",\"AMOUNT\",\"AMOUNT\",\"AMOUNT\",\"AMOUNT\",\"AMOUNT\",\"AMOUNT\",\"AMOUNT\",\"AMOUNT\",\"AMOUNT\",\"AMOUNT\",\"AMOUNT\",\"AMOUNT\",\"AMOUNT\",\"AMOUNT\",\"AMOUNT\",\"AMOUNT\",\"AMOUNT\",\"AMOUNT\",\"AMOUNT\",\"AMOUNT\",\"AMOUNT\",\"AMOUNT\",\"AMOUNT\",\"AMOUNT\",\"AMOUNT\",\"AMOUNT\",\"AMOUNT\",\"AMOUNT\",\"AMOUNT\",\"AMOUNT\",\"AMOUNT\",\"AMOUNT\",\"AMOUNT\",\"AMOUNT\",\"AMOUNT\",\"AMOUNT\",\"AMOUNT\",\"AMOUNT\",\"AMOUNT\",\"AMOUNT\",\"AMOUNT\",\"AMOUNT\",\"AMOUNT\",\"AMOUNT\",\"AMOUNT\",\"AMOUNT\",\"AMOUNT\",\"AMOUNT\",\"AMOUNT\",\"AMOUNT\",\"AMOUNT\",\"AMOUNT\",\"AMOUNT\",\"AMOUNT\",\"AMOUNT\",\"AMOUNT\",\"AMOUNT\",\"AMOUNT\",\"AMOUNT\",\"AMOUNT\",\"AMOUNT\",\"AMOUNT\",\"AMOUNT\",\"AMOUNT\",\"AMOUNT\",\"AMOUNT\",\"AMOUNT\",\"AMOUNT\",\"AMOUNT\",\"AMOUNT\",\"AMOUNT\",\"AMOUNT\",\"AMOUNT\",\"AMOUNT\",\"AMOUNT\",\"AMOUNT\",\"AMOUNT\",\"AMOUNT\",\"AMOUNT\",\"AMOUNT\",\"AMOUNT\",\"AMOUNT\",\"AMOUNT\",\"AMOUNT\",\"AMOUNT\",\"AMOUNT\",\"AMOUNT\",\"AMOUNT\",\"AMOUNT\",\"AMOUNT\",\"AMOUNT\",\"AMOUNT\",\"AMOUNT\",\"AMOUNT\",\"AMOUNT\",\"AMOUNT\",\"AMOUNT\",\"AMOUNT\",\"AMOUNT\",\"AMOUNT\",\"AMOUNT\",\"AMOUNT\",\"AMOUNT\",\"AMOUNT\",\"AMOUNT\",\"AMOUNT\",\"AMOUNT\",\"AMOUNT\",\"AMOUNT\",\"AMOUNT\",\"AMOUNT\",\"AMOUNT\",\"AMOUNT\",\"AMOUNT\",\"AMOUNT\",\"AMOUNT\",\"AMOUNT\",\"AMOUNT\",\"AMOUNT\",\"AMOUNT\",\"AMOUNT\",\"AMOUNT\",\"AMOUNT\",\"AMOUNT\",\"AMOUNT\",\"AMOUNT\",\"AMOUNT\",\"AMOUNT\",\"AMOUNT\",\"AMOUNT\",\"AMOUNT\",\"AMOUNT\",\"AMOUNT\",\"AMOUNT\",\"AMOUNT\",\"AMOUNT\",\"AMOUNT\",\"AMOUNT\",\"AMOUNT\",\"AMOUNT\",\"AMOUNT\",\"AMOUNT\",\"AMOUNT\",\"AMOUNT\",\"AMOUNT\",\"AMOUNT\",\"AMOUNT\",\"AMOUNT\",\"AMOUNT\",\"AMOUNT\",\"AMOUNT\",\"AMOUNT\",\"AMOUNT\",\"AMOUNT\",\"AMOUNT\",\"AMOUNT\",\"AMOUNT\",\"AMOUNT\",\"AMOUNT\",\"AMOUNT\",\"AMOUNT\",\"AMOUNT\",\"AMOUNT\",\"AMOUNT\",\"AMOUNT\",\"AMOUNT\",\"AMOUNT\",\"AMOUNT\",\"AMOUNT\",\"AMOUNT\",\"AMOUNT\",\"AMOUNT\",\"AMOUNT\",\"AMOUNT\",\"AMOUNT\",\"AMOUNT\",\"AMOUNT\",\"AMOUNT\",\"AMOUNT\",\"AMOUNT\",\"AMOUNT\",\"AMOUNT\",\"AMOUNT\",\"AMOUNT\",\"AMOUNT\",\"AMOUNT\",\"AMOUNT\",\"AMOUNT\",\"AMOUNT\",\"AMOUNT\",\"AMOUNT\",\"AMOUNT\",\"AMOUNT\",\"AMOUNT\",\"AMOUNT\",\"AMOUNT\",\"AMOUNT\",\"AMOUNT\",\"AMOUNT\",\"AMOUNT\",\"AMOUNT\",\"AMOUNT\",\"AMOUNT\",\"AMOUNT\",\"AMOUNT\",\"AMOUNT\",\"AMOUNT\",\"AMOUNT\",\"AMOUNT\",\"AMOUNT\",\"AMOUNT\",\"AMOUNT\",\"AMOUNT\",\"AMOUNT\",\"AMOUNT\",\"AMOUNT\",\"AMOUNT\",\"AMOUNT\",\"AMOUNT\",\"AMOUNT\",\"AMOUNT\",\"AMOUNT\",\"AMOUNT\",\"AMOUNT\",\"AMOUNT\",\"AMOUNT\",\"AMOUNT\",\"AMOUNT\",\"AMOUNT\",\"AMOUNT\",\"AMOUNT\",\"AMOUNT\",\"AMOUNT\",\"AMOUNT\",\"AMOUNT\",\"AMOUNT\",\"AMOUNT\",\"AMOUNT\",\"AMOUNT\",\"AMOUNT\",\"AMOUNT\",\"AMOUNT\",\"AMOUNT\",\"AMOUNT\",\"AMOUNT\",\"AMOUNT\",\"AMOUNT\",\"AMOUNT\",\"AMOUNT\",\"AMOUNT\",\"AMOUNT\",\"AMOUNT\",\"AMOUNT\",\"AMOUNT\",\"AMOUNT\",\"AMOUNT\",\"AMOUNT\",\"AMOUNT\",\"AMOUNT\",\"AMOUNT\",\"AMOUNT\",\"AMOUNT\",\"AMOUNT\",\"AMOUNT\",\"AMOUNT\",\"AMOUNT\",\"AMOUNT\",\"AMOUNT\",\"AMOUNT\",\"AMOUNT\",\"AMOUNT\",\"AMOUNT\",\"AMOUNT\",\"AMOUNT\",\"AMOUNT\",\"AMOUNT\",\"AMOUNT\",\"AMOUNT\",\"AMOUNT\",\"AMOUNT\",\"AMOUNT\",\"AMOUNT\",\"AMOUNT\",\"AMOUNT\",\"AMOUNT\",\"AMOUNT\",\"AMOUNT\",\"AMOUNT\",\"AMOUNT\",\"AMOUNT\",\"AMOUNT\",\"AMOUNT\",\"AMOUNT\",\"AMOUNT\",\"AMOUNT\",\"AMOUNT\",\"AMOUNT\",\"AMOUNT\",\"AMOUNT\",\"AMOUNT\",\"AMOUNT\",\"AMOUNT\",\"AMOUNT\",\"AMOUNT\",\"AMOUNT\",\"AMOUNT\",\"AMOUNT\",\"AMOUNT\",\"AMOUNT\",\"AMOUNT\",\"AMOUNT\",\"AMOUNT\",\"AMOUNT\",\"AMOUNT\",\"AMOUNT\",\"AMOUNT\",\"AMOUNT\",\"AMOUNT\",\"AMOUNT\",\"AMOUNT\",\"AMOUNT\",\"AMOUNT\",\"AMOUNT\",\"AMOUNT\",\"AMOUNT\",\"AMOUNT\",\"AMOUNT\",\"AMOUNT\",\"AMOUNT\",\"AMOUNT\",\"AMOUNT\",\"AMOUNT\",\"AMOUNT\",\"AMOUNT\",\"AMOUNT\",\"AMOUNT\",\"AMOUNT\",\"AMOUNT\",\"AMOUNT\",\"AMOUNT\",\"AMOUNT\",\"AMOUNT\",\"AMOUNT\",\"AMOUNT\",\"AMOUNT\",\"AMOUNT\",\"AMOUNT\",\"AMOUNT\",\"AMOUNT\",\"AMOUNT\",\"AMOUNT\",\"AMOUNT\",\"AMOUNT\",\"AMOUNT\",\"AMOUNT\",\"AMOUNT\",\"AMOUNT\",\"AMOUNT\",\"AMOUNT\",\"AMOUNT\",\"AMOUNT\",\"AMOUNT\",\"AMOUNT\",\"AMOUNT\",\"AMOUNT\",\"AMOUNT\",\"AMOUNT\",\"AMOUNT\",\"AMOUNT\",\"AMOUNT\",\"AMOUNT\",\"AMOUNT\",\"AMOUNT\",\"AMOUNT\",\"AMOUNT\",\"AMOUNT\",\"AMOUNT\",\"AMOUNT\",\"AMOUNT\",\"AMOUNT\",\"AMOUNT\",\"AMOUNT\",\"AMOUNT\",\"AMOUNT\",\"AMOUNT\",\"AMOUNT\",\"AMOUNT\",\"AMOUNT\",\"AMOUNT\",\"AMOUNT\",\"AMOUNT\",\"AMOUNT\",\"AMOUNT\",\"AMOUNT\",\"AMOUNT\",\"AMOUNT\",\"AMOUNT\",\"AMOUNT\",\"AMOUNT\",\"AMOUNT\",\"AMOUNT\",\"AMOUNT\",\"AMOUNT\",\"AMOUNT\",\"AMOUNT\",\"AMOUNT\",\"AMOUNT\",\"AMOUNT\",\"AMOUNT\",\"AMOUNT\",\"AMOUNT\",\"AMOUNT\",\"AMOUNT\",\"AMOUNT\",\"AMOUNT\",\"AMOUNT\",\"AMOUNT\",\"AMOUNT\",\"AMOUNT\",\"AMOUNT\",\"AMOUNT\",\"AMOUNT\",\"AMOUNT\",\"AMOUNT\",\"AMOUNT\",\"AMOUNT\",\"AMOUNT\",\"AMOUNT\",\"AMOUNT\",\"AMOUNT\",\"AMOUNT\",\"AMOUNT\",\"AMOUNT\",\"AMOUNT\",\"AMOUNT\",\"AMOUNT\",\"AMOUNT\",\"AMOUNT\",\"AMOUNT\",\"AMOUNT\",\"AMOUNT\",\"AMOUNT\",\"AMOUNT\",\"AMOUNT\",\"AMOUNT\",\"AMOUNT\",\"AMOUNT\",\"AMOUNT\",\"AMOUNT\",\"AMOUNT\",\"AMOUNT\",\"AMOUNT\",\"AMOUNT\",\"AMOUNT\",\"AMOUNT\",\"AMOUNT\",\"AMOUNT\",\"AMOUNT\",\"AMOUNT\",\"AMOUNT\",\"AMOUNT\",\"AMOUNT\",\"AMOUNT\",\"AMOUNT\",\"AMOUNT\",\"AMOUNT\",\"AMOUNT\",\"AMOUNT\",\"AMOUNT\",\"AMOUNT\",\"AMOUNT\",\"AMOUNT\",\"AMOUNT\",\"AMOUNT\",\"AMOUNT\",\"AMOUNT\",\"AMOUNT\",\"AMOUNT\",\"AMOUNT\",\"AMOUNT\",\"AMOUNT\",\"AMOUNT\",\"AMOUNT\",\"AMOUNT\",\"AMOUNT\",\"AMOUNT\",\"AMOUNT\",\"AMOUNT\",\"AMOUNT\",\"AMOUNT\",\"AMOUNT\",\"AMOUNT\",\"AMOUNT\",\"AMOUNT\",\"AMOUNT\",\"AMOUNT\",\"AMOUNT\",\"AMOUNT\",\"AMOUNT\",\"AMOUNT\",\"AMOUNT\",\"AMOUNT\",\"AMOUNT\",\"AMOUNT\",\"AMOUNT\",\"AMOUNT\",\"AMOUNT\",\"AMOUNT\",\"AMOUNT\",\"AMOUNT\",\"AMOUNT\",\"AMOUNT\",\"AMOUNT\",\"AMOUNT\",\"AMOUNT\",\"AMOUNT\",\"AMOUNT\",\"AMOUNT\",\"AMOUNT\",\"AMOUNT\",\"AMOUNT\",\"AMOUNT\",\"AMOUNT\",\"AMOUNT\",\"AMOUNT\",\"AMOUNT\",\"AMOUNT\",\"AMOUNT\",\"AMOUNT\",\"AMOUNT\",\"AMOUNT\",\"AMOUNT\",\"AMOUNT\",\"AMOUNT\",\"AMOUNT\",\"AMOUNT\",\"AMOUNT\",\"AMOUNT\",\"AMOUNT\",\"AMOUNT\",\"AMOUNT\",\"AMOUNT\",\"AMOUNT\",\"AMOUNT\",\"AMOUNT\",\"AMOUNT\",\"AMOUNT\",\"AMOUNT\",\"AMOUNT\",\"AMOUNT\",\"AMOUNT\",\"AMOUNT\",\"AMOUNT\",\"AMOUNT\",\"AMOUNT\",\"AMOUNT\",\"AMOUNT\",\"AMOUNT\",\"AMOUNT\",\"AMOUNT\",\"AMOUNT\",\"AMOUNT\",\"AMOUNT\",\"AMOUNT\",\"AMOUNT\",\"AMOUNT\",\"AMOUNT\",\"AMOUNT\",\"AMOUNT\",\"AMOUNT\",\"AMOUNT\",\"AMOUNT\",\"AMOUNT\",\"AMOUNT\",\"AMOUNT\",\"AMOUNT\",\"AMOUNT\",\"AMOUNT\",\"AMOUNT\",\"AMOUNT\",\"AMOUNT\",\"AMOUNT\",\"AMOUNT\",\"AMOUNT\",\"AMOUNT\",\"AMOUNT\",\"AMOUNT\",\"AMOUNT\",\"AMOUNT\",\"AMOUNT\",\"AMOUNT\",\"AMOUNT\",\"AMOUNT\",\"AMOUNT\",\"AMOUNT\",\"AMOUNT\",\"AMOUNT\",\"AMOUNT\",\"AMOUNT\",\"AMOUNT\",\"AMOUNT\",\"AMOUNT\",\"AMOUNT\",\"AMOUNT\",\"AMOUNT\",\"AMOUNT\",\"AMOUNT\",\"AMOUNT\",\"AMOUNT\",\"AMOUNT\",\"AMOUNT\",\"AMOUNT\",\"AMOUNT\",\"AMOUNT\",\"AMOUNT\",\"AMOUNT\",\"AMOUNT\",\"AMOUNT\",\"AMOUNT\",\"AMOUNT\",\"AMOUNT\",\"AMOUNT\",\"AMOUNT\",\"AMOUNT\",\"AMOUNT\",\"AMOUNT\",\"AMOUNT\",\"AMOUNT\",\"AMOUNT\",\"AMOUNT\",\"AMOUNT\",\"AMOUNT\",\"AMOUNT\",\"AMOUNT\",\"AMOUNT\",\"AMOUNT\",\"AMOUNT\",\"AMOUNT\",\"AMOUNT\",\"AMOUNT\",\"AMOUNT\",\"AMOUNT\",\"AMOUNT\",\"AMOUNT\",\"AMOUNT\",\"AMOUNT\",\"AMOUNT\",\"AMOUNT\",\"AMOUNT\",\"AMOUNT\",\"AMOUNT\",\"AMOUNT\",\"AMOUNT\",\"AMOUNT\",\"AMOUNT\",\"AMOUNT\",\"AMOUNT\",\"AMOUNT\",\"AMOUNT\",\"AMOUNT\",\"AMOUNT\",\"AMOUNT\",\"AMOUNT\",\"AMOUNT\",\"AMOUNT\",\"AMOUNT\",\"AMOUNT\",\"AMOUNT\",\"AMOUNT\",\"AMOUNT\",\"AMOUNT\",\"AMOUNT\",\"AMOUNT\",\"AMOUNT\",\"AMOUNT\",\"AMOUNT\",\"AMOUNT\",\"AMOUNT\",\"AMOUNT\",\"AMOUNT\",\"AMOUNT\",\"AMOUNT\",\"AMOUNT\",\"AMOUNT\",\"AMOUNT\",\"AMOUNT\",\"AMOUNT\",\"AMOUNT\",\"AMOUNT\",\"AMOUNT\",\"AMOUNT\",\"AMOUNT\",\"AMOUNT\",\"AMOUNT\",\"AMOUNT\",\"AMOUNT\",\"AMOUNT\",\"AMOUNT\",\"AMOUNT\",\"AMOUNT\",\"AMOUNT\",\"AMOUNT\",\"AMOUNT\",\"AMOUNT\",\"AMOUNT\",\"AMOUNT\",\"AMOUNT\",\"AMOUNT\",\"AMOUNT\",\"AMOUNT\",\"AMOUNT\",\"AMOUNT\",\"AMOUNT\"]]]}}},\"view\":{\"type\":\"object\",\"name\":\"CDSView\",\"id\":\"p1078\",\"attributes\":{\"filter\":{\"type\":\"object\",\"name\":\"AllIndices\",\"id\":\"p1079\"}}},\"glyph\":{\"type\":\"object\",\"name\":\"Line\",\"id\":\"p1074\",\"attributes\":{\"tags\":[\"apply_ranges\"],\"x\":{\"type\":\"field\",\"field\":\"date-month\"},\"y\":{\"type\":\"field\",\"field\":\"AMOUNT\"},\"line_color\":\"#30a2da\",\"line_width\":2}},\"selection_glyph\":{\"type\":\"object\",\"name\":\"Line\",\"id\":\"p1082\",\"attributes\":{\"tags\":[\"apply_ranges\"],\"x\":{\"type\":\"field\",\"field\":\"date-month\"},\"y\":{\"type\":\"field\",\"field\":\"AMOUNT\"},\"line_color\":\"#30a2da\",\"line_width\":2}},\"nonselection_glyph\":{\"type\":\"object\",\"name\":\"Line\",\"id\":\"p1075\",\"attributes\":{\"tags\":[\"apply_ranges\"],\"x\":{\"type\":\"field\",\"field\":\"date-month\"},\"y\":{\"type\":\"field\",\"field\":\"AMOUNT\"},\"line_color\":\"#30a2da\",\"line_alpha\":0.1,\"line_width\":2}},\"muted_glyph\":{\"type\":\"object\",\"name\":\"Line\",\"id\":\"p1076\",\"attributes\":{\"tags\":[\"apply_ranges\"],\"x\":{\"type\":\"field\",\"field\":\"date-month\"},\"y\":{\"type\":\"field\",\"field\":\"AMOUNT\"},\"line_color\":\"#30a2da\",\"line_alpha\":0.2,\"line_width\":2}}}},{\"type\":\"object\",\"name\":\"GlyphRenderer\",\"id\":\"p1092\",\"attributes\":{\"name\":\"Rainfall (inches)\",\"data_source\":{\"type\":\"object\",\"name\":\"ColumnDataSource\",\"id\":\"p1083\",\"attributes\":{\"selected\":{\"type\":\"object\",\"name\":\"Selection\",\"id\":\"p1084\",\"attributes\":{\"indices\":[],\"line_indices\":[]}},\"selection_policy\":{\"type\":\"object\",\"name\":\"UnionRenderers\",\"id\":\"p1085\"},\"data\":{\"type\":\"map\",\"entries\":[[\"date-month\",{\"type\":\"ndarray\",\"array\":{\"type\":\"bytes\",\"data\":\"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\"},\"shape\":[1584],\"dtype\":\"float64\",\"order\":\"little\"}],[\"Rainfall (inches)\",{\"type\":\"ndarray\",\"array\":{\"type\":\"bytes\",\"data\":\"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\"},\"shape\":[1584],\"dtype\":\"float64\",\"order\":\"little\"}],[\"date_hyphen_minus_month\",{\"type\":\"ndarray\",\"array\":{\"type\":\"bytes\",\"data\":\"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\"},\"shape\":[1584],\"dtype\":\"float64\",\"order\":\"little\"}],[\"Rainfall_left_parenthesis_inches_right_parenthesis\",{\"type\":\"ndarray\",\"array\":{\"type\":\"bytes\",\"data\":\"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\"},\"shape\":[1584],\"dtype\":\"float64\",\"order\":\"little\"}],[\"Variable\",[\"Rainfall (inches)\",\"Rainfall (inches)\",\"Rainfall (inches)\",\"Rainfall (inches)\",\"Rainfall (inches)\",\"Rainfall (inches)\",\"Rainfall (inches)\",\"Rainfall (inches)\",\"Rainfall (inches)\",\"Rainfall (inches)\",\"Rainfall (inches)\",\"Rainfall (inches)\",\"Rainfall (inches)\",\"Rainfall (inches)\",\"Rainfall (inches)\",\"Rainfall (inches)\",\"Rainfall (inches)\",\"Rainfall (inches)\",\"Rainfall (inches)\",\"Rainfall (inches)\",\"Rainfall (inches)\",\"Rainfall (inches)\",\"Rainfall (inches)\",\"Rainfall (inches)\",\"Rainfall (inches)\",\"Rainfall (inches)\",\"Rainfall (inches)\",\"Rainfall (inches)\",\"Rainfall (inches)\",\"Rainfall (inches)\",\"Rainfall (inches)\",\"Rainfall (inches)\",\"Rainfall (inches)\",\"Rainfall (inches)\",\"Rainfall (inches)\",\"Rainfall (inches)\",\"Rainfall (inches)\",\"Rainfall (inches)\",\"Rainfall (inches)\",\"Rainfall (inches)\",\"Rainfall (inches)\",\"Rainfall (inches)\",\"Rainfall (inches)\",\"Rainfall (inches)\",\"Rainfall (inches)\",\"Rainfall (inches)\",\"Rainfall (inches)\",\"Rainfall (inches)\",\"Rainfall (inches)\",\"Rainfall (inches)\",\"Rainfall (inches)\",\"Rainfall (inches)\",\"Rainfall (inches)\",\"Rainfall (inches)\",\"Rainfall (inches)\",\"Rainfall (inches)\",\"Rainfall (inches)\",\"Rainfall (inches)\",\"Rainfall (inches)\",\"Rainfall (inches)\",\"Rainfall (inches)\",\"Rainfall (inches)\",\"Rainfall (inches)\",\"Rainfall (inches)\",\"Rainfall (inches)\",\"Rainfall (inches)\",\"Rainfall (inches)\",\"Rainfall (inches)\",\"Rainfall (inches)\",\"Rainfall (inches)\",\"Rainfall (inches)\",\"Rainfall (inches)\",\"Rainfall (inches)\",\"Rainfall (inches)\",\"Rainfall (inches)\",\"Rainfall (inches)\",\"Rainfall (inches)\",\"Rainfall (inches)\",\"Rainfall (inches)\",\"Rainfall (inches)\",\"Rainfall (inches)\",\"Rainfall (inches)\",\"Rainfall (inches)\",\"Rainfall (inches)\",\"Rainfall (inches)\",\"Rainfall (inches)\",\"Rainfall (inches)\",\"Rainfall (inches)\",\"Rainfall (inches)\",\"Rainfall (inches)\",\"Rainfall (inches)\",\"Rainfall (inches)\",\"Rainfall (inches)\",\"Rainfall (inches)\",\"Rainfall (inches)\",\"Rainfall (inches)\",\"Rainfall (inches)\",\"Rainfall (inches)\",\"Rainfall (inches)\",\"Rainfall (inches)\",\"Rainfall (inches)\",\"Rainfall (inches)\",\"Rainfall (inches)\",\"Rainfall (inches)\",\"Rainfall (inches)\",\"Rainfall (inches)\",\"Rainfall (inches)\",\"Rainfall (inches)\",\"Rainfall (inches)\",\"Rainfall (inches)\",\"Rainfall (inches)\",\"Rainfall (inches)\",\"Rainfall (inches)\",\"Rainfall (inches)\",\"Rainfall (inches)\",\"Rainfall (inches)\",\"Rainfall (inches)\",\"Rainfall (inches)\",\"Rainfall (inches)\",\"Rainfall (inches)\",\"Rainfall (inches)\",\"Rainfall (inches)\",\"Rainfall (inches)\",\"Rainfall (inches)\",\"Rainfall (inches)\",\"Rainfall (inches)\",\"Rainfall (inches)\",\"Rainfall (inches)\",\"Rainfall (inches)\",\"Rainfall (inches)\",\"Rainfall (inches)\",\"Rainfall (inches)\",\"Rainfall (inches)\",\"Rainfall (inches)\",\"Rainfall (inches)\",\"Rainfall (inches)\",\"Rainfall (inches)\",\"Rainfall (inches)\",\"Rainfall (inches)\",\"Rainfall (inches)\",\"Rainfall (inches)\",\"Rainfall (inches)\",\"Rainfall (inches)\",\"Rainfall (inches)\",\"Rainfall (inches)\",\"Rainfall (inches)\",\"Rainfall (inches)\",\"Rainfall (inches)\",\"Rainfall (inches)\",\"Rainfall (inches)\",\"Rainfall (inches)\",\"Rainfall (inches)\",\"Rainfall (inches)\",\"Rainfall (inches)\",\"Rainfall (inches)\",\"Rainfall (inches)\",\"Rainfall (inches)\",\"Rainfall (inches)\",\"Rainfall (inches)\",\"Rainfall (inches)\",\"Rainfall (inches)\",\"Rainfall (inches)\",\"Rainfall (inches)\",\"Rainfall (inches)\",\"Rainfall (inches)\",\"Rainfall (inches)\",\"Rainfall (inches)\",\"Rainfall (inches)\",\"Rainfall (inches)\",\"Rainfall (inches)\",\"Rainfall (inches)\",\"Rainfall (inches)\",\"Rainfall (inches)\",\"Rainfall (inches)\",\"Rainfall (inches)\",\"Rainfall (inches)\",\"Rainfall (inches)\",\"Rainfall (inches)\",\"Rainfall (inches)\",\"Rainfall (inches)\",\"Rainfall (inches)\",\"Rainfall (inches)\",\"Rainfall (inches)\",\"Rainfall (inches)\",\"Rainfall (inches)\",\"Rainfall (inches)\",\"Rainfall (inches)\",\"Rainfall (inches)\",\"Rainfall (inches)\",\"Rainfall (inches)\",\"Rainfall (inches)\",\"Rainfall (inches)\",\"Rainfall (inches)\",\"Rainfall (inches)\",\"Rainfall (inches)\",\"Rainfall (inches)\",\"Rainfall (inches)\",\"Rainfall (inches)\",\"Rainfall (inches)\",\"Rainfall (inches)\",\"Rainfall (inches)\",\"Rainfall (inches)\",\"Rainfall (inches)\",\"Rainfall (inches)\",\"Rainfall (inches)\",\"Rainfall (inches)\",\"Rainfall (inches)\",\"Rainfall (inches)\",\"Rainfall (inches)\",\"Rainfall (inches)\",\"Rainfall (inches)\",\"Rainfall (inches)\",\"Rainfall (inches)\",\"Rainfall (inches)\",\"Rainfall (inches)\",\"Rainfall (inches)\",\"Rainfall (inches)\",\"Rainfall (inches)\",\"Rainfall (inches)\",\"Rainfall (inches)\",\"Rainfall (inches)\",\"Rainfall (inches)\",\"Rainfall (inches)\",\"Rainfall (inches)\",\"Rainfall (inches)\",\"Rainfall (inches)\",\"Rainfall (inches)\",\"Rainfall (inches)\",\"Rainfall (inches)\",\"Rainfall (inches)\",\"Rainfall (inches)\",\"Rainfall (inches)\",\"Rainfall (inches)\",\"Rainfall (inches)\",\"Rainfall (inches)\",\"Rainfall (inches)\",\"Rainfall (inches)\",\"Rainfall (inches)\",\"Rainfall (inches)\",\"Rainfall (inches)\",\"Rainfall (inches)\",\"Rainfall (inches)\",\"Rainfall (inches)\",\"Rainfall (inches)\",\"Rainfall (inches)\",\"Rainfall (inches)\",\"Rainfall (inches)\",\"Rainfall (inches)\",\"Rainfall (inches)\",\"Rainfall (inches)\",\"Rainfall (inches)\",\"Rainfall (inches)\",\"Rainfall (inches)\",\"Rainfall (inches)\",\"Rainfall (inches)\",\"Rainfall (inches)\",\"Rainfall (inches)\",\"Rainfall (inches)\",\"Rainfall (inches)\",\"Rainfall (inches)\",\"Rainfall (inches)\",\"Rainfall (inches)\",\"Rainfall (inches)\",\"Rainfall (inches)\",\"Rainfall (inches)\",\"Rainfall (inches)\",\"Rainfall (inches)\",\"Rainfall (inches)\",\"Rainfall (inches)\",\"Rainfall (inches)\",\"Rainfall (inches)\",\"Rainfall (inches)\",\"Rainfall (inches)\",\"Rainfall (inches)\",\"Rainfall (inches)\",\"Rainfall (inches)\",\"Rainfall (inches)\",\"Rainfall (inches)\",\"Rainfall (inches)\",\"Rainfall (inches)\",\"Rainfall (inches)\",\"Rainfall (inches)\",\"Rainfall (inches)\",\"Rainfall (inches)\",\"Rainfall (inches)\",\"Rainfall (inches)\",\"Rainfall (inches)\",\"Rainfall (inches)\",\"Rainfall (inches)\",\"Rainfall (inches)\",\"Rainfall (inches)\",\"Rainfall (inches)\",\"Rainfall (inches)\",\"Rainfall (inches)\",\"Rainfall (inches)\",\"Rainfall (inches)\",\"Rainfall (inches)\",\"Rainfall (inches)\",\"Rainfall (inches)\",\"Rainfall (inches)\",\"Rainfall (inches)\",\"Rainfall (inches)\",\"Rainfall (inches)\",\"Rainfall (inches)\",\"Rainfall (inches)\",\"Rainfall (inches)\",\"Rainfall (inches)\",\"Rainfall (inches)\",\"Rainfall (inches)\",\"Rainfall (inches)\",\"Rainfall (inches)\",\"Rainfall (inches)\",\"Rainfall (inches)\",\"Rainfall (inches)\",\"Rainfall (inches)\",\"Rainfall (inches)\",\"Rainfall (inches)\",\"Rainfall (inches)\",\"Rainfall (inches)\",\"Rainfall (inches)\",\"Rainfall (inches)\",\"Rainfall (inches)\",\"Rainfall (inches)\",\"Rainfall (inches)\",\"Rainfall (inches)\",\"Rainfall (inches)\",\"Rainfall (inches)\",\"Rainfall (inches)\",\"Rainfall (inches)\",\"Rainfall (inches)\",\"Rainfall (inches)\",\"Rainfall (inches)\",\"Rainfall (inches)\",\"Rainfall (inches)\",\"Rainfall (inches)\",\"Rainfall (inches)\",\"Rainfall (inches)\",\"Rainfall (inches)\",\"Rainfall (inches)\",\"Rainfall (inches)\",\"Rainfall (inches)\",\"Rainfall (inches)\",\"Rainfall (inches)\",\"Rainfall (inches)\",\"Rainfall (inches)\",\"Rainfall (inches)\",\"Rainfall (inches)\",\"Rainfall (inches)\",\"Rainfall (inches)\",\"Rainfall (inches)\",\"Rainfall (inches)\",\"Rainfall (inches)\",\"Rainfall (inches)\",\"Rainfall (inches)\",\"Rainfall (inches)\",\"Rainfall (inches)\",\"Rainfall (inches)\",\"Rainfall (inches)\",\"Rainfall (inches)\",\"Rainfall (inches)\",\"Rainfall (inches)\",\"Rainfall (inches)\",\"Rainfall (inches)\",\"Rainfall (inches)\",\"Rainfall (inches)\",\"Rainfall (inches)\",\"Rainfall (inches)\",\"Rainfall (inches)\",\"Rainfall (inches)\",\"Rainfall (inches)\",\"Rainfall (inches)\",\"Rainfall (inches)\",\"Rainfall (inches)\",\"Rainfall (inches)\",\"Rainfall (inches)\",\"Rainfall (inches)\",\"Rainfall (inches)\",\"Rainfall (inches)\",\"Rainfall (inches)\",\"Rainfall (inches)\",\"Rainfall (inches)\",\"Rainfall (inches)\",\"Rainfall (inches)\",\"Rainfall (inches)\",\"Rainfall (inches)\",\"Rainfall (inches)\",\"Rainfall (inches)\",\"Rainfall (inches)\",\"Rainfall (inches)\",\"Rainfall (inches)\",\"Rainfall (inches)\",\"Rainfall (inches)\",\"Rainfall (inches)\",\"Rainfall (inches)\",\"Rainfall (inches)\",\"Rainfall (inches)\",\"Rainfall (inches)\",\"Rainfall (inches)\",\"Rainfall (inches)\",\"Rainfall (inches)\",\"Rainfall (inches)\",\"Rainfall (inches)\",\"Rainfall (inches)\",\"Rainfall (inches)\",\"Rainfall (inches)\",\"Rainfall (inches)\",\"Rainfall (inches)\",\"Rainfall (inches)\",\"Rainfall (inches)\",\"Rainfall (inches)\",\"Rainfall (inches)\",\"Rainfall (inches)\",\"Rainfall (inches)\",\"Rainfall (inches)\",\"Rainfall (inches)\",\"Rainfall (inches)\",\"Rainfall (inches)\",\"Rainfall (inches)\",\"Rainfall (inches)\",\"Rainfall (inches)\",\"Rainfall (inches)\",\"Rainfall (inches)\",\"Rainfall (inches)\",\"Rainfall (inches)\",\"Rainfall (inches)\",\"Rainfall (inches)\",\"Rainfall (inches)\",\"Rainfall (inches)\",\"Rainfall (inches)\",\"Rainfall (inches)\",\"Rainfall (inches)\",\"Rainfall (inches)\",\"Rainfall (inches)\",\"Rainfall (inches)\",\"Rainfall (inches)\",\"Rainfall (inches)\",\"Rainfall (inches)\",\"Rainfall (inches)\",\"Rainfall (inches)\",\"Rainfall (inches)\",\"Rainfall (inches)\",\"Rainfall (inches)\",\"Rainfall (inches)\",\"Rainfall (inches)\",\"Rainfall (inches)\",\"Rainfall (inches)\",\"Rainfall (inches)\",\"Rainfall (inches)\",\"Rainfall (inches)\",\"Rainfall (inches)\",\"Rainfall (inches)\",\"Rainfall (inches)\",\"Rainfall (inches)\",\"Rainfall (inches)\",\"Rainfall (inches)\",\"Rainfall (inches)\",\"Rainfall (inches)\",\"Rainfall (inches)\",\"Rainfall (inches)\",\"Rainfall (inches)\",\"Rainfall (inches)\",\"Rainfall (inches)\",\"Rainfall (inches)\",\"Rainfall (inches)\",\"Rainfall (inches)\",\"Rainfall (inches)\",\"Rainfall (inches)\",\"Rainfall (inches)\",\"Rainfall (inches)\",\"Rainfall (inches)\",\"Rainfall (inches)\",\"Rainfall (inches)\",\"Rainfall (inches)\",\"Rainfall (inches)\",\"Rainfall (inches)\",\"Rainfall (inches)\",\"Rainfall (inches)\",\"Rainfall (inches)\",\"Rainfall (inches)\",\"Rainfall (inches)\",\"Rainfall (inches)\",\"Rainfall (inches)\",\"Rainfall (inches)\",\"Rainfall (inches)\",\"Rainfall (inches)\",\"Rainfall (inches)\",\"Rainfall (inches)\",\"Rainfall (inches)\",\"Rainfall (inches)\",\"Rainfall (inches)\",\"Rainfall (inches)\",\"Rainfall (inches)\",\"Rainfall (inches)\",\"Rainfall (inches)\",\"Rainfall (inches)\",\"Rainfall (inches)\",\"Rainfall (inches)\",\"Rainfall (inches)\",\"Rainfall (inches)\",\"Rainfall (inches)\",\"Rainfall (inches)\",\"Rainfall (inches)\",\"Rainfall (inches)\",\"Rainfall (inches)\",\"Rainfall (inches)\",\"Rainfall (inches)\",\"Rainfall (inches)\",\"Rainfall (inches)\",\"Rainfall (inches)\",\"Rainfall (inches)\",\"Rainfall (inches)\",\"Rainfall (inches)\",\"Rainfall (inches)\",\"Rainfall (inches)\",\"Rainfall (inches)\",\"Rainfall (inches)\",\"Rainfall (inches)\",\"Rainfall (inches)\",\"Rainfall (inches)\",\"Rainfall (inches)\",\"Rainfall (inches)\",\"Rainfall (inches)\",\"Rainfall (inches)\",\"Rainfall (inches)\",\"Rainfall (inches)\",\"Rainfall (inches)\",\"Rainfall (inches)\",\"Rainfall (inches)\",\"Rainfall (inches)\",\"Rainfall (inches)\",\"Rainfall (inches)\",\"Rainfall (inches)\",\"Rainfall (inches)\",\"Rainfall (inches)\",\"Rainfall (inches)\",\"Rainfall (inches)\",\"Rainfall (inches)\",\"Rainfall (inches)\",\"Rainfall (inches)\",\"Rainfall (inches)\",\"Rainfall (inches)\",\"Rainfall (inches)\",\"Rainfall (inches)\",\"Rainfall (inches)\",\"Rainfall (inches)\",\"Rainfall (inches)\",\"Rainfall (inches)\",\"Rainfall (inches)\",\"Rainfall (inches)\",\"Rainfall (inches)\",\"Rainfall (inches)\",\"Rainfall (inches)\",\"Rainfall (inches)\",\"Rainfall (inches)\",\"Rainfall (inches)\",\"Rainfall (inches)\",\"Rainfall (inches)\",\"Rainfall (inches)\",\"Rainfall (inches)\",\"Rainfall (inches)\",\"Rainfall (inches)\",\"Rainfall (inches)\",\"Rainfall (inches)\",\"Rainfall (inches)\",\"Rainfall (inches)\",\"Rainfall (inches)\",\"Rainfall (inches)\",\"Rainfall (inches)\",\"Rainfall (inches)\",\"Rainfall (inches)\",\"Rainfall (inches)\",\"Rainfall (inches)\",\"Rainfall (inches)\",\"Rainfall (inches)\",\"Rainfall (inches)\",\"Rainfall (inches)\",\"Rainfall (inches)\",\"Rainfall (inches)\",\"Rainfall (inches)\",\"Rainfall (inches)\",\"Rainfall (inches)\",\"Rainfall (inches)\",\"Rainfall (inches)\",\"Rainfall (inches)\",\"Rainfall (inches)\",\"Rainfall (inches)\",\"Rainfall (inches)\",\"Rainfall (inches)\",\"Rainfall (inches)\",\"Rainfall (inches)\",\"Rainfall (inches)\",\"Rainfall (inches)\",\"Rainfall (inches)\",\"Rainfall (inches)\",\"Rainfall (inches)\",\"Rainfall (inches)\",\"Rainfall (inches)\",\"Rainfall (inches)\",\"Rainfall (inches)\",\"Rainfall (inches)\",\"Rainfall (inches)\",\"Rainfall (inches)\",\"Rainfall (inches)\",\"Rainfall (inches)\",\"Rainfall (inches)\",\"Rainfall (inches)\",\"Rainfall (inches)\",\"Rainfall (inches)\",\"Rainfall (inches)\",\"Rainfall (inches)\",\"Rainfall (inches)\",\"Rainfall (inches)\",\"Rainfall (inches)\",\"Rainfall (inches)\",\"Rainfall (inches)\",\"Rainfall (inches)\",\"Rainfall (inches)\",\"Rainfall (inches)\",\"Rainfall (inches)\",\"Rainfall (inches)\",\"Rainfall (inches)\",\"Rainfall (inches)\",\"Rainfall (inches)\",\"Rainfall (inches)\",\"Rainfall (inches)\",\"Rainfall (inches)\",\"Rainfall (inches)\",\"Rainfall (inches)\",\"Rainfall (inches)\",\"Rainfall (inches)\",\"Rainfall (inches)\",\"Rainfall (inches)\",\"Rainfall (inches)\",\"Rainfall (inches)\",\"Rainfall (inches)\",\"Rainfall (inches)\",\"Rainfall (inches)\",\"Rainfall (inches)\",\"Rainfall (inches)\",\"Rainfall (inches)\",\"Rainfall (inches)\",\"Rainfall (inches)\",\"Rainfall (inches)\",\"Rainfall (inches)\",\"Rainfall (inches)\",\"Rainfall (inches)\",\"Rainfall (inches)\",\"Rainfall (inches)\",\"Rainfall (inches)\",\"Rainfall (inches)\",\"Rainfall (inches)\",\"Rainfall (inches)\",\"Rainfall (inches)\",\"Rainfall (inches)\",\"Rainfall (inches)\",\"Rainfall (inches)\",\"Rainfall (inches)\",\"Rainfall (inches)\",\"Rainfall (inches)\",\"Rainfall (inches)\",\"Rainfall (inches)\",\"Rainfall (inches)\",\"Rainfall (inches)\",\"Rainfall (inches)\",\"Rainfall (inches)\",\"Rainfall (inches)\",\"Rainfall (inches)\",\"Rainfall (inches)\",\"Rainfall (inches)\",\"Rainfall (inches)\",\"Rainfall (inches)\",\"Rainfall (inches)\",\"Rainfall (inches)\",\"Rainfall (inches)\",\"Rainfall (inches)\",\"Rainfall (inches)\",\"Rainfall (inches)\",\"Rainfall (inches)\",\"Rainfall (inches)\",\"Rainfall (inches)\",\"Rainfall (inches)\",\"Rainfall (inches)\",\"Rainfall (inches)\",\"Rainfall (inches)\",\"Rainfall (inches)\",\"Rainfall (inches)\",\"Rainfall (inches)\",\"Rainfall (inches)\",\"Rainfall (inches)\",\"Rainfall (inches)\",\"Rainfall (inches)\",\"Rainfall (inches)\",\"Rainfall (inches)\",\"Rainfall (inches)\",\"Rainfall (inches)\",\"Rainfall (inches)\",\"Rainfall (inches)\",\"Rainfall (inches)\",\"Rainfall (inches)\",\"Rainfall (inches)\",\"Rainfall (inches)\",\"Rainfall (inches)\",\"Rainfall (inches)\",\"Rainfall (inches)\",\"Rainfall (inches)\",\"Rainfall (inches)\",\"Rainfall (inches)\",\"Rainfall (inches)\",\"Rainfall (inches)\",\"Rainfall (inches)\",\"Rainfall (inches)\",\"Rainfall (inches)\",\"Rainfall (inches)\",\"Rainfall (inches)\",\"Rainfall (inches)\",\"Rainfall (inches)\",\"Rainfall (inches)\",\"Rainfall (inches)\",\"Rainfall (inches)\",\"Rainfall (inches)\",\"Rainfall (inches)\",\"Rainfall (inches)\",\"Rainfall (inches)\",\"Rainfall (inches)\",\"Rainfall (inches)\",\"Rainfall (inches)\",\"Rainfall (inches)\",\"Rainfall (inches)\",\"Rainfall (inches)\",\"Rainfall (inches)\",\"Rainfall (inches)\",\"Rainfall (inches)\",\"Rainfall (inches)\",\"Rainfall (inches)\",\"Rainfall (inches)\",\"Rainfall (inches)\",\"Rainfall (inches)\",\"Rainfall (inches)\",\"Rainfall (inches)\",\"Rainfall (inches)\",\"Rainfall (inches)\",\"Rainfall (inches)\",\"Rainfall (inches)\",\"Rainfall (inches)\",\"Rainfall (inches)\",\"Rainfall (inches)\",\"Rainfall (inches)\",\"Rainfall (inches)\",\"Rainfall (inches)\",\"Rainfall (inches)\",\"Rainfall (inches)\",\"Rainfall (inches)\",\"Rainfall (inches)\",\"Rainfall (inches)\",\"Rainfall (inches)\",\"Rainfall (inches)\",\"Rainfall (inches)\",\"Rainfall (inches)\",\"Rainfall (inches)\",\"Rainfall (inches)\",\"Rainfall (inches)\",\"Rainfall (inches)\",\"Rainfall (inches)\",\"Rainfall (inches)\",\"Rainfall (inches)\",\"Rainfall (inches)\",\"Rainfall (inches)\",\"Rainfall (inches)\",\"Rainfall (inches)\",\"Rainfall (inches)\",\"Rainfall (inches)\",\"Rainfall (inches)\",\"Rainfall (inches)\",\"Rainfall (inches)\",\"Rainfall (inches)\",\"Rainfall (inches)\",\"Rainfall (inches)\",\"Rainfall (inches)\",\"Rainfall (inches)\",\"Rainfall (inches)\",\"Rainfall (inches)\",\"Rainfall (inches)\",\"Rainfall (inches)\",\"Rainfall (inches)\",\"Rainfall (inches)\",\"Rainfall (inches)\",\"Rainfall (inches)\",\"Rainfall (inches)\",\"Rainfall (inches)\",\"Rainfall (inches)\",\"Rainfall (inches)\",\"Rainfall (inches)\",\"Rainfall (inches)\",\"Rainfall (inches)\",\"Rainfall (inches)\",\"Rainfall (inches)\",\"Rainfall (inches)\",\"Rainfall (inches)\",\"Rainfall (inches)\",\"Rainfall (inches)\",\"Rainfall (inches)\",\"Rainfall (inches)\",\"Rainfall (inches)\",\"Rainfall (inches)\",\"Rainfall (inches)\",\"Rainfall (inches)\",\"Rainfall (inches)\",\"Rainfall (inches)\",\"Rainfall (inches)\",\"Rainfall (inches)\",\"Rainfall (inches)\",\"Rainfall (inches)\",\"Rainfall (inches)\",\"Rainfall (inches)\",\"Rainfall (inches)\",\"Rainfall (inches)\",\"Rainfall (inches)\",\"Rainfall (inches)\",\"Rainfall (inches)\",\"Rainfall (inches)\",\"Rainfall (inches)\",\"Rainfall (inches)\",\"Rainfall (inches)\",\"Rainfall (inches)\",\"Rainfall (inches)\",\"Rainfall (inches)\",\"Rainfall (inches)\",\"Rainfall (inches)\",\"Rainfall (inches)\",\"Rainfall (inches)\",\"Rainfall (inches)\",\"Rainfall (inches)\",\"Rainfall (inches)\",\"Rainfall (inches)\",\"Rainfall (inches)\",\"Rainfall (inches)\",\"Rainfall (inches)\",\"Rainfall (inches)\",\"Rainfall (inches)\",\"Rainfall (inches)\",\"Rainfall (inches)\",\"Rainfall (inches)\",\"Rainfall (inches)\",\"Rainfall (inches)\",\"Rainfall (inches)\",\"Rainfall (inches)\",\"Rainfall (inches)\",\"Rainfall (inches)\",\"Rainfall (inches)\",\"Rainfall (inches)\",\"Rainfall (inches)\",\"Rainfall (inches)\",\"Rainfall (inches)\",\"Rainfall (inches)\",\"Rainfall (inches)\",\"Rainfall (inches)\",\"Rainfall (inches)\",\"Rainfall (inches)\",\"Rainfall (inches)\",\"Rainfall (inches)\",\"Rainfall (inches)\",\"Rainfall (inches)\",\"Rainfall (inches)\",\"Rainfall (inches)\",\"Rainfall (inches)\",\"Rainfall (inches)\",\"Rainfall (inches)\",\"Rainfall (inches)\",\"Rainfall (inches)\",\"Rainfall (inches)\",\"Rainfall (inches)\",\"Rainfall (inches)\",\"Rainfall (inches)\",\"Rainfall (inches)\",\"Rainfall (inches)\",\"Rainfall (inches)\",\"Rainfall (inches)\",\"Rainfall (inches)\",\"Rainfall (inches)\",\"Rainfall (inches)\",\"Rainfall (inches)\",\"Rainfall (inches)\",\"Rainfall (inches)\",\"Rainfall (inches)\",\"Rainfall (inches)\",\"Rainfall (inches)\",\"Rainfall (inches)\",\"Rainfall (inches)\",\"Rainfall (inches)\",\"Rainfall (inches)\",\"Rainfall (inches)\",\"Rainfall (inches)\",\"Rainfall (inches)\",\"Rainfall (inches)\",\"Rainfall (inches)\",\"Rainfall (inches)\",\"Rainfall (inches)\",\"Rainfall (inches)\",\"Rainfall (inches)\",\"Rainfall (inches)\",\"Rainfall (inches)\",\"Rainfall (inches)\",\"Rainfall (inches)\",\"Rainfall (inches)\",\"Rainfall (inches)\",\"Rainfall (inches)\",\"Rainfall (inches)\",\"Rainfall (inches)\",\"Rainfall (inches)\",\"Rainfall (inches)\",\"Rainfall (inches)\",\"Rainfall (inches)\",\"Rainfall (inches)\",\"Rainfall (inches)\",\"Rainfall (inches)\",\"Rainfall (inches)\",\"Rainfall (inches)\",\"Rainfall (inches)\",\"Rainfall (inches)\",\"Rainfall (inches)\",\"Rainfall (inches)\",\"Rainfall (inches)\",\"Rainfall (inches)\",\"Rainfall (inches)\",\"Rainfall (inches)\",\"Rainfall (inches)\",\"Rainfall (inches)\",\"Rainfall (inches)\",\"Rainfall (inches)\",\"Rainfall (inches)\",\"Rainfall (inches)\",\"Rainfall (inches)\",\"Rainfall (inches)\",\"Rainfall (inches)\",\"Rainfall (inches)\",\"Rainfall (inches)\",\"Rainfall (inches)\",\"Rainfall (inches)\",\"Rainfall (inches)\",\"Rainfall (inches)\",\"Rainfall (inches)\",\"Rainfall (inches)\",\"Rainfall (inches)\",\"Rainfall (inches)\",\"Rainfall (inches)\",\"Rainfall (inches)\",\"Rainfall (inches)\",\"Rainfall (inches)\",\"Rainfall (inches)\",\"Rainfall (inches)\",\"Rainfall (inches)\",\"Rainfall (inches)\",\"Rainfall (inches)\",\"Rainfall (inches)\",\"Rainfall (inches)\",\"Rainfall (inches)\",\"Rainfall (inches)\",\"Rainfall (inches)\",\"Rainfall (inches)\",\"Rainfall (inches)\",\"Rainfall (inches)\",\"Rainfall (inches)\",\"Rainfall (inches)\",\"Rainfall (inches)\",\"Rainfall (inches)\",\"Rainfall (inches)\",\"Rainfall (inches)\",\"Rainfall (inches)\",\"Rainfall (inches)\",\"Rainfall (inches)\",\"Rainfall (inches)\",\"Rainfall (inches)\",\"Rainfall (inches)\",\"Rainfall (inches)\",\"Rainfall (inches)\",\"Rainfall (inches)\",\"Rainfall (inches)\",\"Rainfall (inches)\",\"Rainfall (inches)\",\"Rainfall (inches)\",\"Rainfall (inches)\",\"Rainfall (inches)\",\"Rainfall (inches)\",\"Rainfall (inches)\",\"Rainfall (inches)\",\"Rainfall (inches)\",\"Rainfall (inches)\",\"Rainfall (inches)\",\"Rainfall (inches)\",\"Rainfall (inches)\",\"Rainfall (inches)\",\"Rainfall (inches)\",\"Rainfall (inches)\",\"Rainfall (inches)\",\"Rainfall (inches)\",\"Rainfall (inches)\",\"Rainfall (inches)\",\"Rainfall (inches)\",\"Rainfall (inches)\",\"Rainfall (inches)\",\"Rainfall (inches)\",\"Rainfall (inches)\",\"Rainfall (inches)\",\"Rainfall (inches)\",\"Rainfall (inches)\",\"Rainfall (inches)\",\"Rainfall (inches)\",\"Rainfall (inches)\",\"Rainfall (inches)\",\"Rainfall (inches)\",\"Rainfall (inches)\",\"Rainfall (inches)\",\"Rainfall (inches)\",\"Rainfall (inches)\",\"Rainfall (inches)\",\"Rainfall (inches)\",\"Rainfall (inches)\",\"Rainfall (inches)\",\"Rainfall (inches)\",\"Rainfall (inches)\",\"Rainfall (inches)\",\"Rainfall (inches)\",\"Rainfall (inches)\",\"Rainfall (inches)\",\"Rainfall (inches)\",\"Rainfall (inches)\",\"Rainfall (inches)\",\"Rainfall (inches)\",\"Rainfall (inches)\",\"Rainfall (inches)\",\"Rainfall (inches)\",\"Rainfall (inches)\",\"Rainfall (inches)\",\"Rainfall (inches)\",\"Rainfall (inches)\",\"Rainfall (inches)\",\"Rainfall (inches)\",\"Rainfall (inches)\",\"Rainfall (inches)\",\"Rainfall (inches)\",\"Rainfall (inches)\",\"Rainfall (inches)\",\"Rainfall (inches)\",\"Rainfall (inches)\",\"Rainfall (inches)\",\"Rainfall (inches)\",\"Rainfall (inches)\",\"Rainfall (inches)\",\"Rainfall (inches)\",\"Rainfall (inches)\",\"Rainfall (inches)\",\"Rainfall (inches)\",\"Rainfall (inches)\",\"Rainfall (inches)\",\"Rainfall (inches)\",\"Rainfall (inches)\",\"Rainfall (inches)\",\"Rainfall (inches)\",\"Rainfall (inches)\",\"Rainfall (inches)\",\"Rainfall (inches)\",\"Rainfall (inches)\",\"Rainfall (inches)\",\"Rainfall (inches)\",\"Rainfall (inches)\",\"Rainfall (inches)\",\"Rainfall (inches)\",\"Rainfall (inches)\",\"Rainfall (inches)\",\"Rainfall (inches)\",\"Rainfall (inches)\",\"Rainfall (inches)\",\"Rainfall (inches)\",\"Rainfall (inches)\",\"Rainfall (inches)\",\"Rainfall (inches)\",\"Rainfall (inches)\",\"Rainfall (inches)\",\"Rainfall (inches)\",\"Rainfall (inches)\",\"Rainfall (inches)\",\"Rainfall (inches)\",\"Rainfall (inches)\",\"Rainfall (inches)\",\"Rainfall (inches)\",\"Rainfall (inches)\",\"Rainfall (inches)\",\"Rainfall (inches)\",\"Rainfall (inches)\",\"Rainfall (inches)\",\"Rainfall (inches)\",\"Rainfall (inches)\",\"Rainfall (inches)\",\"Rainfall (inches)\",\"Rainfall (inches)\",\"Rainfall (inches)\",\"Rainfall (inches)\",\"Rainfall (inches)\",\"Rainfall (inches)\",\"Rainfall (inches)\",\"Rainfall (inches)\",\"Rainfall (inches)\",\"Rainfall (inches)\",\"Rainfall (inches)\",\"Rainfall (inches)\",\"Rainfall (inches)\",\"Rainfall (inches)\",\"Rainfall (inches)\",\"Rainfall (inches)\",\"Rainfall (inches)\",\"Rainfall (inches)\",\"Rainfall (inches)\",\"Rainfall (inches)\",\"Rainfall (inches)\",\"Rainfall (inches)\",\"Rainfall (inches)\",\"Rainfall (inches)\",\"Rainfall (inches)\",\"Rainfall (inches)\",\"Rainfall (inches)\",\"Rainfall (inches)\",\"Rainfall (inches)\",\"Rainfall (inches)\",\"Rainfall (inches)\",\"Rainfall (inches)\",\"Rainfall (inches)\",\"Rainfall (inches)\",\"Rainfall (inches)\",\"Rainfall (inches)\",\"Rainfall (inches)\",\"Rainfall (inches)\",\"Rainfall (inches)\",\"Rainfall (inches)\",\"Rainfall (inches)\",\"Rainfall (inches)\",\"Rainfall (inches)\",\"Rainfall (inches)\",\"Rainfall (inches)\",\"Rainfall (inches)\",\"Rainfall (inches)\",\"Rainfall (inches)\",\"Rainfall (inches)\",\"Rainfall (inches)\",\"Rainfall (inches)\",\"Rainfall (inches)\",\"Rainfall (inches)\",\"Rainfall (inches)\",\"Rainfall (inches)\",\"Rainfall (inches)\",\"Rainfall (inches)\",\"Rainfall (inches)\",\"Rainfall (inches)\",\"Rainfall (inches)\",\"Rainfall (inches)\",\"Rainfall (inches)\",\"Rainfall (inches)\",\"Rainfall (inches)\",\"Rainfall (inches)\",\"Rainfall (inches)\",\"Rainfall (inches)\",\"Rainfall (inches)\",\"Rainfall (inches)\",\"Rainfall (inches)\",\"Rainfall (inches)\",\"Rainfall (inches)\",\"Rainfall (inches)\",\"Rainfall (inches)\",\"Rainfall (inches)\",\"Rainfall (inches)\",\"Rainfall (inches)\",\"Rainfall (inches)\",\"Rainfall (inches)\",\"Rainfall (inches)\",\"Rainfall (inches)\",\"Rainfall (inches)\",\"Rainfall (inches)\",\"Rainfall (inches)\",\"Rainfall (inches)\",\"Rainfall (inches)\",\"Rainfall (inches)\",\"Rainfall (inches)\",\"Rainfall (inches)\",\"Rainfall (inches)\",\"Rainfall (inches)\",\"Rainfall (inches)\",\"Rainfall (inches)\",\"Rainfall (inches)\",\"Rainfall (inches)\",\"Rainfall (inches)\",\"Rainfall (inches)\",\"Rainfall (inches)\",\"Rainfall (inches)\",\"Rainfall (inches)\",\"Rainfall (inches)\",\"Rainfall (inches)\",\"Rainfall (inches)\",\"Rainfall (inches)\",\"Rainfall (inches)\",\"Rainfall (inches)\",\"Rainfall (inches)\",\"Rainfall (inches)\",\"Rainfall (inches)\",\"Rainfall (inches)\",\"Rainfall (inches)\",\"Rainfall (inches)\",\"Rainfall (inches)\",\"Rainfall (inches)\",\"Rainfall (inches)\",\"Rainfall (inches)\",\"Rainfall (inches)\",\"Rainfall (inches)\",\"Rainfall (inches)\",\"Rainfall (inches)\",\"Rainfall (inches)\",\"Rainfall (inches)\",\"Rainfall (inches)\",\"Rainfall (inches)\",\"Rainfall (inches)\",\"Rainfall (inches)\",\"Rainfall (inches)\",\"Rainfall (inches)\",\"Rainfall (inches)\",\"Rainfall (inches)\",\"Rainfall (inches)\",\"Rainfall (inches)\",\"Rainfall (inches)\",\"Rainfall (inches)\",\"Rainfall (inches)\",\"Rainfall (inches)\",\"Rainfall (inches)\",\"Rainfall (inches)\",\"Rainfall (inches)\",\"Rainfall (inches)\",\"Rainfall (inches)\",\"Rainfall (inches)\",\"Rainfall (inches)\",\"Rainfall (inches)\",\"Rainfall (inches)\",\"Rainfall (inches)\",\"Rainfall (inches)\",\"Rainfall (inches)\",\"Rainfall (inches)\",\"Rainfall (inches)\",\"Rainfall (inches)\",\"Rainfall (inches)\",\"Rainfall (inches)\",\"Rainfall (inches)\",\"Rainfall (inches)\",\"Rainfall (inches)\",\"Rainfall (inches)\",\"Rainfall (inches)\",\"Rainfall (inches)\",\"Rainfall (inches)\",\"Rainfall (inches)\",\"Rainfall (inches)\",\"Rainfall (inches)\",\"Rainfall (inches)\",\"Rainfall (inches)\",\"Rainfall (inches)\",\"Rainfall (inches)\",\"Rainfall (inches)\",\"Rainfall (inches)\",\"Rainfall (inches)\",\"Rainfall (inches)\",\"Rainfall (inches)\",\"Rainfall (inches)\",\"Rainfall (inches)\",\"Rainfall (inches)\",\"Rainfall (inches)\",\"Rainfall (inches)\",\"Rainfall (inches)\",\"Rainfall (inches)\",\"Rainfall (inches)\",\"Rainfall (inches)\",\"Rainfall (inches)\",\"Rainfall (inches)\",\"Rainfall (inches)\",\"Rainfall (inches)\",\"Rainfall (inches)\",\"Rainfall (inches)\",\"Rainfall (inches)\",\"Rainfall (inches)\",\"Rainfall (inches)\",\"Rainfall (inches)\",\"Rainfall (inches)\",\"Rainfall (inches)\",\"Rainfall (inches)\",\"Rainfall (inches)\",\"Rainfall (inches)\",\"Rainfall (inches)\",\"Rainfall (inches)\",\"Rainfall (inches)\",\"Rainfall (inches)\",\"Rainfall (inches)\",\"Rainfall (inches)\",\"Rainfall (inches)\",\"Rainfall (inches)\",\"Rainfall (inches)\",\"Rainfall (inches)\",\"Rainfall (inches)\",\"Rainfall (inches)\",\"Rainfall (inches)\",\"Rainfall (inches)\",\"Rainfall (inches)\",\"Rainfall (inches)\",\"Rainfall (inches)\",\"Rainfall (inches)\",\"Rainfall (inches)\",\"Rainfall (inches)\",\"Rainfall (inches)\",\"Rainfall (inches)\",\"Rainfall (inches)\",\"Rainfall (inches)\",\"Rainfall (inches)\",\"Rainfall (inches)\",\"Rainfall (inches)\",\"Rainfall (inches)\",\"Rainfall (inches)\",\"Rainfall (inches)\",\"Rainfall (inches)\",\"Rainfall (inches)\",\"Rainfall (inches)\",\"Rainfall (inches)\",\"Rainfall (inches)\",\"Rainfall (inches)\",\"Rainfall (inches)\",\"Rainfall (inches)\",\"Rainfall (inches)\",\"Rainfall (inches)\",\"Rainfall (inches)\",\"Rainfall (inches)\",\"Rainfall (inches)\",\"Rainfall (inches)\",\"Rainfall (inches)\",\"Rainfall (inches)\",\"Rainfall (inches)\",\"Rainfall (inches)\",\"Rainfall (inches)\",\"Rainfall (inches)\",\"Rainfall (inches)\",\"Rainfall (inches)\",\"Rainfall (inches)\",\"Rainfall (inches)\",\"Rainfall (inches)\",\"Rainfall (inches)\",\"Rainfall (inches)\",\"Rainfall (inches)\",\"Rainfall (inches)\",\"Rainfall (inches)\",\"Rainfall (inches)\",\"Rainfall (inches)\",\"Rainfall (inches)\",\"Rainfall (inches)\",\"Rainfall (inches)\",\"Rainfall (inches)\",\"Rainfall (inches)\",\"Rainfall (inches)\",\"Rainfall (inches)\",\"Rainfall (inches)\",\"Rainfall (inches)\",\"Rainfall (inches)\",\"Rainfall (inches)\",\"Rainfall (inches)\",\"Rainfall (inches)\",\"Rainfall (inches)\",\"Rainfall (inches)\",\"Rainfall (inches)\",\"Rainfall (inches)\",\"Rainfall (inches)\",\"Rainfall (inches)\",\"Rainfall (inches)\",\"Rainfall (inches)\",\"Rainfall (inches)\",\"Rainfall (inches)\",\"Rainfall (inches)\",\"Rainfall (inches)\",\"Rainfall (inches)\",\"Rainfall (inches)\",\"Rainfall (inches)\",\"Rainfall (inches)\",\"Rainfall (inches)\",\"Rainfall (inches)\",\"Rainfall (inches)\",\"Rainfall (inches)\",\"Rainfall (inches)\",\"Rainfall (inches)\",\"Rainfall (inches)\",\"Rainfall (inches)\",\"Rainfall (inches)\",\"Rainfall (inches)\",\"Rainfall (inches)\",\"Rainfall (inches)\",\"Rainfall (inches)\",\"Rainfall (inches)\",\"Rainfall (inches)\",\"Rainfall (inches)\",\"Rainfall (inches)\",\"Rainfall (inches)\",\"Rainfall (inches)\",\"Rainfall (inches)\",\"Rainfall (inches)\",\"Rainfall (inches)\",\"Rainfall (inches)\",\"Rainfall (inches)\",\"Rainfall (inches)\",\"Rainfall (inches)\",\"Rainfall (inches)\",\"Rainfall (inches)\",\"Rainfall (inches)\",\"Rainfall (inches)\",\"Rainfall (inches)\",\"Rainfall (inches)\",\"Rainfall (inches)\",\"Rainfall (inches)\",\"Rainfall (inches)\",\"Rainfall (inches)\",\"Rainfall (inches)\",\"Rainfall (inches)\",\"Rainfall (inches)\",\"Rainfall (inches)\",\"Rainfall (inches)\",\"Rainfall (inches)\",\"Rainfall (inches)\",\"Rainfall (inches)\",\"Rainfall (inches)\",\"Rainfall (inches)\",\"Rainfall (inches)\",\"Rainfall (inches)\",\"Rainfall (inches)\",\"Rainfall (inches)\",\"Rainfall (inches)\",\"Rainfall (inches)\",\"Rainfall (inches)\",\"Rainfall (inches)\",\"Rainfall (inches)\",\"Rainfall (inches)\",\"Rainfall (inches)\",\"Rainfall (inches)\",\"Rainfall (inches)\",\"Rainfall (inches)\",\"Rainfall (inches)\",\"Rainfall (inches)\",\"Rainfall (inches)\",\"Rainfall (inches)\",\"Rainfall (inches)\",\"Rainfall (inches)\",\"Rainfall (inches)\",\"Rainfall (inches)\",\"Rainfall (inches)\",\"Rainfall (inches)\",\"Rainfall (inches)\",\"Rainfall (inches)\",\"Rainfall (inches)\",\"Rainfall (inches)\",\"Rainfall (inches)\",\"Rainfall (inches)\",\"Rainfall (inches)\",\"Rainfall (inches)\",\"Rainfall (inches)\",\"Rainfall (inches)\",\"Rainfall (inches)\",\"Rainfall (inches)\",\"Rainfall (inches)\",\"Rainfall (inches)\",\"Rainfall (inches)\",\"Rainfall (inches)\",\"Rainfall (inches)\",\"Rainfall (inches)\",\"Rainfall (inches)\",\"Rainfall (inches)\",\"Rainfall (inches)\",\"Rainfall (inches)\",\"Rainfall (inches)\",\"Rainfall (inches)\",\"Rainfall (inches)\",\"Rainfall (inches)\",\"Rainfall (inches)\",\"Rainfall (inches)\",\"Rainfall (inches)\",\"Rainfall (inches)\",\"Rainfall (inches)\",\"Rainfall (inches)\",\"Rainfall (inches)\",\"Rainfall (inches)\",\"Rainfall (inches)\",\"Rainfall (inches)\",\"Rainfall (inches)\",\"Rainfall (inches)\",\"Rainfall (inches)\",\"Rainfall (inches)\",\"Rainfall (inches)\",\"Rainfall (inches)\",\"Rainfall (inches)\",\"Rainfall (inches)\",\"Rainfall (inches)\",\"Rainfall (inches)\",\"Rainfall (inches)\",\"Rainfall (inches)\",\"Rainfall (inches)\",\"Rainfall (inches)\",\"Rainfall (inches)\",\"Rainfall (inches)\",\"Rainfall (inches)\",\"Rainfall (inches)\",\"Rainfall (inches)\",\"Rainfall (inches)\",\"Rainfall (inches)\",\"Rainfall (inches)\",\"Rainfall (inches)\",\"Rainfall (inches)\",\"Rainfall (inches)\",\"Rainfall (inches)\",\"Rainfall (inches)\",\"Rainfall (inches)\",\"Rainfall (inches)\",\"Rainfall (inches)\",\"Rainfall (inches)\",\"Rainfall (inches)\",\"Rainfall (inches)\",\"Rainfall (inches)\",\"Rainfall (inches)\",\"Rainfall (inches)\",\"Rainfall (inches)\",\"Rainfall (inches)\",\"Rainfall (inches)\",\"Rainfall (inches)\",\"Rainfall (inches)\",\"Rainfall (inches)\",\"Rainfall (inches)\",\"Rainfall (inches)\",\"Rainfall (inches)\",\"Rainfall (inches)\",\"Rainfall (inches)\",\"Rainfall (inches)\",\"Rainfall (inches)\",\"Rainfall (inches)\",\"Rainfall (inches)\",\"Rainfall (inches)\",\"Rainfall (inches)\",\"Rainfall (inches)\",\"Rainfall (inches)\",\"Rainfall (inches)\",\"Rainfall (inches)\",\"Rainfall (inches)\",\"Rainfall (inches)\",\"Rainfall (inches)\",\"Rainfall (inches)\",\"Rainfall (inches)\",\"Rainfall (inches)\",\"Rainfall (inches)\",\"Rainfall (inches)\",\"Rainfall (inches)\",\"Rainfall (inches)\",\"Rainfall (inches)\",\"Rainfall (inches)\",\"Rainfall (inches)\",\"Rainfall (inches)\",\"Rainfall (inches)\",\"Rainfall (inches)\",\"Rainfall (inches)\",\"Rainfall (inches)\",\"Rainfall (inches)\",\"Rainfall (inches)\",\"Rainfall (inches)\",\"Rainfall (inches)\",\"Rainfall (inches)\",\"Rainfall (inches)\",\"Rainfall (inches)\",\"Rainfall (inches)\",\"Rainfall (inches)\",\"Rainfall (inches)\",\"Rainfall (inches)\",\"Rainfall (inches)\",\"Rainfall (inches)\",\"Rainfall (inches)\",\"Rainfall (inches)\",\"Rainfall (inches)\",\"Rainfall (inches)\",\"Rainfall (inches)\",\"Rainfall (inches)\",\"Rainfall (inches)\",\"Rainfall (inches)\",\"Rainfall (inches)\",\"Rainfall (inches)\"]]]}}},\"view\":{\"type\":\"object\",\"name\":\"CDSView\",\"id\":\"p1093\",\"attributes\":{\"filter\":{\"type\":\"object\",\"name\":\"AllIndices\",\"id\":\"p1094\"}}},\"glyph\":{\"type\":\"object\",\"name\":\"Line\",\"id\":\"p1089\",\"attributes\":{\"tags\":[\"apply_ranges\"],\"x\":{\"type\":\"field\",\"field\":\"date-month\"},\"y\":{\"type\":\"field\",\"field\":\"Rainfall (inches)\"},\"line_color\":\"#fc4f30\",\"line_width\":2}},\"selection_glyph\":{\"type\":\"object\",\"name\":\"Line\",\"id\":\"p1096\",\"attributes\":{\"tags\":[\"apply_ranges\"],\"x\":{\"type\":\"field\",\"field\":\"date-month\"},\"y\":{\"type\":\"field\",\"field\":\"Rainfall (inches)\"},\"line_color\":\"#fc4f30\",\"line_width\":2}},\"nonselection_glyph\":{\"type\":\"object\",\"name\":\"Line\",\"id\":\"p1090\",\"attributes\":{\"tags\":[\"apply_ranges\"],\"x\":{\"type\":\"field\",\"field\":\"date-month\"},\"y\":{\"type\":\"field\",\"field\":\"Rainfall (inches)\"},\"line_color\":\"#fc4f30\",\"line_alpha\":0.1,\"line_width\":2}},\"muted_glyph\":{\"type\":\"object\",\"name\":\"Line\",\"id\":\"p1091\",\"attributes\":{\"tags\":[\"apply_ranges\"],\"x\":{\"type\":\"field\",\"field\":\"date-month\"},\"y\":{\"type\":\"field\",\"field\":\"Rainfall (inches)\"},\"line_color\":\"#fc4f30\",\"line_alpha\":0.2,\"line_width\":2}}}}],\"toolbar\":{\"type\":\"object\",\"name\":\"Toolbar\",\"id\":\"p1032\",\"attributes\":{\"tools\":[{\"type\":\"object\",\"name\":\"WheelZoomTool\",\"id\":\"p1018\",\"attributes\":{\"tags\":[\"hv_created\"],\"renderers\":\"auto\",\"zoom_together\":\"none\"}},{\"type\":\"object\",\"name\":\"HoverTool\",\"id\":\"p1019\",\"attributes\":{\"tags\":[\"hv_created\"],\"renderers\":[{\"id\":\"p1077\"}],\"tooltips\":[[\"Variable\",\"@{Variable}\"],[\"date-month\",\"@{date_hyphen_minus_month}{%F %T}\"],[\"value\",\"@{AMOUNT}\"]],\"formatters\":{\"type\":\"map\",\"entries\":[[\"@{date-month}\",\"datetime\"],[\"@{date_hyphen_minus_month}\",\"datetime\"]]}}},{\"type\":\"object\",\"name\":\"HoverTool\",\"id\":\"p1022\",\"attributes\":{\"tags\":[\"hv_created\"],\"renderers\":[{\"id\":\"p1092\"}],\"tooltips\":[[\"Variable\",\"@{Variable}\"],[\"date-month\",\"@{date_hyphen_minus_month}{%F %T}\"],[\"value\",\"@{Rainfall_left_parenthesis_inches_right_parenthesis}\"]],\"formatters\":{\"type\":\"map\",\"entries\":[[\"@{date-month}\",\"datetime\"],[\"@{date_hyphen_minus_month}\",\"datetime\"]]}}},{\"type\":\"object\",\"name\":\"SaveTool\",\"id\":\"p1057\"},{\"type\":\"object\",\"name\":\"PanTool\",\"id\":\"p1058\"},{\"type\":\"object\",\"name\":\"BoxZoomTool\",\"id\":\"p1059\",\"attributes\":{\"overlay\":{\"type\":\"object\",\"name\":\"BoxAnnotation\",\"id\":\"p1060\",\"attributes\":{\"syncable\":false,\"line_color\":\"black\",\"line_alpha\":1.0,\"line_width\":2,\"line_dash\":[4,4],\"fill_color\":\"lightgrey\",\"fill_alpha\":0.5,\"level\":\"overlay\",\"visible\":false,\"left\":{\"type\":\"number\",\"value\":\"nan\"},\"right\":{\"type\":\"number\",\"value\":\"nan\"},\"top\":{\"type\":\"number\",\"value\":\"nan\"},\"bottom\":{\"type\":\"number\",\"value\":\"nan\"},\"left_units\":\"canvas\",\"right_units\":\"canvas\",\"top_units\":\"canvas\",\"bottom_units\":\"canvas\",\"handles\":{\"type\":\"object\",\"name\":\"BoxInteractionHandles\",\"id\":\"p1066\",\"attributes\":{\"all\":{\"type\":\"object\",\"name\":\"AreaVisuals\",\"id\":\"p1065\",\"attributes\":{\"fill_color\":\"white\",\"hover_fill_color\":\"lightgray\"}}}}}}}},{\"type\":\"object\",\"name\":\"ResetTool\",\"id\":\"p1067\"}],\"active_drag\":{\"id\":\"p1058\"},\"active_scroll\":{\"id\":\"p1018\"}}},\"left\":[{\"type\":\"object\",\"name\":\"LinearAxis\",\"id\":\"p1052\",\"attributes\":{\"ticker\":{\"type\":\"object\",\"name\":\"BasicTicker\",\"id\":\"p1053\",\"attributes\":{\"mantissas\":[1,2,5]}},\"formatter\":{\"type\":\"object\",\"name\":\"BasicTickFormatter\",\"id\":\"p1054\"},\"axis_label\":\"\",\"major_label_policy\":{\"type\":\"object\",\"name\":\"AllLabels\",\"id\":\"p1055\"}}}],\"right\":[{\"type\":\"object\",\"name\":\"Legend\",\"id\":\"p1080\",\"attributes\":{\"location\":[0,0],\"title\":\"Variable\",\"click_policy\":\"mute\",\"items\":[{\"type\":\"object\",\"name\":\"LegendItem\",\"id\":\"p1081\",\"attributes\":{\"label\":{\"type\":\"value\",\"value\":\"AMOUNT\"},\"renderers\":[{\"id\":\"p1077\"}]}},{\"type\":\"object\",\"name\":\"LegendItem\",\"id\":\"p1095\",\"attributes\":{\"label\":{\"type\":\"value\",\"value\":\"Rainfall (inches)\"},\"renderers\":[{\"id\":\"p1092\"}]}}]}}],\"below\":[{\"type\":\"object\",\"name\":\"DatetimeAxis\",\"id\":\"p1035\",\"attributes\":{\"ticker\":{\"type\":\"object\",\"name\":\"DatetimeTicker\",\"id\":\"p1036\",\"attributes\":{\"num_minor_ticks\":5,\"tickers\":[{\"type\":\"object\",\"name\":\"AdaptiveTicker\",\"id\":\"p1037\",\"attributes\":{\"num_minor_ticks\":0,\"mantissas\":[1,2,5],\"max_interval\":500.0}},{\"type\":\"object\",\"name\":\"AdaptiveTicker\",\"id\":\"p1038\",\"attributes\":{\"num_minor_ticks\":0,\"base\":60,\"mantissas\":[1,2,5,10,15,20,30],\"min_interval\":1000.0,\"max_interval\":1800000.0}},{\"type\":\"object\",\"name\":\"AdaptiveTicker\",\"id\":\"p1039\",\"attributes\":{\"num_minor_ticks\":0,\"base\":24,\"mantissas\":[1,2,4,6,8,12],\"min_interval\":3600000.0,\"max_interval\":43200000.0}},{\"type\":\"object\",\"name\":\"DaysTicker\",\"id\":\"p1040\",\"attributes\":{\"days\":[1,2,3,4,5,6,7,8,9,10,11,12,13,14,15,16,17,18,19,20,21,22,23,24,25,26,27,28,29,30,31]}},{\"type\":\"object\",\"name\":\"DaysTicker\",\"id\":\"p1041\",\"attributes\":{\"days\":[1,4,7,10,13,16,19,22,25,28]}},{\"type\":\"object\",\"name\":\"DaysTicker\",\"id\":\"p1042\",\"attributes\":{\"days\":[1,8,15,22]}},{\"type\":\"object\",\"name\":\"DaysTicker\",\"id\":\"p1043\",\"attributes\":{\"days\":[1,15]}},{\"type\":\"object\",\"name\":\"MonthsTicker\",\"id\":\"p1044\",\"attributes\":{\"months\":[0,1,2,3,4,5,6,7,8,9,10,11]}},{\"type\":\"object\",\"name\":\"MonthsTicker\",\"id\":\"p1045\",\"attributes\":{\"months\":[0,2,4,6,8,10]}},{\"type\":\"object\",\"name\":\"MonthsTicker\",\"id\":\"p1046\",\"attributes\":{\"months\":[0,4,8]}},{\"type\":\"object\",\"name\":\"MonthsTicker\",\"id\":\"p1047\",\"attributes\":{\"months\":[0,6]}},{\"type\":\"object\",\"name\":\"YearsTicker\",\"id\":\"p1048\"}]}},\"formatter\":{\"type\":\"object\",\"name\":\"DatetimeTickFormatter\",\"id\":\"p1049\"},\"axis_label\":\"date-month\",\"major_label_orientation\":0.7853981633974483,\"major_label_policy\":{\"type\":\"object\",\"name\":\"AllLabels\",\"id\":\"p1050\"}}}],\"center\":[{\"type\":\"object\",\"name\":\"Grid\",\"id\":\"p1051\",\"attributes\":{\"axis\":{\"id\":\"p1035\"},\"grid_line_color\":null}},{\"type\":\"object\",\"name\":\"Grid\",\"id\":\"p1056\",\"attributes\":{\"dimension\":1,\"axis\":{\"id\":\"p1052\"},\"grid_line_color\":null}}],\"min_border_top\":10,\"min_border_bottom\":10,\"min_border_left\":10,\"min_border_right\":10,\"output_backend\":\"webgl\"}},{\"type\":\"object\",\"name\":\"Spacer\",\"id\":\"p1098\",\"attributes\":{\"name\":\"HSpacer00932\",\"stylesheets\":[\"\\n:host(.pn-loading):before, .pn-loading:before {\\n  background-color: #c3c3c3;\\n  mask-size: auto calc(min(50%, 400px));\\n  -webkit-mask-size: auto calc(min(50%, 400px));\\n}\",{\"id\":\"p1011\"},{\"id\":\"p1009\"},{\"id\":\"p1010\"}],\"margin\":0,\"sizing_mode\":\"stretch_width\",\"align\":\"start\"}}]}}],\"defs\":[{\"type\":\"model\",\"name\":\"ReactiveHTML1\"},{\"type\":\"model\",\"name\":\"FlexBox1\",\"properties\":[{\"name\":\"align_content\",\"kind\":\"Any\",\"default\":\"flex-start\"},{\"name\":\"align_items\",\"kind\":\"Any\",\"default\":\"flex-start\"},{\"name\":\"flex_direction\",\"kind\":\"Any\",\"default\":\"row\"},{\"name\":\"flex_wrap\",\"kind\":\"Any\",\"default\":\"wrap\"},{\"name\":\"gap\",\"kind\":\"Any\",\"default\":\"\"},{\"name\":\"justify_content\",\"kind\":\"Any\",\"default\":\"flex-start\"}]},{\"type\":\"model\",\"name\":\"FloatPanel1\",\"properties\":[{\"name\":\"config\",\"kind\":\"Any\",\"default\":{\"type\":\"map\"}},{\"name\":\"contained\",\"kind\":\"Any\",\"default\":true},{\"name\":\"position\",\"kind\":\"Any\",\"default\":\"right-top\"},{\"name\":\"offsetx\",\"kind\":\"Any\",\"default\":null},{\"name\":\"offsety\",\"kind\":\"Any\",\"default\":null},{\"name\":\"theme\",\"kind\":\"Any\",\"default\":\"primary\"},{\"name\":\"status\",\"kind\":\"Any\",\"default\":\"normalized\"}]},{\"type\":\"model\",\"name\":\"GridStack1\",\"properties\":[{\"name\":\"ncols\",\"kind\":\"Any\",\"default\":null},{\"name\":\"nrows\",\"kind\":\"Any\",\"default\":null},{\"name\":\"allow_resize\",\"kind\":\"Any\",\"default\":true},{\"name\":\"allow_drag\",\"kind\":\"Any\",\"default\":true},{\"name\":\"state\",\"kind\":\"Any\",\"default\":[]}]},{\"type\":\"model\",\"name\":\"drag1\",\"properties\":[{\"name\":\"slider_width\",\"kind\":\"Any\",\"default\":5},{\"name\":\"slider_color\",\"kind\":\"Any\",\"default\":\"black\"},{\"name\":\"value\",\"kind\":\"Any\",\"default\":50}]},{\"type\":\"model\",\"name\":\"click1\",\"properties\":[{\"name\":\"terminal_output\",\"kind\":\"Any\",\"default\":\"\"},{\"name\":\"debug_name\",\"kind\":\"Any\",\"default\":\"\"},{\"name\":\"clears\",\"kind\":\"Any\",\"default\":0}]},{\"type\":\"model\",\"name\":\"FastWrapper1\",\"properties\":[{\"name\":\"object\",\"kind\":\"Any\",\"default\":null},{\"name\":\"style\",\"kind\":\"Any\",\"default\":null}]},{\"type\":\"model\",\"name\":\"NotificationArea1\",\"properties\":[{\"name\":\"js_events\",\"kind\":\"Any\",\"default\":{\"type\":\"map\"}},{\"name\":\"max_notifications\",\"kind\":\"Any\",\"default\":5},{\"name\":\"notifications\",\"kind\":\"Any\",\"default\":[]},{\"name\":\"position\",\"kind\":\"Any\",\"default\":\"bottom-right\"},{\"name\":\"_clear\",\"kind\":\"Any\",\"default\":0},{\"name\":\"types\",\"kind\":\"Any\",\"default\":[{\"type\":\"map\",\"entries\":[[\"type\",\"warning\"],[\"background\",\"#ffc107\"],[\"icon\",{\"type\":\"map\",\"entries\":[[\"className\",\"fas fa-exclamation-triangle\"],[\"tagName\",\"i\"],[\"color\",\"white\"]]}]]},{\"type\":\"map\",\"entries\":[[\"type\",\"info\"],[\"background\",\"#007bff\"],[\"icon\",{\"type\":\"map\",\"entries\":[[\"className\",\"fas fa-info-circle\"],[\"tagName\",\"i\"],[\"color\",\"white\"]]}]]}]}]},{\"type\":\"model\",\"name\":\"Notification\",\"properties\":[{\"name\":\"background\",\"kind\":\"Any\",\"default\":null},{\"name\":\"duration\",\"kind\":\"Any\",\"default\":3000},{\"name\":\"icon\",\"kind\":\"Any\",\"default\":null},{\"name\":\"message\",\"kind\":\"Any\",\"default\":\"\"},{\"name\":\"notification_type\",\"kind\":\"Any\",\"default\":null},{\"name\":\"_rendered\",\"kind\":\"Any\",\"default\":false},{\"name\":\"_destroyed\",\"kind\":\"Any\",\"default\":false}]},{\"type\":\"model\",\"name\":\"TemplateActions1\",\"properties\":[{\"name\":\"open_modal\",\"kind\":\"Any\",\"default\":0},{\"name\":\"close_modal\",\"kind\":\"Any\",\"default\":0}]},{\"type\":\"model\",\"name\":\"BootstrapTemplateActions1\",\"properties\":[{\"name\":\"open_modal\",\"kind\":\"Any\",\"default\":0},{\"name\":\"close_modal\",\"kind\":\"Any\",\"default\":0}]},{\"type\":\"model\",\"name\":\"TemplateEditor1\",\"properties\":[{\"name\":\"layout\",\"kind\":\"Any\",\"default\":[]}]},{\"type\":\"model\",\"name\":\"MaterialTemplateActions1\",\"properties\":[{\"name\":\"open_modal\",\"kind\":\"Any\",\"default\":0},{\"name\":\"close_modal\",\"kind\":\"Any\",\"default\":0}]},{\"type\":\"model\",\"name\":\"ReactiveESM1\",\"properties\":[{\"name\":\"esm_constants\",\"kind\":\"Any\",\"default\":{\"type\":\"map\"}}]},{\"type\":\"model\",\"name\":\"JSComponent1\",\"properties\":[{\"name\":\"esm_constants\",\"kind\":\"Any\",\"default\":{\"type\":\"map\"}}]},{\"type\":\"model\",\"name\":\"ReactComponent1\",\"properties\":[{\"name\":\"esm_constants\",\"kind\":\"Any\",\"default\":{\"type\":\"map\"}}]},{\"type\":\"model\",\"name\":\"AnyWidgetComponent1\",\"properties\":[{\"name\":\"esm_constants\",\"kind\":\"Any\",\"default\":{\"type\":\"map\"}}]},{\"type\":\"model\",\"name\":\"request_value1\",\"properties\":[{\"name\":\"fill\",\"kind\":\"Any\",\"default\":\"none\"},{\"name\":\"_synced\",\"kind\":\"Any\",\"default\":null},{\"name\":\"_request_sync\",\"kind\":\"Any\",\"default\":0}]}]}};\n",
              "  var render_items = [{\"docid\":\"ab20ce67-3aa5-4106-aebd-be5a9977e549\",\"roots\":{\"p1008\":\"d55971db-2c81-4348-91b8-12e74077baf6\"},\"root_ids\":[\"p1008\"]}];\n",
              "  var docs = Object.values(docs_json)\n",
              "  if (!docs) {\n",
              "    return\n",
              "  }\n",
              "  const py_version = docs[0].version.replace('rc', '-rc.').replace('.dev', '-dev.')\n",
              "  async function embed_document(root) {\n",
              "    var Bokeh = get_bokeh(root)\n",
              "    await Bokeh.embed.embed_items_notebook(docs_json, render_items);\n",
              "    for (const render_item of render_items) {\n",
              "      for (const root_id of render_item.root_ids) {\n",
              "\tconst id_el = document.getElementById(root_id)\n",
              "\tif (id_el.children.length && id_el.children[0].hasAttribute('data-root-id')) {\n",
              "\t  const root_el = id_el.children[0]\n",
              "\t  root_el.id = root_el.id + '-rendered'\n",
              "\t  for (const child of root_el.children) {\n",
              "            // Ensure JupyterLab does not capture keyboard shortcuts\n",
              "            // see: https://jupyterlab.readthedocs.io/en/4.1.x/extension/notebook.html#keyboard-interaction-model\n",
              "\t    child.setAttribute('data-lm-suppress-shortcuts', 'true')\n",
              "\t  }\n",
              "\t}\n",
              "      }\n",
              "    }\n",
              "  }\n",
              "  function get_bokeh(root) {\n",
              "    if (root.Bokeh === undefined) {\n",
              "      return null\n",
              "    } else if (root.Bokeh.version !== py_version) {\n",
              "      if (root.Bokeh.versions === undefined || !root.Bokeh.versions.has(py_version)) {\n",
              "\treturn null\n",
              "      }\n",
              "      return root.Bokeh.versions.get(py_version);\n",
              "    } else if (root.Bokeh.version === py_version) {\n",
              "      return root.Bokeh\n",
              "    }\n",
              "    return null\n",
              "  }\n",
              "  function is_loaded(root) {\n",
              "    var Bokeh = get_bokeh(root)\n",
              "    return (Bokeh != null && Bokeh.Panel !== undefined)\n",
              "  }\n",
              "  if (is_loaded(root)) {\n",
              "    embed_document(root);\n",
              "  } else {\n",
              "    var attempts = 0;\n",
              "    var timer = setInterval(function(root) {\n",
              "      if (is_loaded(root)) {\n",
              "        clearInterval(timer);\n",
              "        embed_document(root);\n",
              "      } else if (document.readyState == \"complete\") {\n",
              "        attempts++;\n",
              "        if (attempts > 200) {\n",
              "          clearInterval(timer);\n",
              "\t  var Bokeh = get_bokeh(root)\n",
              "\t  if (Bokeh == null || Bokeh.Panel == null) {\n",
              "            console.warn(\"Panel: ERROR: Unable to run Panel code because Bokeh or Panel library is missing\");\n",
              "\t  } else {\n",
              "\t    console.warn(\"Panel: WARNING: Attempting to render but not all required libraries could be resolved.\")\n",
              "\t    embed_document(root)\n",
              "\t  }\n",
              "        }\n",
              "      }\n",
              "    }, 25, root)\n",
              "  }\n",
              "})(window);</script>"
            ],
            "application/vnd.holoviews_exec.v0+json": "",
            "text/plain": [
              ":NdOverlay   [Variable]\n",
              "   :Curve   [date-month]   (value)"
            ]
          },
          "metadata": {
            "application/vnd.holoviews_exec.v0+json": {
              "id": "p1008"
            }
          },
          "execution_count": 37
        }
      ]
    },
    {
      "cell_type": "code",
      "source": [],
      "metadata": {
        "id": "7CbKEBwiMspw"
      },
      "execution_count": null,
      "outputs": []
    }
  ]
}